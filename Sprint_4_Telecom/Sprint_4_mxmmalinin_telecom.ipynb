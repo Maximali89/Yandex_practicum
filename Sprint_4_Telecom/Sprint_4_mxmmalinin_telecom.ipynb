{
 "cells": [
  {
   "cell_type": "markdown",
   "metadata": {},
   "source": [
    " <h1 style=\"color:green; margin-bottom:20px\">Комментарий ревьюера v1</h1>\n",
    "\n",
    "Максим привет! Меня зовут Дмитрий Пышненко, и я буду проверять твой проект. Предлагаю общаться на «ты» если ты не против 😊 Но если нет, то дай знать, и мы перейдем на \"вы\". \n",
    "    \n",
    "Для своих комментариев я буду использовать цветовую разметку:\n",
    "\n",
    "<div class=\"alert alert-success\">\n",
    "    <b>Успех:</b> все сделано правильно.\n",
    "</div>\n",
    "<div class=\"alert alert-warning\">\n",
    "    <b>Есть замечания:</b> так выделены небольшие замечания которые не критичны, но было бы здорово исправить. Если таких замечаний немного, то такой проект может быть принят.\n",
    "</div>\n",
    "<div class=\"alert alert-danger\">\n",
    "    <b>Нужно переделать:</b> есть замечания которые необходимо исправить или доделать для сдачи проекта.\n",
    "</div>\n",
    "    \n",
    "Я буду поддерживать версионность комментариев, и при следующих итерациях я буду оставлять ячейки с новой версией v2 (v3 и.т.д.)\"\n",
    "    \n",
    "Если у тебя есть вопросы, замечания или отвечаешь на комментарии — пиши об этом. Мне будет легче отследить изменения, если ты выделишь свои комментарии: \n",
    "<div class=\"alert alert-info\"> <b>Комментарий студента:</b> Например, вот так.</div>"
   ]
  },
  {
   "cell_type": "markdown",
   "metadata": {},
   "source": [
    "<b>Комментарий ревьюера v1:</b>\n",
    "    \n",
    "<b>Общее впечатление:</b> \n",
    "    \n",
    "- У тебя получилась отличная работа, поздравляю! Очень чистый код и структурированный подход к решению задачи. \n",
    "- Оставил одно совсем маленькое замечание которые необходимо исправить для сдачи проекта:\n",
    "    - Поправить округление для веб-трафика.\n",
    "    \n",
    "Буду ждать новую версию на повторную проверку. Успехов!\n",
    "    \n",
    "</div>"
   ]
  },
  {
   "cell_type": "markdown",
   "metadata": {},
   "source": [
    "<b>Комментарий ревьюера v2:</b>\n",
    "    \n",
    "Спасибо, что оперативно внес исправления!\n",
    "    \n",
    "Было интересно проверять твой проект и желаю успехов на следующих спринтах 🔥\n",
    "    \n",
    "</div>"
   ]
  },
  {
   "cell_type": "markdown",
   "metadata": {},
   "source": [
    "<h1>Содержание<span class=\"tocSkip\"></span></h1>\n",
    "<div class=\"toc\"><ul class=\"toc-item\"><li><span><a href=\"#Изучение-данных-из-файла\" data-toc-modified-id=\"Изучение-данных-из-файла-1\"><span class=\"toc-item-num\">1&nbsp;&nbsp;</span>Изучение данных из файла</a></span><ul class=\"toc-item\"><li><span><a href=\"#Вывод\" data-toc-modified-id=\"Вывод-1.1\"><span class=\"toc-item-num\">1.1&nbsp;&nbsp;</span>Вывод</a></span></li></ul></li><li><span><a href=\"#Предобработка-данных\" data-toc-modified-id=\"Предобработка-данных-2\"><span class=\"toc-item-num\">2&nbsp;&nbsp;</span>Предобработка данных</a></span></li><li><span><a href=\"#Анализ данных\" data-toc-modified-id=\"Анализ данных\"><span class=\"toc-item-num\">3&nbsp;&nbsp;</span>Анализ данных</a></span></li><li><span><a href=\"#Проверка гипотез\" data-toc-modified-id=\"Проверка гипотез\"><span class=\"toc-item-num\">4&nbsp;&nbsp;</span>Проверка гипотез</a></span></li><li><span><a href=\"#Общий-вывод\" data-toc-modified-id=\"Общий-вывод-5\"><span class=\"toc-item-num\">5&nbsp;&nbsp;</span>Общий вывод</a></span></li><li><span><a href=\"#Чек-лист-готовности-проекта\" data-toc-modified-id=\"Чек-лист-готовности-проекта-6\"><span class=\"toc-item-num\">6&nbsp;&nbsp;</span>Чек-лист готовности проекта</a></span></li></ul></div>"
   ]
  },
  {
   "cell_type": "markdown",
   "metadata": {},
   "source": [
    "# Определение перспективного тарифа для телеком компании\n",
    "\n",
    "Вы аналитик компании «Мегалайн» — федерального оператора сотовой связи. Клиентам предлагают два тарифных плана: «Смарт» и «Ультра». Чтобы скорректировать рекламный бюджет, коммерческий департамент хочет понять, какой тариф приносит больше денег.\n",
    "\n",
    "Вам предстоит сделать предварительный анализ тарифов на небольшой выборке клиентов.\n",
    "В вашем распоряжении данные 500 пользователей «Мегалайна»: кто они, откуда, каким тарифом пользуются, сколько звонков и сообщений каждый отправил за 2018 год. Нужно проанализировать поведение клиентов и сделать вывод — какой тариф лучше. "
   ]
  },
  {
   "cell_type": "markdown",
   "metadata": {},
   "source": [
    "<div class=\"alert alert-success\">\n",
    "<b>Комментарий ревьюера v1:</b>\n",
    " \n",
    "Хорошо! Краткое вступление (ReadMe) проекта есть. \n",
    "</div>\n"
   ]
  },
  {
   "cell_type": "markdown",
   "metadata": {},
   "source": [
    "## Изучение данных из файла"
   ]
  },
  {
   "cell_type": "code",
   "execution_count": 1,
   "metadata": {},
   "outputs": [],
   "source": [
    "import pandas as pd\n",
    "import numpy as np\n",
    "from scipy import stats as st\n",
    "import seaborn as sns\n",
    "import matplotlib.pyplot as plt\n",
    "from math import ceil                    #Функция для округления чисел до большего значения\n",
    "from tqdm import tqdm\n",
    "\n",
    "\n",
    "plt.style.use('seaborn-ticks') \n",
    "sns.set_style('ticks', {'axes.grid': 'True'})\n",
    "%matplotlib inline"
   ]
  },
  {
   "cell_type": "code",
   "execution_count": 2,
   "metadata": {
    "scrolled": true
   },
   "outputs": [
    {
     "name": "stderr",
     "output_type": "stream",
     "text": [
      "/opt/conda/lib/python3.7/site-packages/tqdm/std.py:703: FutureWarning: The Panel class is removed from pandas. Accessing it from the top-level namespace will also be removed in the next version\n",
      "  from pandas import Panel\n"
     ]
    }
   ],
   "source": [
    "tqdm.pandas()"
   ]
  },
  {
   "cell_type": "markdown",
   "metadata": {},
   "source": [
    "Откроем файлы с данными о звонках, интернет-сессиях, сообщениях, пользователях и тарифах, и сохраним их в соответствующих датафреймах, используя метод pd.read_csv() библиотеки pandas."
   ]
  },
  {
   "cell_type": "code",
   "execution_count": 3,
   "metadata": {},
   "outputs": [],
   "source": [
    "calls = pd.read_csv('/datasets/calls.csv')          #импортируем датасет с информацией о звонках\n",
    "internet = pd.read_csv('/datasets/internet.csv')    #импортируем датасет с информацией об интернет сессиях\n",
    "messages = pd.read_csv('/datasets/messages.csv')    #импортируем датасет с информацией о сообщениях\n",
    "tariffs = pd.read_csv('/datasets/tariffs.csv')      #импортируем датасет с информацией о тарифах\n",
    "users = pd.read_csv('/datasets/users.csv')          #импортируем датасет с информацией о пользователях"
   ]
  },
  {
   "cell_type": "markdown",
   "metadata": {},
   "source": [
    "<div class=\"alert alert-success\">\n",
    "<b>Комментарий ревьюера v1:</b>\n",
    "    \n",
    "Отлично! Загрузка библиотек и данных сгруппированы. \n",
    "</div>\n"
   ]
  },
  {
   "cell_type": "markdown",
   "metadata": {},
   "source": [
    "### Таблица calls - информация о звонках."
   ]
  },
  {
   "cell_type": "markdown",
   "metadata": {},
   "source": [
    "Следующий датафрейм содержит информацию о звонках клиентов, посмотрим, что в нем сохранено:"
   ]
  },
  {
   "cell_type": "code",
   "execution_count": 4,
   "metadata": {},
   "outputs": [
    {
     "data": {
      "text/html": [
       "<div>\n",
       "<style scoped>\n",
       "    .dataframe tbody tr th:only-of-type {\n",
       "        vertical-align: middle;\n",
       "    }\n",
       "\n",
       "    .dataframe tbody tr th {\n",
       "        vertical-align: top;\n",
       "    }\n",
       "\n",
       "    .dataframe thead th {\n",
       "        text-align: right;\n",
       "    }\n",
       "</style>\n",
       "<table border=\"1\" class=\"dataframe\">\n",
       "  <thead>\n",
       "    <tr style=\"text-align: right;\">\n",
       "      <th></th>\n",
       "      <th>id</th>\n",
       "      <th>call_date</th>\n",
       "      <th>duration</th>\n",
       "      <th>user_id</th>\n",
       "    </tr>\n",
       "  </thead>\n",
       "  <tbody>\n",
       "    <tr>\n",
       "      <td>0</td>\n",
       "      <td>1000_0</td>\n",
       "      <td>2018-07-25</td>\n",
       "      <td>0.00</td>\n",
       "      <td>1000</td>\n",
       "    </tr>\n",
       "    <tr>\n",
       "      <td>1</td>\n",
       "      <td>1000_1</td>\n",
       "      <td>2018-08-17</td>\n",
       "      <td>0.00</td>\n",
       "      <td>1000</td>\n",
       "    </tr>\n",
       "    <tr>\n",
       "      <td>2</td>\n",
       "      <td>1000_2</td>\n",
       "      <td>2018-06-11</td>\n",
       "      <td>2.85</td>\n",
       "      <td>1000</td>\n",
       "    </tr>\n",
       "    <tr>\n",
       "      <td>3</td>\n",
       "      <td>1000_3</td>\n",
       "      <td>2018-09-21</td>\n",
       "      <td>13.80</td>\n",
       "      <td>1000</td>\n",
       "    </tr>\n",
       "    <tr>\n",
       "      <td>4</td>\n",
       "      <td>1000_4</td>\n",
       "      <td>2018-12-15</td>\n",
       "      <td>5.18</td>\n",
       "      <td>1000</td>\n",
       "    </tr>\n",
       "  </tbody>\n",
       "</table>\n",
       "</div>"
      ],
      "text/plain": [
       "       id   call_date  duration  user_id\n",
       "0  1000_0  2018-07-25      0.00     1000\n",
       "1  1000_1  2018-08-17      0.00     1000\n",
       "2  1000_2  2018-06-11      2.85     1000\n",
       "3  1000_3  2018-09-21     13.80     1000\n",
       "4  1000_4  2018-12-15      5.18     1000"
      ]
     },
     "execution_count": 4,
     "metadata": {},
     "output_type": "execute_result"
    }
   ],
   "source": [
    "calls.head()"
   ]
  },
  {
   "cell_type": "markdown",
   "metadata": {},
   "source": [
    "Столбцы таблицы содержат следующую информацию о звонках:\n",
    "\n",
    "- id — уникальный номер звонка\n",
    "- call_date — дата звонка\n",
    "- duration — длительность звонка в минутах\n",
    "- user_id — идентификатор пользователя, сделавшего звонок"
   ]
  },
  {
   "cell_type": "markdown",
   "metadata": {},
   "source": [
    "Взглянем так же на общую информацию о датафрейме и вычислим количество грубых дубликатов в таблицах."
   ]
  },
  {
   "cell_type": "code",
   "execution_count": 5,
   "metadata": {},
   "outputs": [
    {
     "name": "stdout",
     "output_type": "stream",
     "text": [
      "<class 'pandas.core.frame.DataFrame'>\n",
      "RangeIndex: 202607 entries, 0 to 202606\n",
      "Data columns (total 4 columns):\n",
      "id           202607 non-null object\n",
      "call_date    202607 non-null object\n",
      "duration     202607 non-null float64\n",
      "user_id      202607 non-null int64\n",
      "dtypes: float64(1), int64(1), object(2)\n",
      "memory usage: 6.2+ MB\n",
      "None\n",
      "\n",
      "Количество полных дубликатов: 0\n"
     ]
    }
   ],
   "source": [
    "print(calls.info())\n",
    "print('')\n",
    "print('Количество полных дубликатов:', calls.duplicated().sum())"
   ]
  },
  {
   "cell_type": "markdown",
   "metadata": {},
   "source": [
    "В таблице 202607 строк и 4 столбца, в которых присутствуют разные типы данных: числа с плавающей точкой, целые числа и объекты python. Пропущенных значений в таблице нет."
   ]
  },
  {
   "cell_type": "markdown",
   "metadata": {},
   "source": [
    "Проверим так же столбец с продолжительностью разговора на наличие отрицательных и выбивающихся значений."
   ]
  },
  {
   "cell_type": "code",
   "execution_count": 6,
   "metadata": {},
   "outputs": [
    {
     "data": {
      "text/plain": [
       "count    202607.000000\n",
       "mean          6.755887\n",
       "std           5.843365\n",
       "min           0.000000\n",
       "25%           1.300000\n",
       "50%           6.000000\n",
       "75%          10.700000\n",
       "max          38.000000\n",
       "Name: duration, dtype: float64"
      ]
     },
     "execution_count": 6,
     "metadata": {},
     "output_type": "execute_result"
    }
   ],
   "source": [
    "calls['duration'].describe()"
   ]
  },
  {
   "cell_type": "markdown",
   "metadata": {},
   "source": [
    "Максимальное время разговора - 38 минут, среднее время разговора около 6 минут и 45 секунд или 6 минут, если судить по медиане. Минимальное время разговора 0 минут, что возможно является пропущенным значением. Вернемся к этому столбцу позднее, на этапе предобработки данных."
   ]
  },
  {
   "cell_type": "markdown",
   "metadata": {},
   "source": [
    "В датафрейме **calls** содержится информация о звонках клиентов: продолжительности, дате вызова и уникальный идентификатор звонка для каждого пользователя.\n",
    "\n",
    "- В столбце **'duration'** обнаружены звонки продолжительностью 0 секунд.\n",
    "- Даты звонков сохранены в датафрейме как объекты python. Вернемся к столбцу с датами на этапе предобработки данных и изменим их тип.\n",
    "- Грубых дубликатов в таблице нет."
   ]
  },
  {
   "cell_type": "markdown",
   "metadata": {},
   "source": [
    "### Таблица internet - информация об интернет сессиях и траффике."
   ]
  },
  {
   "cell_type": "markdown",
   "metadata": {},
   "source": [
    "В датафрейме internet содержится информация об интернет сессиях пользователей и количестве израсходованного траффика."
   ]
  },
  {
   "cell_type": "code",
   "execution_count": 7,
   "metadata": {},
   "outputs": [
    {
     "data": {
      "text/html": [
       "<div>\n",
       "<style scoped>\n",
       "    .dataframe tbody tr th:only-of-type {\n",
       "        vertical-align: middle;\n",
       "    }\n",
       "\n",
       "    .dataframe tbody tr th {\n",
       "        vertical-align: top;\n",
       "    }\n",
       "\n",
       "    .dataframe thead th {\n",
       "        text-align: right;\n",
       "    }\n",
       "</style>\n",
       "<table border=\"1\" class=\"dataframe\">\n",
       "  <thead>\n",
       "    <tr style=\"text-align: right;\">\n",
       "      <th></th>\n",
       "      <th>Unnamed: 0</th>\n",
       "      <th>id</th>\n",
       "      <th>mb_used</th>\n",
       "      <th>session_date</th>\n",
       "      <th>user_id</th>\n",
       "    </tr>\n",
       "  </thead>\n",
       "  <tbody>\n",
       "    <tr>\n",
       "      <td>0</td>\n",
       "      <td>0</td>\n",
       "      <td>1000_0</td>\n",
       "      <td>112.95</td>\n",
       "      <td>2018-11-25</td>\n",
       "      <td>1000</td>\n",
       "    </tr>\n",
       "    <tr>\n",
       "      <td>1</td>\n",
       "      <td>1</td>\n",
       "      <td>1000_1</td>\n",
       "      <td>1052.81</td>\n",
       "      <td>2018-09-07</td>\n",
       "      <td>1000</td>\n",
       "    </tr>\n",
       "    <tr>\n",
       "      <td>2</td>\n",
       "      <td>2</td>\n",
       "      <td>1000_2</td>\n",
       "      <td>1197.26</td>\n",
       "      <td>2018-06-25</td>\n",
       "      <td>1000</td>\n",
       "    </tr>\n",
       "    <tr>\n",
       "      <td>3</td>\n",
       "      <td>3</td>\n",
       "      <td>1000_3</td>\n",
       "      <td>550.27</td>\n",
       "      <td>2018-08-22</td>\n",
       "      <td>1000</td>\n",
       "    </tr>\n",
       "    <tr>\n",
       "      <td>4</td>\n",
       "      <td>4</td>\n",
       "      <td>1000_4</td>\n",
       "      <td>302.56</td>\n",
       "      <td>2018-09-24</td>\n",
       "      <td>1000</td>\n",
       "    </tr>\n",
       "  </tbody>\n",
       "</table>\n",
       "</div>"
      ],
      "text/plain": [
       "   Unnamed: 0      id  mb_used session_date  user_id\n",
       "0           0  1000_0   112.95   2018-11-25     1000\n",
       "1           1  1000_1  1052.81   2018-09-07     1000\n",
       "2           2  1000_2  1197.26   2018-06-25     1000\n",
       "3           3  1000_3   550.27   2018-08-22     1000\n",
       "4           4  1000_4   302.56   2018-09-24     1000"
      ]
     },
     "execution_count": 7,
     "metadata": {},
     "output_type": "execute_result"
    }
   ],
   "source": [
    "internet.head()"
   ]
  },
  {
   "cell_type": "markdown",
   "metadata": {},
   "source": [
    "Столбцы таблицы содержат следующую информацию об интернет-сессиях:\n",
    "\n",
    "- id — уникальный номер сессии\n",
    "- mb_used — объём потраченного за сессию интернет-трафика (в мегабайтах)\n",
    "- session_date — дата интернет-сессии\n",
    "- user_id — идентификатор пользователя"
   ]
  },
  {
   "cell_type": "markdown",
   "metadata": {},
   "source": [
    "Взглянем так же на общую информацию о датафрейме и вычислим количество грубых дубликатов в таблицах."
   ]
  },
  {
   "cell_type": "code",
   "execution_count": 8,
   "metadata": {},
   "outputs": [
    {
     "name": "stdout",
     "output_type": "stream",
     "text": [
      "<class 'pandas.core.frame.DataFrame'>\n",
      "RangeIndex: 149396 entries, 0 to 149395\n",
      "Data columns (total 5 columns):\n",
      "Unnamed: 0      149396 non-null int64\n",
      "id              149396 non-null object\n",
      "mb_used         149396 non-null float64\n",
      "session_date    149396 non-null object\n",
      "user_id         149396 non-null int64\n",
      "dtypes: float64(1), int64(2), object(2)\n",
      "memory usage: 5.7+ MB\n",
      "None\n",
      "\n",
      "Количество полных дубликатов: 0\n"
     ]
    }
   ],
   "source": [
    "print(internet.info())\n",
    "print('')\n",
    "print('Количество полных дубликатов:', internet.duplicated().sum())"
   ]
  },
  {
   "cell_type": "markdown",
   "metadata": {},
   "source": [
    "В таблице 149396 строк и 4 столбца, в которых присутствуют разные типы данных: числа с плавающей точкой, целые числа и объекты python. Для столбца с датами стоит произвести изменения типа данных с object на datetime64. Пропущенных значений в таблице нет.\n",
    "\n",
    "В таблице содержится лишний столбец **'Unnamed: 0'**, который является дубликатом столбца index. Столбец мог появиться из-за ниличия индексов в самом файле internet.csv. Данный столбец стоит удалить."
   ]
  },
  {
   "cell_type": "markdown",
   "metadata": {},
   "source": [
    "<div class=\"alert alert-warning\">\n",
    "<b>Комментарий ревьюера v1:</b>\n",
    "    \n",
    "Unnamed: 0 возникает, когда данные сохраняют с указанием индекса pd.DataFrame().to_csv(..., index=column). Если при чтении указать этот столбец pd.read_csv(..., index_col=0) - данные сразу прочитаются корректно. Index_col =0 означает, что первый столбец выбирается как индексy\n",
    "</div>"
   ]
  },
  {
   "cell_type": "markdown",
   "metadata": {},
   "source": [
    "Проверим так же столбец с количеством израсходованного траффика на наличие отрицательных и выбивающихся значений."
   ]
  },
  {
   "cell_type": "code",
   "execution_count": 9,
   "metadata": {},
   "outputs": [
    {
     "data": {
      "text/plain": [
       "count    149396.000000\n",
       "mean        370.192426\n",
       "std         278.300951\n",
       "min           0.000000\n",
       "25%         138.187500\n",
       "50%         348.015000\n",
       "75%         559.552500\n",
       "max        1724.830000\n",
       "Name: mb_used, dtype: float64"
      ]
     },
     "execution_count": 9,
     "metadata": {},
     "output_type": "execute_result"
    }
   ],
   "source": [
    "internet['mb_used'].describe()"
   ]
  },
  {
   "cell_type": "markdown",
   "metadata": {},
   "source": [
    "В среднем за сессию пользователь использует 370 мб. траффика, самое большое значение - 1725 мб., а самая маленькая сессия имеет значение 0 мб. Скорее всего это пропущенные данные, которые требуют обработки. Вернемся к ним позднее, на этапе предобработки данных.\n",
    "\n",
    "В датафрейме **internet** содержится информация об интернет сессиях клиентов, количестве использованного траффика и дате сессии.\n",
    "\n",
    "- В столбце **'mb_used'** обнаружены значения израсходавонного траффика, равные нулю.\n",
    "- Лишний столбец **'Unnamed: 0'**.\n",
    "- Даты сообщений имеют тип данных object.\n",
    "- Грубых дубликатов в таблице нет."
   ]
  },
  {
   "cell_type": "markdown",
   "metadata": {},
   "source": [
    "### Таблица messages - информация о сообщениях."
   ]
  },
  {
   "cell_type": "markdown",
   "metadata": {},
   "source": [
    "Датафрейм messages предоставляет доступ к информации о сообщениях пользователей. Взглянем на него."
   ]
  },
  {
   "cell_type": "code",
   "execution_count": 10,
   "metadata": {},
   "outputs": [
    {
     "data": {
      "text/html": [
       "<div>\n",
       "<style scoped>\n",
       "    .dataframe tbody tr th:only-of-type {\n",
       "        vertical-align: middle;\n",
       "    }\n",
       "\n",
       "    .dataframe tbody tr th {\n",
       "        vertical-align: top;\n",
       "    }\n",
       "\n",
       "    .dataframe thead th {\n",
       "        text-align: right;\n",
       "    }\n",
       "</style>\n",
       "<table border=\"1\" class=\"dataframe\">\n",
       "  <thead>\n",
       "    <tr style=\"text-align: right;\">\n",
       "      <th></th>\n",
       "      <th>id</th>\n",
       "      <th>message_date</th>\n",
       "      <th>user_id</th>\n",
       "    </tr>\n",
       "  </thead>\n",
       "  <tbody>\n",
       "    <tr>\n",
       "      <td>0</td>\n",
       "      <td>1000_0</td>\n",
       "      <td>2018-06-27</td>\n",
       "      <td>1000</td>\n",
       "    </tr>\n",
       "    <tr>\n",
       "      <td>1</td>\n",
       "      <td>1000_1</td>\n",
       "      <td>2018-10-08</td>\n",
       "      <td>1000</td>\n",
       "    </tr>\n",
       "    <tr>\n",
       "      <td>2</td>\n",
       "      <td>1000_2</td>\n",
       "      <td>2018-08-04</td>\n",
       "      <td>1000</td>\n",
       "    </tr>\n",
       "    <tr>\n",
       "      <td>3</td>\n",
       "      <td>1000_3</td>\n",
       "      <td>2018-06-16</td>\n",
       "      <td>1000</td>\n",
       "    </tr>\n",
       "    <tr>\n",
       "      <td>4</td>\n",
       "      <td>1000_4</td>\n",
       "      <td>2018-12-05</td>\n",
       "      <td>1000</td>\n",
       "    </tr>\n",
       "  </tbody>\n",
       "</table>\n",
       "</div>"
      ],
      "text/plain": [
       "       id message_date  user_id\n",
       "0  1000_0   2018-06-27     1000\n",
       "1  1000_1   2018-10-08     1000\n",
       "2  1000_2   2018-08-04     1000\n",
       "3  1000_3   2018-06-16     1000\n",
       "4  1000_4   2018-12-05     1000"
      ]
     },
     "execution_count": 10,
     "metadata": {},
     "output_type": "execute_result"
    }
   ],
   "source": [
    "messages.head()"
   ]
  },
  {
   "cell_type": "markdown",
   "metadata": {},
   "source": [
    "Столбцы таблицы содержат следующую информацию о сообщениях пользователей:\n",
    "\n",
    "- id — уникальный номер сообщения\n",
    "- message_date — дата сообщения\n",
    "- user_id — идентификатор пользователя, отправившего сообщение"
   ]
  },
  {
   "cell_type": "code",
   "execution_count": 11,
   "metadata": {},
   "outputs": [
    {
     "name": "stdout",
     "output_type": "stream",
     "text": [
      "<class 'pandas.core.frame.DataFrame'>\n",
      "RangeIndex: 123036 entries, 0 to 123035\n",
      "Data columns (total 3 columns):\n",
      "id              123036 non-null object\n",
      "message_date    123036 non-null object\n",
      "user_id         123036 non-null int64\n",
      "dtypes: int64(1), object(2)\n",
      "memory usage: 2.8+ MB\n",
      "None\n",
      "\n",
      "Количество полных дубликатов: 0\n"
     ]
    }
   ],
   "source": [
    "print(messages.info())\n",
    "print('')\n",
    "print('Количество полных дубликатов:', messages.duplicated().sum())"
   ]
  },
  {
   "cell_type": "markdown",
   "metadata": {},
   "source": [
    "В таблице 123036 строк и 3 столбца, присутствует два типа данных: целые числа и объекты python. Пропущенных значений в таблице нет.\n",
    "\n",
    "В датафрейме **messages** содержится информация о сообщениях пользователей: дате отправки и уникальном идентификаторе для каждого пользователя.\n",
    "\n",
    "- Даты отправки сообщений сохранены как объекты python.\n",
    "- Грубых дубликатов в таблице нет."
   ]
  },
  {
   "cell_type": "markdown",
   "metadata": {},
   "source": [
    "### Таблица tariffs - информация о тарифах компании \"Мегалайн\"."
   ]
  },
  {
   "cell_type": "markdown",
   "metadata": {},
   "source": [
    "Датафрейм tariffs содержит информацию о тарифах \"Смарт\" и \"Ультра\" компании \"Мегалайн\". Выведем таблицу на экран и изучим:"
   ]
  },
  {
   "cell_type": "code",
   "execution_count": 12,
   "metadata": {
    "scrolled": true
   },
   "outputs": [
    {
     "data": {
      "text/html": [
       "<div>\n",
       "<style scoped>\n",
       "    .dataframe tbody tr th:only-of-type {\n",
       "        vertical-align: middle;\n",
       "    }\n",
       "\n",
       "    .dataframe tbody tr th {\n",
       "        vertical-align: top;\n",
       "    }\n",
       "\n",
       "    .dataframe thead th {\n",
       "        text-align: right;\n",
       "    }\n",
       "</style>\n",
       "<table border=\"1\" class=\"dataframe\">\n",
       "  <thead>\n",
       "    <tr style=\"text-align: right;\">\n",
       "      <th></th>\n",
       "      <th>messages_included</th>\n",
       "      <th>mb_per_month_included</th>\n",
       "      <th>minutes_included</th>\n",
       "      <th>rub_monthly_fee</th>\n",
       "      <th>rub_per_gb</th>\n",
       "      <th>rub_per_message</th>\n",
       "      <th>rub_per_minute</th>\n",
       "      <th>tariff_name</th>\n",
       "    </tr>\n",
       "  </thead>\n",
       "  <tbody>\n",
       "    <tr>\n",
       "      <td>0</td>\n",
       "      <td>50</td>\n",
       "      <td>15360</td>\n",
       "      <td>500</td>\n",
       "      <td>550</td>\n",
       "      <td>200</td>\n",
       "      <td>3</td>\n",
       "      <td>3</td>\n",
       "      <td>smart</td>\n",
       "    </tr>\n",
       "    <tr>\n",
       "      <td>1</td>\n",
       "      <td>1000</td>\n",
       "      <td>30720</td>\n",
       "      <td>3000</td>\n",
       "      <td>1950</td>\n",
       "      <td>150</td>\n",
       "      <td>1</td>\n",
       "      <td>1</td>\n",
       "      <td>ultra</td>\n",
       "    </tr>\n",
       "  </tbody>\n",
       "</table>\n",
       "</div>"
      ],
      "text/plain": [
       "   messages_included  mb_per_month_included  minutes_included  \\\n",
       "0                 50                  15360               500   \n",
       "1               1000                  30720              3000   \n",
       "\n",
       "   rub_monthly_fee  rub_per_gb  rub_per_message  rub_per_minute tariff_name  \n",
       "0              550         200                3               3       smart  \n",
       "1             1950         150                1               1       ultra  "
      ]
     },
     "execution_count": 12,
     "metadata": {},
     "output_type": "execute_result"
    }
   ],
   "source": [
    "tariffs.head()"
   ]
  },
  {
   "cell_type": "markdown",
   "metadata": {},
   "source": [
    "Столбцы датафрейма содержат следующую информацию:\n",
    "\n",
    "- tariff_name — название тарифа\n",
    "- rub_monthly_fee — ежемесячная абонентская плата в рублях\n",
    "- minutes_included — количество минут разговора в месяц, включённых в абонентскую плату\n",
    "- messages_included — количество сообщений в месяц, включённых в абонентскую плату\n",
    "- mb_per_month_included — объём интернет-трафика, включённого в абонентскую плату (в мегабайтах)\n",
    "- rub_per_minute — стоимость минуты разговора сверх тарифного пакета (например, если в тарифе 100 минут разговора в месяц, то со 101 минуты будет взиматься плата)\n",
    "- rub_per_message — стоимость отправки сообщения сверх тарифного пакета\n",
    "- rub_per_gb — стоимость дополнительного гигабайта интернет-трафика сверх тарифного пакета (1 гигабайт = 1024 мегабайта)"
   ]
  },
  {
   "cell_type": "markdown",
   "metadata": {},
   "source": [
    "Изучим общую информацию о датафрейме и выясним, какой тип данных имеют значения в столбцах."
   ]
  },
  {
   "cell_type": "code",
   "execution_count": 13,
   "metadata": {
    "scrolled": true
   },
   "outputs": [
    {
     "name": "stdout",
     "output_type": "stream",
     "text": [
      "<class 'pandas.core.frame.DataFrame'>\n",
      "RangeIndex: 2 entries, 0 to 1\n",
      "Data columns (total 8 columns):\n",
      "messages_included        2 non-null int64\n",
      "mb_per_month_included    2 non-null int64\n",
      "minutes_included         2 non-null int64\n",
      "rub_monthly_fee          2 non-null int64\n",
      "rub_per_gb               2 non-null int64\n",
      "rub_per_message          2 non-null int64\n",
      "rub_per_minute           2 non-null int64\n",
      "tariff_name              2 non-null object\n",
      "dtypes: int64(7), object(1)\n",
      "memory usage: 256.0+ bytes\n",
      "None\n"
     ]
    }
   ],
   "source": [
    "print(tariffs.info())"
   ]
  },
  {
   "cell_type": "markdown",
   "metadata": {},
   "source": [
    "В датафрейме **tariffs** содержится общая информация о тарифах, лимиты звонков, траффика, а так же абонентская плата. Данные имеют либо целочисленный формат либо строчный, никакая обработка датафрейма не требуется."
   ]
  },
  {
   "cell_type": "markdown",
   "metadata": {},
   "source": [
    "### Таблица users - информация о пользователях."
   ]
  },
  {
   "cell_type": "markdown",
   "metadata": {},
   "source": [
    "Посмотрим на информацию о пользователях, содержащуюся в датафрейме **users**, выведя первые строки датафрейма, а так же общую информацию и количество полных дубликатов."
   ]
  },
  {
   "cell_type": "code",
   "execution_count": 14,
   "metadata": {},
   "outputs": [
    {
     "data": {
      "text/html": [
       "<div>\n",
       "<style scoped>\n",
       "    .dataframe tbody tr th:only-of-type {\n",
       "        vertical-align: middle;\n",
       "    }\n",
       "\n",
       "    .dataframe tbody tr th {\n",
       "        vertical-align: top;\n",
       "    }\n",
       "\n",
       "    .dataframe thead th {\n",
       "        text-align: right;\n",
       "    }\n",
       "</style>\n",
       "<table border=\"1\" class=\"dataframe\">\n",
       "  <thead>\n",
       "    <tr style=\"text-align: right;\">\n",
       "      <th></th>\n",
       "      <th>user_id</th>\n",
       "      <th>age</th>\n",
       "      <th>churn_date</th>\n",
       "      <th>city</th>\n",
       "      <th>first_name</th>\n",
       "      <th>last_name</th>\n",
       "      <th>reg_date</th>\n",
       "      <th>tariff</th>\n",
       "    </tr>\n",
       "  </thead>\n",
       "  <tbody>\n",
       "    <tr>\n",
       "      <td>0</td>\n",
       "      <td>1000</td>\n",
       "      <td>52</td>\n",
       "      <td>NaN</td>\n",
       "      <td>Краснодар</td>\n",
       "      <td>Рафаил</td>\n",
       "      <td>Верещагин</td>\n",
       "      <td>2018-05-25</td>\n",
       "      <td>ultra</td>\n",
       "    </tr>\n",
       "    <tr>\n",
       "      <td>1</td>\n",
       "      <td>1001</td>\n",
       "      <td>41</td>\n",
       "      <td>NaN</td>\n",
       "      <td>Москва</td>\n",
       "      <td>Иван</td>\n",
       "      <td>Ежов</td>\n",
       "      <td>2018-11-01</td>\n",
       "      <td>smart</td>\n",
       "    </tr>\n",
       "    <tr>\n",
       "      <td>2</td>\n",
       "      <td>1002</td>\n",
       "      <td>59</td>\n",
       "      <td>NaN</td>\n",
       "      <td>Стерлитамак</td>\n",
       "      <td>Евгений</td>\n",
       "      <td>Абрамович</td>\n",
       "      <td>2018-06-17</td>\n",
       "      <td>smart</td>\n",
       "    </tr>\n",
       "    <tr>\n",
       "      <td>3</td>\n",
       "      <td>1003</td>\n",
       "      <td>23</td>\n",
       "      <td>NaN</td>\n",
       "      <td>Москва</td>\n",
       "      <td>Белла</td>\n",
       "      <td>Белякова</td>\n",
       "      <td>2018-08-17</td>\n",
       "      <td>ultra</td>\n",
       "    </tr>\n",
       "    <tr>\n",
       "      <td>4</td>\n",
       "      <td>1004</td>\n",
       "      <td>68</td>\n",
       "      <td>NaN</td>\n",
       "      <td>Новокузнецк</td>\n",
       "      <td>Татьяна</td>\n",
       "      <td>Авдеенко</td>\n",
       "      <td>2018-05-14</td>\n",
       "      <td>ultra</td>\n",
       "    </tr>\n",
       "  </tbody>\n",
       "</table>\n",
       "</div>"
      ],
      "text/plain": [
       "   user_id  age churn_date         city first_name  last_name    reg_date  \\\n",
       "0     1000   52        NaN    Краснодар     Рафаил  Верещагин  2018-05-25   \n",
       "1     1001   41        NaN       Москва       Иван       Ежов  2018-11-01   \n",
       "2     1002   59        NaN  Стерлитамак    Евгений  Абрамович  2018-06-17   \n",
       "3     1003   23        NaN       Москва      Белла   Белякова  2018-08-17   \n",
       "4     1004   68        NaN  Новокузнецк    Татьяна   Авдеенко  2018-05-14   \n",
       "\n",
       "  tariff  \n",
       "0  ultra  \n",
       "1  smart  \n",
       "2  smart  \n",
       "3  ultra  \n",
       "4  ultra  "
      ]
     },
     "execution_count": 14,
     "metadata": {},
     "output_type": "execute_result"
    }
   ],
   "source": [
    "users.head()"
   ]
  },
  {
   "cell_type": "markdown",
   "metadata": {},
   "source": [
    "Столбцы таблицы содержат следующую информацию о пользователях:\n",
    "\n",
    "- user_id — уникальный идентификатор пользователя\n",
    "- first_name — имя пользователя\n",
    "- last_name — фамилия пользователя\n",
    "- age — возраст пользователя (годы)\n",
    "- reg_date — дата подключения тарифа (день, месяц, год)\n",
    "- churn_date — дата прекращения пользования тарифом (если значение пропущено, то тариф ещё действовал на момент выгрузки данных)\n",
    "- city — город проживания пользователя\n",
    "- tariff — название тарифного плана\n",
    "\n",
    "Взглянем так же на общую информацию о датафрейме и вычислим количество грубых дубликатов в таблицах."
   ]
  },
  {
   "cell_type": "code",
   "execution_count": 15,
   "metadata": {},
   "outputs": [
    {
     "name": "stdout",
     "output_type": "stream",
     "text": [
      "<class 'pandas.core.frame.DataFrame'>\n",
      "RangeIndex: 500 entries, 0 to 499\n",
      "Data columns (total 8 columns):\n",
      "user_id       500 non-null int64\n",
      "age           500 non-null int64\n",
      "churn_date    38 non-null object\n",
      "city          500 non-null object\n",
      "first_name    500 non-null object\n",
      "last_name     500 non-null object\n",
      "reg_date      500 non-null object\n",
      "tariff        500 non-null object\n",
      "dtypes: int64(2), object(6)\n",
      "memory usage: 31.4+ KB\n",
      "None\n",
      "\n",
      "Количество грубых дубликатов: 0\n"
     ]
    }
   ],
   "source": [
    "print(users.info())\n",
    "print('')\n",
    "print('Количество грубых дубликатов:', users.duplicated().sum())"
   ]
  },
  {
   "cell_type": "markdown",
   "metadata": {},
   "source": [
    "В таблице 500 строк и 8 столбцов, в которых присутствует два типа данных: целые числа и объекты python. Столбцы с датами сохранены как объекты python. Для удобства работы с датами в pandas предусмотрен свой тип данных - datetime64. Вернемся к этим столбцам на этапе предобработки данных и изменим их тип.\n",
    "\n",
    "Присутствуют так же пропуски в столбце **'churn_date'**, однако эти пропуски означают, что тариф пользователя действовал на момент выгрузки. Т.к. в дальнейшем анализе информация о прекращении действия тарифа не требуется, обрабатывать и заполнять эти пропуски не требуется.\n",
    "\n",
    "Проверим столбец c возрастом пользователя на наличие отрицательных и выбивающихся значений, используя метод .describe()."
   ]
  },
  {
   "cell_type": "code",
   "execution_count": 16,
   "metadata": {},
   "outputs": [
    {
     "data": {
      "text/plain": [
       "count    500.00000\n",
       "mean      46.58800\n",
       "std       16.66763\n",
       "min       18.00000\n",
       "25%       32.00000\n",
       "50%       46.00000\n",
       "75%       62.00000\n",
       "max       75.00000\n",
       "Name: age, dtype: float64"
      ]
     },
     "execution_count": 16,
     "metadata": {},
     "output_type": "execute_result"
    }
   ],
   "source": [
    "users['age'].describe()"
   ]
  },
  {
   "cell_type": "markdown",
   "metadata": {},
   "source": [
    "Самому молодому клиенту 18 лет, самому старшему клиенту - 75 лет, средний возраст пользователей - 47 лет. Аномальных значений не обнаружено.\n",
    "\n",
    "Узнаем, сколько клиентов используют тариф смарт, а сколько - ультра."
   ]
  },
  {
   "cell_type": "code",
   "execution_count": 17,
   "metadata": {
    "scrolled": true
   },
   "outputs": [
    {
     "data": {
      "text/plain": [
       "smart    351\n",
       "ultra    149\n",
       "Name: tariff, dtype: int64"
      ]
     },
     "execution_count": 17,
     "metadata": {},
     "output_type": "execute_result"
    }
   ],
   "source": [
    "users['tariff'].value_counts()"
   ]
  },
  {
   "cell_type": "code",
   "execution_count": 18,
   "metadata": {},
   "outputs": [
    {
     "name": "stdout",
     "output_type": "stream",
     "text": [
      "В столбце \"churn_date\" пропущено 92.4 данных.\n"
     ]
    }
   ],
   "source": [
    "print('В столбце \"churn_date\" пропущено', len(users[users['churn_date'].isna()])*100/len(users), 'данных.')"
   ]
  },
  {
   "cell_type": "markdown",
   "metadata": {},
   "source": [
    "В датафрейме **users** содержится общая информация о клиентах, их имена, возраст, используемый тариф, а так же дата регистрации и дата прекращения пользования тарифом. Тарифом смарт пользуется 351 клиент, а ультра - 149.\n",
    "\n",
    "- В столбце **churn_date** пропущено **92,4%** данных.\n",
    "- Дата регистрации и дата прекращения пользования тариффом записана как объект python.\n",
    "- Грубых дубликатов в таблице нет."
   ]
  },
  {
   "cell_type": "markdown",
   "metadata": {},
   "source": [
    "**Вывод**"
   ]
  },
  {
   "cell_type": "markdown",
   "metadata": {},
   "source": [
    "Информация о пользователях \"Мегалайна\" сохранена в пяти датасетах. В них содержится как общая информация о клиентах, так и информация о звонках, сообщениях и количестве израсходованного траффика за интернет сессию. Нам удалось выяснить, что в данной выборке тарифом Ultra пользуются 149 пользователей, а тарифом Smart - 351 человек.\n",
    "\n",
    "Были выявлены следующие проблемы, требующие обработки данных:\n",
    "\n",
    "- Необходимо обработать пропущенные значения в столбце 'churn_date' датафрейма users.\n",
    "- Необходимо изменить типы данных для столбцов с датами на тип datetime64.\n",
    "- Необходимо провести обработку значений равных 0 в столбцах продолжительности разговоров и использованного траффика.\n",
    "- Необходимо удалить лишний столбец из таблицы Internet\n",
    "\n",
    "Кроме того для дальнейшего анализа нам необходимо посчитать сколько минут разговора, мегабайт трафика и сообщений использовал каждый пользователь в месяц. На основе этих данных необходимо посчитать прибыль с каждого пользователя в месяц. Расчетом значений и устранений проблемных моментов мы займемся во время предобработки данных."
   ]
  },
  {
   "cell_type": "markdown",
   "metadata": {},
   "source": [
    "<div class=\"alert alert-success\">\n",
    "<b>Комментарий ревьюера v1:</b>\n",
    "    \n",
    "Отлично! Первый взгляд на данные есть. Все проблемы с данными были выявлены.\n",
    "\n",
    "</div>"
   ]
  },
  {
   "cell_type": "markdown",
   "metadata": {},
   "source": [
    "## Предобработка данных"
   ]
  },
  {
   "cell_type": "markdown",
   "metadata": {},
   "source": [
    "### Изменение типов данных"
   ]
  },
  {
   "cell_type": "markdown",
   "metadata": {},
   "source": [
    "Изменим тип данных в столбцах с датами для всех датафреймов. Для этого используем метод pd.to_datetime(), встроенный в библиотеку pandas. Этот метод преобразует данные в тип **datetime64**, с которым очень удобно работать, например, получать значения месяца или дня."
   ]
  },
  {
   "cell_type": "code",
   "execution_count": 19,
   "metadata": {},
   "outputs": [],
   "source": [
    "users['reg_date'] = pd.to_datetime(users['reg_date'], format='%Y-%m-%d')\n",
    "users['churn_date'] = pd.to_datetime(users['churn_date'], format='%Y-%m-%d')\n",
    "calls['call_date'] = pd.to_datetime(calls['call_date'], format='%Y-%m-%d')\n",
    "internet['session_date'] = pd.to_datetime(internet['session_date'], format='%Y-%m-%d')\n",
    "messages['message_date'] = pd.to_datetime(messages['message_date'], format='%Y-%m-%d')"
   ]
  },
  {
   "cell_type": "markdown",
   "metadata": {},
   "source": [
    "Округлим значения продолжительности разговора в большую сторону. Обновленный столбец будет иметь целочисленный тип - int64. Для округления используем встроенную в библиотеку math функцию ceil(), которая возвращает целое число, округленное в большую сторону."
   ]
  },
  {
   "cell_type": "code",
   "execution_count": 20,
   "metadata": {
    "scrolled": true
   },
   "outputs": [],
   "source": [
    "calls['duration'] = np.ceil(calls['duration'])\n",
    "calls = calls.astype({'duration': int}) #меняем тип данных на int64"
   ]
  },
  {
   "cell_type": "markdown",
   "metadata": {},
   "source": [
    "<div class=\"alert alert-danger\">\n",
    "<b>Комментарий ревьюера v1:</b>\n",
    "    \n",
    "Здорово, что не забыл про округление, но в данном случае интернет-трафик нужно округлить уже после группировки (перевести в гигабайты и потом до верхнего целого)\n",
    "\n",
    "    Для веб-трафика отдельные сессии не считаются. Вместо этого общая сумма за месяц округляется в бо́льшую сторону. Если абонент использует 1025 мегабайт в этом месяце, с него возьмут плату за 2 гигабайта.\n",
    "\n",
    "np.ceil(), кстати, также работает без apply (короче код/быстрее).\n",
    "\n",
    "```\n",
    "calls['duration'] = np.ceil(calls['duration'])\n",
    "```\n",
    "</div>"
   ]
  },
  {
   "cell_type": "markdown",
   "metadata": {},
   "source": [
    "<div class=\"alert alert-info\"> <b>Комментарий студента:</b> Я удалил округление интернет-трафика и воспользовался твоим методом округления звонков.</div> "
   ]
  },
  {
   "cell_type": "markdown",
   "metadata": {},
   "source": [
    "<div class=\"alert alert-success\">\n",
    "<b>Комментарий ревьюера v2:</b>\n",
    " \n",
    "Супер! Теперь окруление данных верное.\n",
    "</div>\n"
   ]
  },
  {
   "cell_type": "markdown",
   "metadata": {},
   "source": [
    "### Выявление пропущенных значений"
   ]
  },
  {
   "cell_type": "markdown",
   "metadata": {},
   "source": [
    "Ранее мы выяснили, что в таблице users присутствуют пропуске в столбце с информацией о дате прекращения использования тарифа."
   ]
  },
  {
   "cell_type": "code",
   "execution_count": 21,
   "metadata": {},
   "outputs": [
    {
     "data": {
      "text/plain": [
       "462"
      ]
     },
     "execution_count": 21,
     "metadata": {},
     "output_type": "execute_result"
    }
   ],
   "source": [
    "users['churn_date'].isnull().sum()"
   ]
  },
  {
   "cell_type": "markdown",
   "metadata": {},
   "source": [
    "В столбце содержится 462 пропуска из 500, из описания нам известно, что пропущенные значения означают, что пользователь продолжает пользоваться услугами, поэтому отсутствующие значения никак не повлияют на дальнейший анализ. Обрабатывать эти пропуски не будем.\n",
    "\n",
    "Кроме того в таблицах с данными о звонках и интернет сессиях присутствуют нулевые значения."
   ]
  },
  {
   "cell_type": "code",
   "execution_count": 22,
   "metadata": {},
   "outputs": [
    {
     "name": "stdout",
     "output_type": "stream",
     "text": [
      "Количество звонков продолжительностью 0 секунд: 39613\n",
      "Отношение количества немых звонков к количеству всех звонков: 19.55%\n"
     ]
    }
   ],
   "source": [
    "silent_calls = calls.query('duration == 0')\n",
    "silent_calls_percent = len(silent_calls) / len(calls)\n",
    "print('Количество звонков продолжительностью 0 секунд:', silent_calls['duration'].count())\n",
    "print('Отношение количества немых звонков к количеству всех звонков: {:.2%}'.format(silent_calls_percent))"
   ]
  },
  {
   "cell_type": "markdown",
   "metadata": {},
   "source": [
    "В таблице **calls** почти 20% всех значений продолжительности звонков нулевые. Они могли появиться из-за ошибки сохранения данных или иного сбоя. Так же они могли появиться из-за того, что система отслеживания звонков заполняет пропущенные или непрошедшие звонки, как нулевые значения."
   ]
  },
  {
   "cell_type": "code",
   "execution_count": 23,
   "metadata": {},
   "outputs": [
    {
     "name": "stdout",
     "output_type": "stream",
     "text": [
      "Количество сессий без расхода трафика: 19598\n",
      "Отношение количества сессий без расхода трафика к количеству всех сессий: 13.12%\n"
     ]
    }
   ],
   "source": [
    "empty_sessions = internet.query('mb_used == 0')\n",
    "empty_sessions_percent = len(empty_sessions) / len(internet)\n",
    "print('Количество сессий без расхода трафика:', empty_sessions['mb_used'].count())\n",
    "print('Отношение количества сессий без расхода трафика к количеству всех сессий: {:.2%}'.format(empty_sessions_percent))"
   ]
  },
  {
   "cell_type": "markdown",
   "metadata": {},
   "source": [
    "В таблице **internet** 13% значений в столбце 'mb_used' нулевые. Они могли появится из-за ошибки сохранения данных или иного сбоя. Так же они могли появиться из-за того, что система распознающая сессии расценивает подключение к интернету без совершения действий как полноценную сессию пользователя.\n",
    "\n",
    "Оценим, как изменятся основные статистические характеристики выборки, при удалении всех нулевых значений на примере таблицы звонков."
   ]
  },
  {
   "cell_type": "code",
   "execution_count": 24,
   "metadata": {},
   "outputs": [
    {
     "data": {
      "text/html": [
       "<div>\n",
       "<style scoped>\n",
       "    .dataframe tbody tr th:only-of-type {\n",
       "        vertical-align: middle;\n",
       "    }\n",
       "\n",
       "    .dataframe tbody tr th {\n",
       "        vertical-align: top;\n",
       "    }\n",
       "\n",
       "    .dataframe thead th {\n",
       "        text-align: right;\n",
       "    }\n",
       "</style>\n",
       "<table border=\"1\" class=\"dataframe\">\n",
       "  <thead>\n",
       "    <tr style=\"text-align: right;\">\n",
       "      <th></th>\n",
       "      <th>duration</th>\n",
       "      <th>user_id</th>\n",
       "    </tr>\n",
       "  </thead>\n",
       "  <tbody>\n",
       "    <tr>\n",
       "      <td>count</td>\n",
       "      <td>202607.000000</td>\n",
       "      <td>202607.000000</td>\n",
       "    </tr>\n",
       "    <tr>\n",
       "      <td>mean</td>\n",
       "      <td>7.158198</td>\n",
       "      <td>1253.940619</td>\n",
       "    </tr>\n",
       "    <tr>\n",
       "      <td>std</td>\n",
       "      <td>5.959173</td>\n",
       "      <td>144.722751</td>\n",
       "    </tr>\n",
       "    <tr>\n",
       "      <td>min</td>\n",
       "      <td>0.000000</td>\n",
       "      <td>1000.000000</td>\n",
       "    </tr>\n",
       "    <tr>\n",
       "      <td>25%</td>\n",
       "      <td>2.000000</td>\n",
       "      <td>1126.000000</td>\n",
       "    </tr>\n",
       "    <tr>\n",
       "      <td>50%</td>\n",
       "      <td>6.000000</td>\n",
       "      <td>1260.000000</td>\n",
       "    </tr>\n",
       "    <tr>\n",
       "      <td>75%</td>\n",
       "      <td>11.000000</td>\n",
       "      <td>1379.000000</td>\n",
       "    </tr>\n",
       "    <tr>\n",
       "      <td>max</td>\n",
       "      <td>38.000000</td>\n",
       "      <td>1499.000000</td>\n",
       "    </tr>\n",
       "  </tbody>\n",
       "</table>\n",
       "</div>"
      ],
      "text/plain": [
       "            duration        user_id\n",
       "count  202607.000000  202607.000000\n",
       "mean        7.158198    1253.940619\n",
       "std         5.959173     144.722751\n",
       "min         0.000000    1000.000000\n",
       "25%         2.000000    1126.000000\n",
       "50%         6.000000    1260.000000\n",
       "75%        11.000000    1379.000000\n",
       "max        38.000000    1499.000000"
      ]
     },
     "execution_count": 24,
     "metadata": {},
     "output_type": "execute_result"
    }
   ],
   "source": [
    "calls.describe()"
   ]
  },
  {
   "cell_type": "markdown",
   "metadata": {},
   "source": [
    "Скопируем таблицу calls, используя метод .copy()."
   ]
  },
  {
   "cell_type": "code",
   "execution_count": 25,
   "metadata": {},
   "outputs": [],
   "source": [
    "calls_copy = calls.copy()"
   ]
  },
  {
   "cell_type": "markdown",
   "metadata": {},
   "source": [
    "Удалим из откопированной таблицы все нулевые значения."
   ]
  },
  {
   "cell_type": "code",
   "execution_count": 26,
   "metadata": {},
   "outputs": [],
   "source": [
    "calls_copy = calls_copy.drop(calls_copy[calls_copy['duration'] == 0 ]['duration'].index).reset_index(drop = True)"
   ]
  },
  {
   "cell_type": "code",
   "execution_count": 27,
   "metadata": {},
   "outputs": [
    {
     "data": {
      "text/html": [
       "<div>\n",
       "<style scoped>\n",
       "    .dataframe tbody tr th:only-of-type {\n",
       "        vertical-align: middle;\n",
       "    }\n",
       "\n",
       "    .dataframe tbody tr th {\n",
       "        vertical-align: top;\n",
       "    }\n",
       "\n",
       "    .dataframe thead th {\n",
       "        text-align: right;\n",
       "    }\n",
       "</style>\n",
       "<table border=\"1\" class=\"dataframe\">\n",
       "  <thead>\n",
       "    <tr style=\"text-align: right;\">\n",
       "      <th></th>\n",
       "      <th>duration</th>\n",
       "      <th>user_id</th>\n",
       "    </tr>\n",
       "  </thead>\n",
       "  <tbody>\n",
       "    <tr>\n",
       "      <td>count</td>\n",
       "      <td>162994.000000</td>\n",
       "      <td>162994.000000</td>\n",
       "    </tr>\n",
       "    <tr>\n",
       "      <td>mean</td>\n",
       "      <td>8.897880</td>\n",
       "      <td>1254.149877</td>\n",
       "    </tr>\n",
       "    <tr>\n",
       "      <td>std</td>\n",
       "      <td>5.353761</td>\n",
       "      <td>144.751050</td>\n",
       "    </tr>\n",
       "    <tr>\n",
       "      <td>min</td>\n",
       "      <td>1.000000</td>\n",
       "      <td>1000.000000</td>\n",
       "    </tr>\n",
       "    <tr>\n",
       "      <td>25%</td>\n",
       "      <td>5.000000</td>\n",
       "      <td>1126.000000</td>\n",
       "    </tr>\n",
       "    <tr>\n",
       "      <td>50%</td>\n",
       "      <td>8.000000</td>\n",
       "      <td>1261.000000</td>\n",
       "    </tr>\n",
       "    <tr>\n",
       "      <td>75%</td>\n",
       "      <td>12.000000</td>\n",
       "      <td>1379.000000</td>\n",
       "    </tr>\n",
       "    <tr>\n",
       "      <td>max</td>\n",
       "      <td>38.000000</td>\n",
       "      <td>1499.000000</td>\n",
       "    </tr>\n",
       "  </tbody>\n",
       "</table>\n",
       "</div>"
      ],
      "text/plain": [
       "            duration        user_id\n",
       "count  162994.000000  162994.000000\n",
       "mean        8.897880    1254.149877\n",
       "std         5.353761     144.751050\n",
       "min         1.000000    1000.000000\n",
       "25%         5.000000    1126.000000\n",
       "50%         8.000000    1261.000000\n",
       "75%        12.000000    1379.000000\n",
       "max        38.000000    1499.000000"
      ]
     },
     "execution_count": 27,
     "metadata": {},
     "output_type": "execute_result"
    }
   ],
   "source": [
    "calls_copy.describe()"
   ]
  },
  {
   "cell_type": "markdown",
   "metadata": {},
   "source": [
    "Как стоило догадаться, среднее и медиана значительно выросли, после удаления нулевых значений."
   ]
  },
  {
   "cell_type": "markdown",
   "metadata": {},
   "source": [
    "Будем расценивать нулевые значения продолжительности разговоров, как пропущенные или непринятые вызовы, а нулевой расход трафика, как ошибочно записанную сессию, в которую пользователь не тратил трафик.\n",
    "\n",
    "Пропущенные значения можно либо удалить, либо не удалять. В дальнейшем анализе нам будет необходимо просуммировать все значения для действий пользователей по месяцам, наличие нулей или отстутствие строк в данном случие при вычислении среднего/медианы или других статистических показателей никак не повлияет на результат нашей сводной таблицы, т.к. среднее будет вычисляться при делении суммы на количество пользователей, а не на количество сессий."
   ]
  },
  {
   "cell_type": "markdown",
   "metadata": {},
   "source": [
    "<div class=\"alert alert-success\">\n",
    "<b>Комментарий ревьюера v1:</b>\n",
    "    \n",
    "Здорово, что добавил решение по нулям.  Ты все правильно сказал. Да, их можно удалить, а можно и оставить. Ведь при сборке сводной таблицы они просуммируются, а наш анализ это никак не исказит. Важно было, чтобы ты это заметил и оценил влияние. Что ты и сделал, собственно.\n",
    "\n",
    "</div>"
   ]
  },
  {
   "cell_type": "markdown",
   "metadata": {},
   "source": [
    "### Обработка дубликатов."
   ]
  },
  {
   "cell_type": "markdown",
   "metadata": {},
   "source": [
    "Приведем имена, фамили и города пользователей к общему регистру. Будем использовать метод .capitalize(), который изменяет строку, записывая первый символ с заглавной буквы, а остальные с маленькой. Проверим, не появилось ли грубых дубликатов в результате такой обработки."
   ]
  },
  {
   "cell_type": "code",
   "execution_count": 28,
   "metadata": {},
   "outputs": [
    {
     "data": {
      "text/plain": [
       "0"
      ]
     },
     "execution_count": 28,
     "metadata": {},
     "output_type": "execute_result"
    }
   ],
   "source": [
    "users['first_name'] = users['first_name'].str.capitalize()\n",
    "users['last_name'] = users['last_name'].str.capitalize()\n",
    "users['city'] = users['city'].str.capitalize()\n",
    "users.duplicated().sum()"
   ]
  },
  {
   "cell_type": "markdown",
   "metadata": {},
   "source": [
    "Дубликаты отсутствуют.\n",
    "\n",
    "Ранее мы так же выяснили, что во всех таблицах отсутствуют дубликаты. Обработка не требуется."
   ]
  },
  {
   "cell_type": "markdown",
   "metadata": {},
   "source": [
    "### Удаление столбца Unnamed: 0 из датафрейма internet"
   ]
  },
  {
   "cell_type": "markdown",
   "metadata": {},
   "source": [
    "Ранее мы обнаружили лишний столбец, дублирующий индексы в датафрейме internet. Удалим его."
   ]
  },
  {
   "cell_type": "code",
   "execution_count": 29,
   "metadata": {},
   "outputs": [],
   "source": [
    "del internet['Unnamed: 0']"
   ]
  },
  {
   "cell_type": "code",
   "execution_count": 30,
   "metadata": {
    "scrolled": true
   },
   "outputs": [
    {
     "data": {
      "text/html": [
       "<div>\n",
       "<style scoped>\n",
       "    .dataframe tbody tr th:only-of-type {\n",
       "        vertical-align: middle;\n",
       "    }\n",
       "\n",
       "    .dataframe tbody tr th {\n",
       "        vertical-align: top;\n",
       "    }\n",
       "\n",
       "    .dataframe thead th {\n",
       "        text-align: right;\n",
       "    }\n",
       "</style>\n",
       "<table border=\"1\" class=\"dataframe\">\n",
       "  <thead>\n",
       "    <tr style=\"text-align: right;\">\n",
       "      <th></th>\n",
       "      <th>id</th>\n",
       "      <th>mb_used</th>\n",
       "      <th>session_date</th>\n",
       "      <th>user_id</th>\n",
       "    </tr>\n",
       "  </thead>\n",
       "  <tbody>\n",
       "    <tr>\n",
       "      <td>0</td>\n",
       "      <td>1000_0</td>\n",
       "      <td>112.95</td>\n",
       "      <td>2018-11-25</td>\n",
       "      <td>1000</td>\n",
       "    </tr>\n",
       "    <tr>\n",
       "      <td>1</td>\n",
       "      <td>1000_1</td>\n",
       "      <td>1052.81</td>\n",
       "      <td>2018-09-07</td>\n",
       "      <td>1000</td>\n",
       "    </tr>\n",
       "    <tr>\n",
       "      <td>2</td>\n",
       "      <td>1000_2</td>\n",
       "      <td>1197.26</td>\n",
       "      <td>2018-06-25</td>\n",
       "      <td>1000</td>\n",
       "    </tr>\n",
       "    <tr>\n",
       "      <td>3</td>\n",
       "      <td>1000_3</td>\n",
       "      <td>550.27</td>\n",
       "      <td>2018-08-22</td>\n",
       "      <td>1000</td>\n",
       "    </tr>\n",
       "    <tr>\n",
       "      <td>4</td>\n",
       "      <td>1000_4</td>\n",
       "      <td>302.56</td>\n",
       "      <td>2018-09-24</td>\n",
       "      <td>1000</td>\n",
       "    </tr>\n",
       "  </tbody>\n",
       "</table>\n",
       "</div>"
      ],
      "text/plain": [
       "       id  mb_used session_date  user_id\n",
       "0  1000_0   112.95   2018-11-25     1000\n",
       "1  1000_1  1052.81   2018-09-07     1000\n",
       "2  1000_2  1197.26   2018-06-25     1000\n",
       "3  1000_3   550.27   2018-08-22     1000\n",
       "4  1000_4   302.56   2018-09-24     1000"
      ]
     },
     "execution_count": 30,
     "metadata": {},
     "output_type": "execute_result"
    }
   ],
   "source": [
    "internet.head()"
   ]
  },
  {
   "cell_type": "markdown",
   "metadata": {},
   "source": [
    "### Добавление в таблицу новых данных"
   ]
  },
  {
   "cell_type": "markdown",
   "metadata": {},
   "source": [
    "Для дальнейшего анализа нам необходимо будет сгруппировать данные о звонках, сообщениях и интернет траффике по месяцам. Добавим в соответствующие таблицы новый столбец с месяцем операции, совершенной пользователем. Используем встроенный в pandas метод, работающий с типом данных datetime64, .dt.month(). Этот месяц позволит получить из записи формата 2018-07-25 месяц."
   ]
  },
  {
   "cell_type": "code",
   "execution_count": 31,
   "metadata": {},
   "outputs": [],
   "source": [
    "calls['month'] = calls['call_date'].dt.month #создаем новый столбец с месяцем\n",
    "internet['month'] = internet['session_date'].dt.month \n",
    "#создаем новый столбец с месяцем\n",
    "messages['month'] = messages['message_date'].dt.month \n",
    "#создаем новый столбец с месяцем"
   ]
  },
  {
   "cell_type": "markdown",
   "metadata": {},
   "source": [
    "### Создание сводной таблицы для расчета выручки по месяцам"
   ]
  },
  {
   "cell_type": "markdown",
   "metadata": {},
   "source": [
    "#### Подсчет количества сделанных звонков и израсходованных минут разговора по месяцам."
   ]
  },
  {
   "cell_type": "markdown",
   "metadata": {},
   "source": [
    "Для подсчета количества сделанных звонков и израсходованных минут разговора по месяцам создадим сводную таблицу с мультииндексом. В качестве аругмент index=[] передадим названия столбцов user_id и month, в качестве значений зададим продолжительность разговора duration, в качестве аргумента aggfunc - передадим список с функциями подсчета количества и суммы."
   ]
  },
  {
   "cell_type": "code",
   "execution_count": 32,
   "metadata": {
    "scrolled": true
   },
   "outputs": [
    {
     "data": {
      "text/html": [
       "<div>\n",
       "<style scoped>\n",
       "    .dataframe tbody tr th:only-of-type {\n",
       "        vertical-align: middle;\n",
       "    }\n",
       "\n",
       "    .dataframe tbody tr th {\n",
       "        vertical-align: top;\n",
       "    }\n",
       "\n",
       "    .dataframe thead th {\n",
       "        text-align: right;\n",
       "    }\n",
       "</style>\n",
       "<table border=\"1\" class=\"dataframe\">\n",
       "  <thead>\n",
       "    <tr style=\"text-align: right;\">\n",
       "      <th></th>\n",
       "      <th></th>\n",
       "      <th>calls_count</th>\n",
       "      <th>calls_duration</th>\n",
       "    </tr>\n",
       "    <tr>\n",
       "      <th>user_id</th>\n",
       "      <th>month</th>\n",
       "      <th></th>\n",
       "      <th></th>\n",
       "    </tr>\n",
       "  </thead>\n",
       "  <tbody>\n",
       "    <tr>\n",
       "      <td rowspan=\"5\" valign=\"top\">1000</td>\n",
       "      <td>5</td>\n",
       "      <td>22</td>\n",
       "      <td>159</td>\n",
       "    </tr>\n",
       "    <tr>\n",
       "      <td>6</td>\n",
       "      <td>43</td>\n",
       "      <td>172</td>\n",
       "    </tr>\n",
       "    <tr>\n",
       "      <td>7</td>\n",
       "      <td>47</td>\n",
       "      <td>340</td>\n",
       "    </tr>\n",
       "    <tr>\n",
       "      <td>8</td>\n",
       "      <td>52</td>\n",
       "      <td>408</td>\n",
       "    </tr>\n",
       "    <tr>\n",
       "      <td>9</td>\n",
       "      <td>58</td>\n",
       "      <td>466</td>\n",
       "    </tr>\n",
       "    <tr>\n",
       "      <td>...</td>\n",
       "      <td>...</td>\n",
       "      <td>...</td>\n",
       "      <td>...</td>\n",
       "    </tr>\n",
       "    <tr>\n",
       "      <td>1498</td>\n",
       "      <td>10</td>\n",
       "      <td>41</td>\n",
       "      <td>247</td>\n",
       "    </tr>\n",
       "    <tr>\n",
       "      <td rowspan=\"4\" valign=\"top\">1499</td>\n",
       "      <td>9</td>\n",
       "      <td>9</td>\n",
       "      <td>70</td>\n",
       "    </tr>\n",
       "    <tr>\n",
       "      <td>10</td>\n",
       "      <td>68</td>\n",
       "      <td>449</td>\n",
       "    </tr>\n",
       "    <tr>\n",
       "      <td>11</td>\n",
       "      <td>74</td>\n",
       "      <td>612</td>\n",
       "    </tr>\n",
       "    <tr>\n",
       "      <td>12</td>\n",
       "      <td>69</td>\n",
       "      <td>492</td>\n",
       "    </tr>\n",
       "  </tbody>\n",
       "</table>\n",
       "<p>3174 rows × 2 columns</p>\n",
       "</div>"
      ],
      "text/plain": [
       "               calls_count  calls_duration\n",
       "user_id month                             \n",
       "1000    5               22             159\n",
       "        6               43             172\n",
       "        7               47             340\n",
       "        8               52             408\n",
       "        9               58             466\n",
       "...                    ...             ...\n",
       "1498    10              41             247\n",
       "1499    9                9              70\n",
       "        10              68             449\n",
       "        11              74             612\n",
       "        12              69             492\n",
       "\n",
       "[3174 rows x 2 columns]"
      ]
     },
     "execution_count": 32,
     "metadata": {},
     "output_type": "execute_result"
    }
   ],
   "source": [
    "calls_per_month = calls.pivot_table(index=['user_id', 'month'], \n",
    "                                    values='duration', aggfunc=['count', 'sum'])\n",
    "calls_per_month.columns=['calls_count', 'calls_duration']    #переименовываем столбцы\n",
    "calls_per_month"
   ]
  },
  {
   "cell_type": "markdown",
   "metadata": {},
   "source": [
    "#### Подсчет объема израсходованного траффика по месяцам для каждого пользователя."
   ]
  },
  {
   "cell_type": "markdown",
   "metadata": {},
   "source": [
    "Посчитаем объем израсходованного траффика по месяцам, аналогично тому, как мы подсчитали сумму израсходованных минут по месяцам. Округлим значения продолжительности разговора в большую сторону. Обновленный столбец будет иметь целочисленный тип - int64. Для округления используем встроенную в библиотеку math функцию ceil(), которая возвращает целое число, округленное в большую сторону."
   ]
  },
  {
   "cell_type": "code",
   "execution_count": 33,
   "metadata": {
    "scrolled": true
   },
   "outputs": [
    {
     "data": {
      "text/html": [
       "<div>\n",
       "<style scoped>\n",
       "    .dataframe tbody tr th:only-of-type {\n",
       "        vertical-align: middle;\n",
       "    }\n",
       "\n",
       "    .dataframe tbody tr th {\n",
       "        vertical-align: top;\n",
       "    }\n",
       "\n",
       "    .dataframe thead th {\n",
       "        text-align: right;\n",
       "    }\n",
       "</style>\n",
       "<table border=\"1\" class=\"dataframe\">\n",
       "  <thead>\n",
       "    <tr style=\"text-align: right;\">\n",
       "      <th></th>\n",
       "      <th></th>\n",
       "      <th>mb_used_sum</th>\n",
       "    </tr>\n",
       "    <tr>\n",
       "      <th>user_id</th>\n",
       "      <th>month</th>\n",
       "      <th></th>\n",
       "    </tr>\n",
       "  </thead>\n",
       "  <tbody>\n",
       "    <tr>\n",
       "      <td rowspan=\"5\" valign=\"top\">1000</td>\n",
       "      <td>5</td>\n",
       "      <td>2254.0</td>\n",
       "    </tr>\n",
       "    <tr>\n",
       "      <td>6</td>\n",
       "      <td>23234.0</td>\n",
       "    </tr>\n",
       "    <tr>\n",
       "      <td>7</td>\n",
       "      <td>14004.0</td>\n",
       "    </tr>\n",
       "    <tr>\n",
       "      <td>8</td>\n",
       "      <td>14056.0</td>\n",
       "    </tr>\n",
       "    <tr>\n",
       "      <td>9</td>\n",
       "      <td>14569.0</td>\n",
       "    </tr>\n",
       "    <tr>\n",
       "      <td>...</td>\n",
       "      <td>...</td>\n",
       "      <td>...</td>\n",
       "    </tr>\n",
       "    <tr>\n",
       "      <td>1498</td>\n",
       "      <td>10</td>\n",
       "      <td>20580.0</td>\n",
       "    </tr>\n",
       "    <tr>\n",
       "      <td rowspan=\"4\" valign=\"top\">1499</td>\n",
       "      <td>9</td>\n",
       "      <td>1846.0</td>\n",
       "    </tr>\n",
       "    <tr>\n",
       "      <td>10</td>\n",
       "      <td>17789.0</td>\n",
       "    </tr>\n",
       "    <tr>\n",
       "      <td>11</td>\n",
       "      <td>17964.0</td>\n",
       "    </tr>\n",
       "    <tr>\n",
       "      <td>12</td>\n",
       "      <td>13056.0</td>\n",
       "    </tr>\n",
       "  </tbody>\n",
       "</table>\n",
       "<p>3203 rows × 1 columns</p>\n",
       "</div>"
      ],
      "text/plain": [
       "               mb_used_sum\n",
       "user_id month             \n",
       "1000    5           2254.0\n",
       "        6          23234.0\n",
       "        7          14004.0\n",
       "        8          14056.0\n",
       "        9          14569.0\n",
       "...                    ...\n",
       "1498    10         20580.0\n",
       "1499    9           1846.0\n",
       "        10         17789.0\n",
       "        11         17964.0\n",
       "        12         13056.0\n",
       "\n",
       "[3203 rows x 1 columns]"
      ]
     },
     "execution_count": 33,
     "metadata": {},
     "output_type": "execute_result"
    }
   ],
   "source": [
    "mb_used_per_month = internet.pivot_table(index=['user_id', 'month'], values='mb_used', aggfunc='sum')\n",
    "mb_used_per_month.columns=['mb_used_sum']    #переименовываем столбцы\n",
    "mb_used_per_month['mb_used_sum'] = np.ceil(mb_used_per_month['mb_used_sum'])\n",
    "mb_used_per_month"
   ]
  },
  {
   "cell_type": "markdown",
   "metadata": {},
   "source": [
    "<div class=\"alert alert-info\"> <b>Комментарий студента:</b> Здесь было произведено округление исзользованных мегабайтов в большую сторону.</div> "
   ]
  },
  {
   "cell_type": "markdown",
   "metadata": {},
   "source": [
    "#### Подсчет количества отправленных сообщений по месяцам для каждого пользователя."
   ]
  },
  {
   "cell_type": "markdown",
   "metadata": {},
   "source": [
    "Подсчитаем количества отправленных сообщений по месяцам для каждого пользователя аналогично тому, как мы подсчитали количество звонков."
   ]
  },
  {
   "cell_type": "code",
   "execution_count": 34,
   "metadata": {},
   "outputs": [
    {
     "data": {
      "text/html": [
       "<div>\n",
       "<style scoped>\n",
       "    .dataframe tbody tr th:only-of-type {\n",
       "        vertical-align: middle;\n",
       "    }\n",
       "\n",
       "    .dataframe tbody tr th {\n",
       "        vertical-align: top;\n",
       "    }\n",
       "\n",
       "    .dataframe thead th {\n",
       "        text-align: right;\n",
       "    }\n",
       "</style>\n",
       "<table border=\"1\" class=\"dataframe\">\n",
       "  <thead>\n",
       "    <tr style=\"text-align: right;\">\n",
       "      <th></th>\n",
       "      <th></th>\n",
       "      <th>msg_count</th>\n",
       "    </tr>\n",
       "    <tr>\n",
       "      <th>user_id</th>\n",
       "      <th>month</th>\n",
       "      <th></th>\n",
       "    </tr>\n",
       "  </thead>\n",
       "  <tbody>\n",
       "    <tr>\n",
       "      <td rowspan=\"5\" valign=\"top\">1000</td>\n",
       "      <td>5</td>\n",
       "      <td>22</td>\n",
       "    </tr>\n",
       "    <tr>\n",
       "      <td>6</td>\n",
       "      <td>60</td>\n",
       "    </tr>\n",
       "    <tr>\n",
       "      <td>7</td>\n",
       "      <td>75</td>\n",
       "    </tr>\n",
       "    <tr>\n",
       "      <td>8</td>\n",
       "      <td>81</td>\n",
       "    </tr>\n",
       "    <tr>\n",
       "      <td>9</td>\n",
       "      <td>57</td>\n",
       "    </tr>\n",
       "    <tr>\n",
       "      <td>...</td>\n",
       "      <td>...</td>\n",
       "      <td>...</td>\n",
       "    </tr>\n",
       "    <tr>\n",
       "      <td>1498</td>\n",
       "      <td>10</td>\n",
       "      <td>42</td>\n",
       "    </tr>\n",
       "    <tr>\n",
       "      <td rowspan=\"4\" valign=\"top\">1499</td>\n",
       "      <td>9</td>\n",
       "      <td>11</td>\n",
       "    </tr>\n",
       "    <tr>\n",
       "      <td>10</td>\n",
       "      <td>48</td>\n",
       "    </tr>\n",
       "    <tr>\n",
       "      <td>11</td>\n",
       "      <td>59</td>\n",
       "    </tr>\n",
       "    <tr>\n",
       "      <td>12</td>\n",
       "      <td>66</td>\n",
       "    </tr>\n",
       "  </tbody>\n",
       "</table>\n",
       "<p>2717 rows × 1 columns</p>\n",
       "</div>"
      ],
      "text/plain": [
       "               msg_count\n",
       "user_id month           \n",
       "1000    5             22\n",
       "        6             60\n",
       "        7             75\n",
       "        8             81\n",
       "        9             57\n",
       "...                  ...\n",
       "1498    10            42\n",
       "1499    9             11\n",
       "        10            48\n",
       "        11            59\n",
       "        12            66\n",
       "\n",
       "[2717 rows x 1 columns]"
      ]
     },
     "execution_count": 34,
     "metadata": {},
     "output_type": "execute_result"
    }
   ],
   "source": [
    "messages_per_month = messages.pivot_table(index=['user_id', 'month'], values\n",
    "                                          ='message_date', aggfunc='count')\n",
    "messages_per_month.columns=['msg_count'] #переименовываем столбцы\n",
    "messages_per_month"
   ]
  },
  {
   "cell_type": "markdown",
   "metadata": {},
   "source": [
    "#### Вычисление помесячной выручки с каждого пользователя."
   ]
  },
  {
   "cell_type": "markdown",
   "metadata": {},
   "source": [
    "Для начала объединим ранее созданные сводные таблицы в одну общую users_pivot. Для этого используем встроенный в библиотеку pandas метод join()."
   ]
  },
  {
   "cell_type": "code",
   "execution_count": 35,
   "metadata": {},
   "outputs": [
    {
     "data": {
      "text/html": [
       "<div>\n",
       "<style scoped>\n",
       "    .dataframe tbody tr th:only-of-type {\n",
       "        vertical-align: middle;\n",
       "    }\n",
       "\n",
       "    .dataframe tbody tr th {\n",
       "        vertical-align: top;\n",
       "    }\n",
       "\n",
       "    .dataframe thead th {\n",
       "        text-align: right;\n",
       "    }\n",
       "</style>\n",
       "<table border=\"1\" class=\"dataframe\">\n",
       "  <thead>\n",
       "    <tr style=\"text-align: right;\">\n",
       "      <th></th>\n",
       "      <th></th>\n",
       "      <th>calls_count</th>\n",
       "      <th>calls_duration</th>\n",
       "      <th>mb_used_sum</th>\n",
       "      <th>msg_count</th>\n",
       "    </tr>\n",
       "    <tr>\n",
       "      <th>user_id</th>\n",
       "      <th>month</th>\n",
       "      <th></th>\n",
       "      <th></th>\n",
       "      <th></th>\n",
       "      <th></th>\n",
       "    </tr>\n",
       "  </thead>\n",
       "  <tbody>\n",
       "    <tr>\n",
       "      <td rowspan=\"5\" valign=\"top\">1000</td>\n",
       "      <td>5</td>\n",
       "      <td>22.0</td>\n",
       "      <td>159.0</td>\n",
       "      <td>2254.0</td>\n",
       "      <td>22.0</td>\n",
       "    </tr>\n",
       "    <tr>\n",
       "      <td>6</td>\n",
       "      <td>43.0</td>\n",
       "      <td>172.0</td>\n",
       "      <td>23234.0</td>\n",
       "      <td>60.0</td>\n",
       "    </tr>\n",
       "    <tr>\n",
       "      <td>7</td>\n",
       "      <td>47.0</td>\n",
       "      <td>340.0</td>\n",
       "      <td>14004.0</td>\n",
       "      <td>75.0</td>\n",
       "    </tr>\n",
       "    <tr>\n",
       "      <td>8</td>\n",
       "      <td>52.0</td>\n",
       "      <td>408.0</td>\n",
       "      <td>14056.0</td>\n",
       "      <td>81.0</td>\n",
       "    </tr>\n",
       "    <tr>\n",
       "      <td>9</td>\n",
       "      <td>58.0</td>\n",
       "      <td>466.0</td>\n",
       "      <td>14569.0</td>\n",
       "      <td>57.0</td>\n",
       "    </tr>\n",
       "    <tr>\n",
       "      <td>...</td>\n",
       "      <td>...</td>\n",
       "      <td>...</td>\n",
       "      <td>...</td>\n",
       "      <td>...</td>\n",
       "      <td>...</td>\n",
       "    </tr>\n",
       "    <tr>\n",
       "      <td>1498</td>\n",
       "      <td>10</td>\n",
       "      <td>41.0</td>\n",
       "      <td>247.0</td>\n",
       "      <td>20580.0</td>\n",
       "      <td>42.0</td>\n",
       "    </tr>\n",
       "    <tr>\n",
       "      <td rowspan=\"4\" valign=\"top\">1499</td>\n",
       "      <td>9</td>\n",
       "      <td>9.0</td>\n",
       "      <td>70.0</td>\n",
       "      <td>1846.0</td>\n",
       "      <td>11.0</td>\n",
       "    </tr>\n",
       "    <tr>\n",
       "      <td>10</td>\n",
       "      <td>68.0</td>\n",
       "      <td>449.0</td>\n",
       "      <td>17789.0</td>\n",
       "      <td>48.0</td>\n",
       "    </tr>\n",
       "    <tr>\n",
       "      <td>11</td>\n",
       "      <td>74.0</td>\n",
       "      <td>612.0</td>\n",
       "      <td>17964.0</td>\n",
       "      <td>59.0</td>\n",
       "    </tr>\n",
       "    <tr>\n",
       "      <td>12</td>\n",
       "      <td>69.0</td>\n",
       "      <td>492.0</td>\n",
       "      <td>13056.0</td>\n",
       "      <td>66.0</td>\n",
       "    </tr>\n",
       "  </tbody>\n",
       "</table>\n",
       "<p>3214 rows × 4 columns</p>\n",
       "</div>"
      ],
      "text/plain": [
       "               calls_count  calls_duration  mb_used_sum  msg_count\n",
       "user_id month                                                     \n",
       "1000    5             22.0           159.0       2254.0       22.0\n",
       "        6             43.0           172.0      23234.0       60.0\n",
       "        7             47.0           340.0      14004.0       75.0\n",
       "        8             52.0           408.0      14056.0       81.0\n",
       "        9             58.0           466.0      14569.0       57.0\n",
       "...                    ...             ...          ...        ...\n",
       "1498    10            41.0           247.0      20580.0       42.0\n",
       "1499    9              9.0            70.0       1846.0       11.0\n",
       "        10            68.0           449.0      17789.0       48.0\n",
       "        11            74.0           612.0      17964.0       59.0\n",
       "        12            69.0           492.0      13056.0       66.0\n",
       "\n",
       "[3214 rows x 4 columns]"
      ]
     },
     "execution_count": 35,
     "metadata": {},
     "output_type": "execute_result"
    }
   ],
   "source": [
    "users_pivot = calls_per_month.join([mb_used_per_month, messages_per_month], how='outer')\n",
    "users_pivot"
   ]
  },
  {
   "cell_type": "markdown",
   "metadata": {},
   "source": [
    "Добавим в таблицу информацию о тарифах, для этого используем метод join(), с аргументом how='outer', в качестве таблицы, с которой будем объединять users_pivot, будем использовать таблицу users, в которой зафиксируем каждому user_id конкретный тариф и зададим user_id, как индексы, используя метод .set_index()."
   ]
  },
  {
   "cell_type": "code",
   "execution_count": 36,
   "metadata": {},
   "outputs": [],
   "source": [
    "users_pivot = users_pivot.join(users.loc[:,['user_id', 'tariff']].set_index('user_id'), how='outer')"
   ]
  },
  {
   "cell_type": "markdown",
   "metadata": {},
   "source": [
    "В итоге мы получаем полную сводную таблицу, в которой для каждого пользователя по месяцам указаны количества звонков, продолжительности звонков, интернет сессий и количество смс сообщений, а так же тарифф."
   ]
  },
  {
   "cell_type": "markdown",
   "metadata": {},
   "source": [
    "<div class=\"alert alert-success\">\n",
    "<b>Комментарий ревьюера v1:</b>\n",
    "    \n",
    "Здорово. how='outer' здесь подходит, чтобы не потерять данныe.\n",
    "\n",
    "Кстати, можно сгруппировать 3 таблицы одновременно с помощью reduce. Почитать можно тут:\n",
    "https://www.codegrepper.com/code-examples/python/merge+more+than+2+dataframes+in+pandas\n",
    "</div>"
   ]
  },
  {
   "cell_type": "code",
   "execution_count": 37,
   "metadata": {},
   "outputs": [
    {
     "data": {
      "text/html": [
       "<div>\n",
       "<style scoped>\n",
       "    .dataframe tbody tr th:only-of-type {\n",
       "        vertical-align: middle;\n",
       "    }\n",
       "\n",
       "    .dataframe tbody tr th {\n",
       "        vertical-align: top;\n",
       "    }\n",
       "\n",
       "    .dataframe thead th {\n",
       "        text-align: right;\n",
       "    }\n",
       "</style>\n",
       "<table border=\"1\" class=\"dataframe\">\n",
       "  <thead>\n",
       "    <tr style=\"text-align: right;\">\n",
       "      <th></th>\n",
       "      <th></th>\n",
       "      <th>calls_count</th>\n",
       "      <th>calls_duration</th>\n",
       "      <th>mb_used_sum</th>\n",
       "      <th>msg_count</th>\n",
       "      <th>tariff</th>\n",
       "    </tr>\n",
       "    <tr>\n",
       "      <th>user_id</th>\n",
       "      <th>month</th>\n",
       "      <th></th>\n",
       "      <th></th>\n",
       "      <th></th>\n",
       "      <th></th>\n",
       "      <th></th>\n",
       "    </tr>\n",
       "  </thead>\n",
       "  <tbody>\n",
       "    <tr>\n",
       "      <td rowspan=\"5\" valign=\"top\">1000</td>\n",
       "      <td>5</td>\n",
       "      <td>22.0</td>\n",
       "      <td>159.0</td>\n",
       "      <td>2254.0</td>\n",
       "      <td>22.0</td>\n",
       "      <td>ultra</td>\n",
       "    </tr>\n",
       "    <tr>\n",
       "      <td>6</td>\n",
       "      <td>43.0</td>\n",
       "      <td>172.0</td>\n",
       "      <td>23234.0</td>\n",
       "      <td>60.0</td>\n",
       "      <td>ultra</td>\n",
       "    </tr>\n",
       "    <tr>\n",
       "      <td>7</td>\n",
       "      <td>47.0</td>\n",
       "      <td>340.0</td>\n",
       "      <td>14004.0</td>\n",
       "      <td>75.0</td>\n",
       "      <td>ultra</td>\n",
       "    </tr>\n",
       "    <tr>\n",
       "      <td>8</td>\n",
       "      <td>52.0</td>\n",
       "      <td>408.0</td>\n",
       "      <td>14056.0</td>\n",
       "      <td>81.0</td>\n",
       "      <td>ultra</td>\n",
       "    </tr>\n",
       "    <tr>\n",
       "      <td>9</td>\n",
       "      <td>58.0</td>\n",
       "      <td>466.0</td>\n",
       "      <td>14569.0</td>\n",
       "      <td>57.0</td>\n",
       "      <td>ultra</td>\n",
       "    </tr>\n",
       "    <tr>\n",
       "      <td>...</td>\n",
       "      <td>...</td>\n",
       "      <td>...</td>\n",
       "      <td>...</td>\n",
       "      <td>...</td>\n",
       "      <td>...</td>\n",
       "      <td>...</td>\n",
       "    </tr>\n",
       "    <tr>\n",
       "      <td>1498</td>\n",
       "      <td>10</td>\n",
       "      <td>41.0</td>\n",
       "      <td>247.0</td>\n",
       "      <td>20580.0</td>\n",
       "      <td>42.0</td>\n",
       "      <td>smart</td>\n",
       "    </tr>\n",
       "    <tr>\n",
       "      <td rowspan=\"4\" valign=\"top\">1499</td>\n",
       "      <td>9</td>\n",
       "      <td>9.0</td>\n",
       "      <td>70.0</td>\n",
       "      <td>1846.0</td>\n",
       "      <td>11.0</td>\n",
       "      <td>smart</td>\n",
       "    </tr>\n",
       "    <tr>\n",
       "      <td>10</td>\n",
       "      <td>68.0</td>\n",
       "      <td>449.0</td>\n",
       "      <td>17789.0</td>\n",
       "      <td>48.0</td>\n",
       "      <td>smart</td>\n",
       "    </tr>\n",
       "    <tr>\n",
       "      <td>11</td>\n",
       "      <td>74.0</td>\n",
       "      <td>612.0</td>\n",
       "      <td>17964.0</td>\n",
       "      <td>59.0</td>\n",
       "      <td>smart</td>\n",
       "    </tr>\n",
       "    <tr>\n",
       "      <td>12</td>\n",
       "      <td>69.0</td>\n",
       "      <td>492.0</td>\n",
       "      <td>13056.0</td>\n",
       "      <td>66.0</td>\n",
       "      <td>smart</td>\n",
       "    </tr>\n",
       "  </tbody>\n",
       "</table>\n",
       "<p>3214 rows × 5 columns</p>\n",
       "</div>"
      ],
      "text/plain": [
       "               calls_count  calls_duration  mb_used_sum  msg_count tariff\n",
       "user_id month                                                            \n",
       "1000    5             22.0           159.0       2254.0       22.0  ultra\n",
       "        6             43.0           172.0      23234.0       60.0  ultra\n",
       "        7             47.0           340.0      14004.0       75.0  ultra\n",
       "        8             52.0           408.0      14056.0       81.0  ultra\n",
       "        9             58.0           466.0      14569.0       57.0  ultra\n",
       "...                    ...             ...          ...        ...    ...\n",
       "1498    10            41.0           247.0      20580.0       42.0  smart\n",
       "1499    9              9.0            70.0       1846.0       11.0  smart\n",
       "        10            68.0           449.0      17789.0       48.0  smart\n",
       "        11            74.0           612.0      17964.0       59.0  smart\n",
       "        12            69.0           492.0      13056.0       66.0  smart\n",
       "\n",
       "[3214 rows x 5 columns]"
      ]
     },
     "execution_count": 37,
     "metadata": {},
     "output_type": "execute_result"
    }
   ],
   "source": [
    "users_pivot"
   ]
  },
  {
   "cell_type": "markdown",
   "metadata": {},
   "source": [
    "Однако, ранее мы могли заметить, что все таблицы имеют разное количество строк. Это объясняется тем, что у некоторых пользователей отсутствовала информация по конкретным месяцам, например они могли не отправлять в месяц ни одного сообщения, или не выходить в интернет. А это значит, что в нашей сводной таблице образовались пропуски. Заполнил их нулями, исходя из той логики, что пользователь не совершал никаких действий в определенный период."
   ]
  },
  {
   "cell_type": "code",
   "execution_count": 38,
   "metadata": {},
   "outputs": [
    {
     "data": {
      "text/plain": [
       "calls_count       0\n",
       "calls_duration    0\n",
       "mb_used_sum       0\n",
       "msg_count         0\n",
       "tariff            0\n",
       "dtype: int64"
      ]
     },
     "execution_count": 38,
     "metadata": {},
     "output_type": "execute_result"
    }
   ],
   "source": [
    "users_pivot.fillna(0, inplace=True)\n",
    "users_pivot.isnull().sum()"
   ]
  },
  {
   "cell_type": "markdown",
   "metadata": {},
   "source": [
    "Так же для проверки гипотез нам понадобится информация о городе пользователей, добавим ее в таблицу."
   ]
  },
  {
   "cell_type": "code",
   "execution_count": 39,
   "metadata": {},
   "outputs": [],
   "source": [
    "users_pivot = users_pivot.join(users.loc[:,['user_id', 'city']].set_index('user_id'), how='outer')\n"
   ]
  },
  {
   "cell_type": "code",
   "execution_count": 40,
   "metadata": {
    "scrolled": false
   },
   "outputs": [
    {
     "data": {
      "text/html": [
       "<div>\n",
       "<style scoped>\n",
       "    .dataframe tbody tr th:only-of-type {\n",
       "        vertical-align: middle;\n",
       "    }\n",
       "\n",
       "    .dataframe tbody tr th {\n",
       "        vertical-align: top;\n",
       "    }\n",
       "\n",
       "    .dataframe thead th {\n",
       "        text-align: right;\n",
       "    }\n",
       "</style>\n",
       "<table border=\"1\" class=\"dataframe\">\n",
       "  <thead>\n",
       "    <tr style=\"text-align: right;\">\n",
       "      <th></th>\n",
       "      <th></th>\n",
       "      <th>calls_count</th>\n",
       "      <th>calls_duration</th>\n",
       "      <th>mb_used_sum</th>\n",
       "      <th>msg_count</th>\n",
       "      <th>tariff</th>\n",
       "      <th>city</th>\n",
       "      <th>gb_used_sum</th>\n",
       "    </tr>\n",
       "    <tr>\n",
       "      <th>user_id</th>\n",
       "      <th>month</th>\n",
       "      <th></th>\n",
       "      <th></th>\n",
       "      <th></th>\n",
       "      <th></th>\n",
       "      <th></th>\n",
       "      <th></th>\n",
       "      <th></th>\n",
       "    </tr>\n",
       "  </thead>\n",
       "  <tbody>\n",
       "    <tr>\n",
       "      <td rowspan=\"5\" valign=\"top\">1000</td>\n",
       "      <td>5</td>\n",
       "      <td>22.0</td>\n",
       "      <td>159.0</td>\n",
       "      <td>2254.0</td>\n",
       "      <td>22.0</td>\n",
       "      <td>ultra</td>\n",
       "      <td>Краснодар</td>\n",
       "      <td>3</td>\n",
       "    </tr>\n",
       "    <tr>\n",
       "      <td>6</td>\n",
       "      <td>43.0</td>\n",
       "      <td>172.0</td>\n",
       "      <td>23234.0</td>\n",
       "      <td>60.0</td>\n",
       "      <td>ultra</td>\n",
       "      <td>Краснодар</td>\n",
       "      <td>23</td>\n",
       "    </tr>\n",
       "    <tr>\n",
       "      <td>7</td>\n",
       "      <td>47.0</td>\n",
       "      <td>340.0</td>\n",
       "      <td>14004.0</td>\n",
       "      <td>75.0</td>\n",
       "      <td>ultra</td>\n",
       "      <td>Краснодар</td>\n",
       "      <td>14</td>\n",
       "    </tr>\n",
       "    <tr>\n",
       "      <td>8</td>\n",
       "      <td>52.0</td>\n",
       "      <td>408.0</td>\n",
       "      <td>14056.0</td>\n",
       "      <td>81.0</td>\n",
       "      <td>ultra</td>\n",
       "      <td>Краснодар</td>\n",
       "      <td>14</td>\n",
       "    </tr>\n",
       "    <tr>\n",
       "      <td>9</td>\n",
       "      <td>58.0</td>\n",
       "      <td>466.0</td>\n",
       "      <td>14569.0</td>\n",
       "      <td>57.0</td>\n",
       "      <td>ultra</td>\n",
       "      <td>Краснодар</td>\n",
       "      <td>15</td>\n",
       "    </tr>\n",
       "    <tr>\n",
       "      <td>...</td>\n",
       "      <td>...</td>\n",
       "      <td>...</td>\n",
       "      <td>...</td>\n",
       "      <td>...</td>\n",
       "      <td>...</td>\n",
       "      <td>...</td>\n",
       "      <td>...</td>\n",
       "      <td>...</td>\n",
       "    </tr>\n",
       "    <tr>\n",
       "      <td>1498</td>\n",
       "      <td>10</td>\n",
       "      <td>41.0</td>\n",
       "      <td>247.0</td>\n",
       "      <td>20580.0</td>\n",
       "      <td>42.0</td>\n",
       "      <td>smart</td>\n",
       "      <td>Владикавказ</td>\n",
       "      <td>21</td>\n",
       "    </tr>\n",
       "    <tr>\n",
       "      <td rowspan=\"4\" valign=\"top\">1499</td>\n",
       "      <td>9</td>\n",
       "      <td>9.0</td>\n",
       "      <td>70.0</td>\n",
       "      <td>1846.0</td>\n",
       "      <td>11.0</td>\n",
       "      <td>smart</td>\n",
       "      <td>Пермь</td>\n",
       "      <td>2</td>\n",
       "    </tr>\n",
       "    <tr>\n",
       "      <td>10</td>\n",
       "      <td>68.0</td>\n",
       "      <td>449.0</td>\n",
       "      <td>17789.0</td>\n",
       "      <td>48.0</td>\n",
       "      <td>smart</td>\n",
       "      <td>Пермь</td>\n",
       "      <td>18</td>\n",
       "    </tr>\n",
       "    <tr>\n",
       "      <td>11</td>\n",
       "      <td>74.0</td>\n",
       "      <td>612.0</td>\n",
       "      <td>17964.0</td>\n",
       "      <td>59.0</td>\n",
       "      <td>smart</td>\n",
       "      <td>Пермь</td>\n",
       "      <td>18</td>\n",
       "    </tr>\n",
       "    <tr>\n",
       "      <td>12</td>\n",
       "      <td>69.0</td>\n",
       "      <td>492.0</td>\n",
       "      <td>13056.0</td>\n",
       "      <td>66.0</td>\n",
       "      <td>smart</td>\n",
       "      <td>Пермь</td>\n",
       "      <td>13</td>\n",
       "    </tr>\n",
       "  </tbody>\n",
       "</table>\n",
       "<p>3214 rows × 7 columns</p>\n",
       "</div>"
      ],
      "text/plain": [
       "               calls_count  calls_duration  mb_used_sum  msg_count tariff  \\\n",
       "user_id month                                                               \n",
       "1000    5             22.0           159.0       2254.0       22.0  ultra   \n",
       "        6             43.0           172.0      23234.0       60.0  ultra   \n",
       "        7             47.0           340.0      14004.0       75.0  ultra   \n",
       "        8             52.0           408.0      14056.0       81.0  ultra   \n",
       "        9             58.0           466.0      14569.0       57.0  ultra   \n",
       "...                    ...             ...          ...        ...    ...   \n",
       "1498    10            41.0           247.0      20580.0       42.0  smart   \n",
       "1499    9              9.0            70.0       1846.0       11.0  smart   \n",
       "        10            68.0           449.0      17789.0       48.0  smart   \n",
       "        11            74.0           612.0      17964.0       59.0  smart   \n",
       "        12            69.0           492.0      13056.0       66.0  smart   \n",
       "\n",
       "                      city  gb_used_sum  \n",
       "user_id month                            \n",
       "1000    5        Краснодар            3  \n",
       "        6        Краснодар           23  \n",
       "        7        Краснодар           14  \n",
       "        8        Краснодар           14  \n",
       "        9        Краснодар           15  \n",
       "...                    ...          ...  \n",
       "1498    10     Владикавказ           21  \n",
       "1499    9            Пермь            2  \n",
       "        10           Пермь           18  \n",
       "        11           Пермь           18  \n",
       "        12           Пермь           13  \n",
       "\n",
       "[3214 rows x 7 columns]"
      ]
     },
     "execution_count": 40,
     "metadata": {},
     "output_type": "execute_result"
    }
   ],
   "source": [
    "users_pivot['gb_used_sum'] = users_pivot['mb_used_sum']/1024\n",
    "users_pivot['gb_used_sum'] = np.ceil(users_pivot['gb_used_sum'])\n",
    "users_pivot = users_pivot.astype({'gb_used_sum': int}) #меняем тип данных на int64\n",
    "users_pivot\n"
   ]
  },
  {
   "cell_type": "markdown",
   "metadata": {},
   "source": [
    "<div class=\"alert alert-info\"> <b>Комментарий студента:</b> Здесь был добавлен столбец использованных гигабайтов gb_used_sum, а так же было произведено округление в большую сторону.</div> "
   ]
  },
  {
   "cell_type": "markdown",
   "metadata": {},
   "source": [
    "Наша сводная таблица готова к расчету помесячной выручки. Для расчета выручки необходимо для каждого пользователя вычесть бесплатный лимит из суммарного количества звонков, сообщений и интернет-трафика, а остаток умножить на значение из тарифного плана. Так же нужно добавить к сумме абонентскую плату за месяц."
   ]
  },
  {
   "cell_type": "markdown",
   "metadata": {},
   "source": [
    "Объявим функцию total_income_per_month_calculation, которая будет возвращать суммарную выручку за каждого пользователя в месяц. Для расчета выручки необходимо прибавить к абонентской плате дополнительную плату за минуты, сообщения и трафик вышедший за пределы лимитов."
   ]
  },
  {
   "cell_type": "code",
   "execution_count": 41,
   "metadata": {},
   "outputs": [],
   "source": [
    "def total_income_per_month_calculation(row):\n",
    "    #присвоим переменным конкретные значения строк из таблицы\n",
    "    calls_count = row['calls_count']\n",
    "    calls_duration = row['calls_duration']\n",
    "    gb_used_sum = row['gb_used_sum']\n",
    "    msg_count = row['msg_count']\n",
    "    tariff = row['tariff']\n",
    "    \n",
    "    #Зададим переменные стоимости и лимитов для каждого из тарифов.\n",
    "    gigabytes_included = int(tariffs.loc[tariffs.loc[:,'tariff_name'] == tariff]['mb_per_month_included'])/1024\n",
    "    messages_included = int(tariffs.loc[tariffs.loc[:,'tariff_name'] == tariff]['messages_included'])\n",
    "    minutes_included = int(tariffs.loc[tariffs.loc[:,'tariff_name'] == tariff]['minutes_included'])\n",
    "    monthly_fee = int(tariffs.loc[tariffs.loc[:,'tariff_name'] == tariff]['rub_monthly_fee'])\n",
    "    price_for_gb = int(tariffs.loc[tariffs.loc[:,'tariff_name'] == tariff]['rub_per_gb'])\n",
    "    price_for_message = int(tariffs.loc[tariffs.loc[:,'tariff_name'] == tariff]['rub_per_message'])\n",
    "    price_for_minute = int(tariffs.loc[tariffs.loc[:,'tariff_name'] == tariff]['rub_per_minute'])\n",
    "    \n",
    "    over_gb = 0                #объявляем переменные перерасхода для трафика, сообщений и звонков.\n",
    "    over_msg = 0               #в них мы будем сохранять для каждого пользователя значения сверх лимита\n",
    "    over_calls = 0             #затем при наличии перерасхода минут/сообщений/трафика значения умножим на стоимость.\n",
    "    \n",
    "    #если пользователь вышел за лимит трафика, посчитаем сколько рублей он должен заплатить за дополнительный трафик\n",
    "    #т.к. пакеты трафика покупаются гигабайтами, то выход за лимит даже на 1 мб. приведет к покупке целого гигабайта\n",
    "    #учтем это, разделив количество перерасходованных мегабайт на 1000 и округлив до большего значения.\n",
    "    #для получения цены в рублях умножим значения на стоимость.\n",
    "    if gb_used_sum > gigabytes_included:\n",
    "        over_gb = ceil(gb_used_sum - gigabytes_included) * price_for_gb #Исправил на 1024\n",
    "    \n",
    "    #аналогично поступаем с минутами и сообщения, но не делим на 1000 и не округляем, т.к. округлили ранее.\n",
    "    if calls_duration > minutes_included:\n",
    "        over_calls = (calls_duration - minutes_included) * price_for_minute\n",
    "        \n",
    "    if msg_count > messages_included:\n",
    "        over_msg = (msg_count - messages_included) * price_for_message \n",
    "    \n",
    "    #считаем суммарную выручку с пользователя, добавив ко всем перерасходам абонентскую плату.\n",
    "    return over_gb + over_msg + over_calls + monthly_fee"
   ]
  },
  {
   "cell_type": "markdown",
   "metadata": {},
   "source": [
    "Применим нашу функцию к датафрейму, используя метод .apply() и указав в качестве аргумента название функции и axis=1 для обхода по строкам."
   ]
  },
  {
   "cell_type": "markdown",
   "metadata": {},
   "source": [
    "<div class=\"alert alert-info\"> <b>Комментарий студента:</b> Здесь мы выявили количество пключенных гигабайтов поделив 'mb_per_month_included' на <b>1024</b>.</div> "
   ]
  },
  {
   "cell_type": "markdown",
   "metadata": {},
   "source": [
    "<div class=\"alert alert-success\">\n",
    "<b>Комментарий ревьюера v2:</b>\n",
    " \n",
    "Спасибо, что поправил. Теперь процесс расчета полностью верный.\n",
    "</div>\n"
   ]
  },
  {
   "cell_type": "code",
   "execution_count": 42,
   "metadata": {},
   "outputs": [
    {
     "name": "stderr",
     "output_type": "stream",
     "text": [
      "100%|██████████| 3214/3214 [00:28<00:00, 111.38it/s]\n"
     ]
    }
   ],
   "source": [
    "users_pivot['total_income'] = users_pivot.progress_apply(total_income_per_month_calculation, axis = 1)\n",
    "#используем progress_apply вместо apply, чтобы посмотреть, сколько времени выполняется функция"
   ]
  },
  {
   "cell_type": "markdown",
   "metadata": {},
   "source": [
    "Выведем на экран 10 случайных строк, чтобы проверить правильность выполнения кода."
   ]
  },
  {
   "cell_type": "code",
   "execution_count": 43,
   "metadata": {},
   "outputs": [
    {
     "data": {
      "text/html": [
       "<div>\n",
       "<style scoped>\n",
       "    .dataframe tbody tr th:only-of-type {\n",
       "        vertical-align: middle;\n",
       "    }\n",
       "\n",
       "    .dataframe tbody tr th {\n",
       "        vertical-align: top;\n",
       "    }\n",
       "\n",
       "    .dataframe thead th {\n",
       "        text-align: right;\n",
       "    }\n",
       "</style>\n",
       "<table border=\"1\" class=\"dataframe\">\n",
       "  <thead>\n",
       "    <tr style=\"text-align: right;\">\n",
       "      <th></th>\n",
       "      <th></th>\n",
       "      <th>calls_count</th>\n",
       "      <th>calls_duration</th>\n",
       "      <th>mb_used_sum</th>\n",
       "      <th>msg_count</th>\n",
       "      <th>tariff</th>\n",
       "      <th>city</th>\n",
       "      <th>gb_used_sum</th>\n",
       "      <th>total_income</th>\n",
       "    </tr>\n",
       "    <tr>\n",
       "      <th>user_id</th>\n",
       "      <th>month</th>\n",
       "      <th></th>\n",
       "      <th></th>\n",
       "      <th></th>\n",
       "      <th></th>\n",
       "      <th></th>\n",
       "      <th></th>\n",
       "      <th></th>\n",
       "      <th></th>\n",
       "    </tr>\n",
       "  </thead>\n",
       "  <tbody>\n",
       "    <tr>\n",
       "      <td>1078</td>\n",
       "      <td>12</td>\n",
       "      <td>177.0</td>\n",
       "      <td>1273.0</td>\n",
       "      <td>26232.0</td>\n",
       "      <td>0.0</td>\n",
       "      <td>ultra</td>\n",
       "      <td>Волгоград</td>\n",
       "      <td>26</td>\n",
       "      <td>1950.0</td>\n",
       "    </tr>\n",
       "    <tr>\n",
       "      <td>1285</td>\n",
       "      <td>5</td>\n",
       "      <td>40.0</td>\n",
       "      <td>312.0</td>\n",
       "      <td>6058.0</td>\n",
       "      <td>102.0</td>\n",
       "      <td>smart</td>\n",
       "      <td>Краснодар</td>\n",
       "      <td>6</td>\n",
       "      <td>706.0</td>\n",
       "    </tr>\n",
       "    <tr>\n",
       "      <td>1478</td>\n",
       "      <td>11</td>\n",
       "      <td>33.0</td>\n",
       "      <td>249.0</td>\n",
       "      <td>17760.0</td>\n",
       "      <td>73.0</td>\n",
       "      <td>smart</td>\n",
       "      <td>Грозный</td>\n",
       "      <td>18</td>\n",
       "      <td>1219.0</td>\n",
       "    </tr>\n",
       "    <tr>\n",
       "      <td>1134</td>\n",
       "      <td>12</td>\n",
       "      <td>69.0</td>\n",
       "      <td>468.0</td>\n",
       "      <td>15557.0</td>\n",
       "      <td>64.0</td>\n",
       "      <td>smart</td>\n",
       "      <td>Красноярск</td>\n",
       "      <td>16</td>\n",
       "      <td>792.0</td>\n",
       "    </tr>\n",
       "    <tr>\n",
       "      <td>1099</td>\n",
       "      <td>12</td>\n",
       "      <td>85.0</td>\n",
       "      <td>640.0</td>\n",
       "      <td>16744.0</td>\n",
       "      <td>46.0</td>\n",
       "      <td>ultra</td>\n",
       "      <td>Тольятти</td>\n",
       "      <td>17</td>\n",
       "      <td>1950.0</td>\n",
       "    </tr>\n",
       "    <tr>\n",
       "      <td>1251</td>\n",
       "      <td>6</td>\n",
       "      <td>73.0</td>\n",
       "      <td>440.0</td>\n",
       "      <td>26118.0</td>\n",
       "      <td>84.0</td>\n",
       "      <td>smart</td>\n",
       "      <td>Пермь</td>\n",
       "      <td>26</td>\n",
       "      <td>2852.0</td>\n",
       "    </tr>\n",
       "    <tr>\n",
       "      <td>1453</td>\n",
       "      <td>5</td>\n",
       "      <td>118.0</td>\n",
       "      <td>929.0</td>\n",
       "      <td>29679.0</td>\n",
       "      <td>54.0</td>\n",
       "      <td>ultra</td>\n",
       "      <td>Москва</td>\n",
       "      <td>29</td>\n",
       "      <td>1950.0</td>\n",
       "    </tr>\n",
       "    <tr>\n",
       "      <td>1396</td>\n",
       "      <td>4</td>\n",
       "      <td>57.0</td>\n",
       "      <td>485.0</td>\n",
       "      <td>9346.0</td>\n",
       "      <td>88.0</td>\n",
       "      <td>ultra</td>\n",
       "      <td>Пенза</td>\n",
       "      <td>10</td>\n",
       "      <td>1950.0</td>\n",
       "    </tr>\n",
       "    <tr>\n",
       "      <td>1217</td>\n",
       "      <td>9</td>\n",
       "      <td>72.0</td>\n",
       "      <td>418.0</td>\n",
       "      <td>16007.0</td>\n",
       "      <td>68.0</td>\n",
       "      <td>smart</td>\n",
       "      <td>Ульяновск</td>\n",
       "      <td>16</td>\n",
       "      <td>804.0</td>\n",
       "    </tr>\n",
       "    <tr>\n",
       "      <td>1436</td>\n",
       "      <td>8</td>\n",
       "      <td>57.0</td>\n",
       "      <td>393.0</td>\n",
       "      <td>29943.0</td>\n",
       "      <td>23.0</td>\n",
       "      <td>ultra</td>\n",
       "      <td>Москва</td>\n",
       "      <td>30</td>\n",
       "      <td>1950.0</td>\n",
       "    </tr>\n",
       "  </tbody>\n",
       "</table>\n",
       "</div>"
      ],
      "text/plain": [
       "               calls_count  calls_duration  mb_used_sum  msg_count tariff  \\\n",
       "user_id month                                                               \n",
       "1078    12           177.0          1273.0      26232.0        0.0  ultra   \n",
       "1285    5             40.0           312.0       6058.0      102.0  smart   \n",
       "1478    11            33.0           249.0      17760.0       73.0  smart   \n",
       "1134    12            69.0           468.0      15557.0       64.0  smart   \n",
       "1099    12            85.0           640.0      16744.0       46.0  ultra   \n",
       "1251    6             73.0           440.0      26118.0       84.0  smart   \n",
       "1453    5            118.0           929.0      29679.0       54.0  ultra   \n",
       "1396    4             57.0           485.0       9346.0       88.0  ultra   \n",
       "1217    9             72.0           418.0      16007.0       68.0  smart   \n",
       "1436    8             57.0           393.0      29943.0       23.0  ultra   \n",
       "\n",
       "                     city  gb_used_sum  total_income  \n",
       "user_id month                                         \n",
       "1078    12      Волгоград           26        1950.0  \n",
       "1285    5       Краснодар            6         706.0  \n",
       "1478    11        Грозный           18        1219.0  \n",
       "1134    12     Красноярск           16         792.0  \n",
       "1099    12       Тольятти           17        1950.0  \n",
       "1251    6           Пермь           26        2852.0  \n",
       "1453    5          Москва           29        1950.0  \n",
       "1396    4           Пенза           10        1950.0  \n",
       "1217    9       Ульяновск           16         804.0  \n",
       "1436    8          Москва           30        1950.0  "
      ]
     },
     "execution_count": 43,
     "metadata": {},
     "output_type": "execute_result"
    }
   ],
   "source": [
    "users_pivot.sample(10)"
   ]
  },
  {
   "cell_type": "code",
   "execution_count": 44,
   "metadata": {
    "scrolled": false
   },
   "outputs": [
    {
     "data": {
      "text/plain": [
       "calls_count       0\n",
       "calls_duration    0\n",
       "mb_used_sum       0\n",
       "msg_count         0\n",
       "tariff            0\n",
       "city              0\n",
       "gb_used_sum       0\n",
       "total_income      0\n",
       "dtype: int64"
      ]
     },
     "execution_count": 44,
     "metadata": {},
     "output_type": "execute_result"
    }
   ],
   "source": [
    "users_pivot.isnull().sum()"
   ]
  },
  {
   "cell_type": "markdown",
   "metadata": {},
   "source": [
    "<div class=\"alert alert-success\">\n",
    "<b>Комментарий ревьюера v1:</b>\n",
    "    \n",
    "Расчет выручки верный! Здорово, что через функцию c описанием каждого шага.\n",
    "\n",
    "Кстати для перевода в гигабайты нужно на 1024 делить.\n",
    "\n",
    "Можно также сделать расчет выручки немного по другому (чуть быстрее/короче) с помощью np.where ([https://numpy.org/doc/stable/reference/generated/numpy.where.html](https://numpy.org/doc/stable/reference/generated/numpy.where.html)):\n",
    "\n",
    "```\n",
    "np.where('условие: если перерасход выполняем второй аргумент','перерасход умножаем на цену', '0')\n",
    "```\n",
    "    \n",
    "Также можно использовать функцию .clip(0) \n",
    "    \n",
    "    users_pivot['mb_used_sum'] = (gb_used_sum - gb_included).clip(0) * price_for_gb\n",
    "</div>"
   ]
  },
  {
   "cell_type": "markdown",
   "metadata": {},
   "source": [
    "### Вывод по этапу предобработки данных"
   ]
  },
  {
   "cell_type": "markdown",
   "metadata": {},
   "source": [
    "На этапе предобработки данных мы постарились убрать недочеты, выявленные на этапе изучения общей информации:\n",
    "\n",
    "- Был изменен тип данных с object на datetime64 для всех столбцов, содержащих дату.\n",
    "- Было произведено округление в большую сторону значений минут разговора и потраченного трафика.\n",
    "- Пропущенные значения в столбце 'churn_date' в таблице users не были заполнены, в связи с тем, что в дальнейшем анализе эти данные не используются, а так же исходя из той логики, что незаполненные значения означают, что пользователь пользуется тарифом до сих пор.\n",
    "- Было принято решение не изменять и не удалять нулевые значения в столбцах с продолжительностью разговора и использованного трафика, исходя из той логики, что нули означают либо непринятые вызовы, либо ошибочно записанную интернет сессию.\n",
    "- Был удален лишний столбец из датафрейма internet.\n",
    "- Были добавлены столбцы со значением месяца в датафреймы calls, internet, messages.\n",
    "- Была создана сводная общая таблица, в которой были посчитана сумма продолжительности разговоров, отправленных сообщений и израсходованного трафика для каждого пользователя по месяцам.\n",
    "- Была расчитана ежемесечная выручка с каждого пользователя.\n",
    "\n",
    "Такая предобработка данных позволит нам провести быстрый и информативный анализ данных, вычислить основные статистические характеристики, а так же проверить гипотезы."
   ]
  },
  {
   "cell_type": "markdown",
   "metadata": {},
   "source": [
    "## Анализ данных"
   ]
  },
  {
   "cell_type": "markdown",
   "metadata": {},
   "source": [
    "Выясним, сколько минут разговора, трафика и сообщений в среднем в месяц требуется пользователям каждого тарифа. Создадим сводную таблицу, сгруппировав данные по пользователям и используя функцию для нахождения медианы."
   ]
  },
  {
   "cell_type": "code",
   "execution_count": 45,
   "metadata": {},
   "outputs": [],
   "source": [
    "medians_per_month = users_pivot.pivot_table(index='user_id', \n",
    "                        values=['calls_duration', 'mb_used_sum', 'msg_count'], \n",
    "                        aggfunc='median')"
   ]
  },
  {
   "cell_type": "markdown",
   "metadata": {},
   "source": [
    "Добавим в таблицу информацию о тарифах пользователей."
   ]
  },
  {
   "cell_type": "code",
   "execution_count": 46,
   "metadata": {
    "scrolled": true
   },
   "outputs": [
    {
     "data": {
      "text/html": [
       "<div>\n",
       "<style scoped>\n",
       "    .dataframe tbody tr th:only-of-type {\n",
       "        vertical-align: middle;\n",
       "    }\n",
       "\n",
       "    .dataframe tbody tr th {\n",
       "        vertical-align: top;\n",
       "    }\n",
       "\n",
       "    .dataframe thead th {\n",
       "        text-align: right;\n",
       "    }\n",
       "</style>\n",
       "<table border=\"1\" class=\"dataframe\">\n",
       "  <thead>\n",
       "    <tr style=\"text-align: right;\">\n",
       "      <th></th>\n",
       "      <th>calls_duration</th>\n",
       "      <th>mb_used_sum</th>\n",
       "      <th>msg_count</th>\n",
       "      <th>tariff</th>\n",
       "    </tr>\n",
       "    <tr>\n",
       "      <th>user_id</th>\n",
       "      <th></th>\n",
       "      <th></th>\n",
       "      <th></th>\n",
       "      <th></th>\n",
       "    </tr>\n",
       "  </thead>\n",
       "  <tbody>\n",
       "    <tr>\n",
       "      <td>1000</td>\n",
       "      <td>339.0</td>\n",
       "      <td>14312.5</td>\n",
       "      <td>65.0</td>\n",
       "      <td>ultra</td>\n",
       "    </tr>\n",
       "    <tr>\n",
       "      <td>1001</td>\n",
       "      <td>422.0</td>\n",
       "      <td>16233.5</td>\n",
       "      <td>0.0</td>\n",
       "      <td>smart</td>\n",
       "    </tr>\n",
       "    <tr>\n",
       "      <td>1002</td>\n",
       "      <td>214.0</td>\n",
       "      <td>17581.0</td>\n",
       "      <td>11.0</td>\n",
       "      <td>smart</td>\n",
       "    </tr>\n",
       "    <tr>\n",
       "      <td>1003</td>\n",
       "      <td>824.0</td>\n",
       "      <td>11357.0</td>\n",
       "      <td>83.0</td>\n",
       "      <td>ultra</td>\n",
       "    </tr>\n",
       "    <tr>\n",
       "      <td>1004</td>\n",
       "      <td>132.5</td>\n",
       "      <td>17811.5</td>\n",
       "      <td>154.5</td>\n",
       "      <td>ultra</td>\n",
       "    </tr>\n",
       "  </tbody>\n",
       "</table>\n",
       "</div>"
      ],
      "text/plain": [
       "         calls_duration  mb_used_sum  msg_count tariff\n",
       "user_id                                               \n",
       "1000              339.0      14312.5       65.0  ultra\n",
       "1001              422.0      16233.5        0.0  smart\n",
       "1002              214.0      17581.0       11.0  smart\n",
       "1003              824.0      11357.0       83.0  ultra\n",
       "1004              132.5      17811.5      154.5  ultra"
      ]
     },
     "execution_count": 46,
     "metadata": {},
     "output_type": "execute_result"
    }
   ],
   "source": [
    "medians_per_month.join(users.loc[:,['user_id', 'tariff']].set_index('user_id'), how='outer').head()"
   ]
  },
  {
   "cell_type": "markdown",
   "metadata": {},
   "source": [
    "Как видно, пользователи по разному пользуются услугами: кто-то за месяц не отправляет ни одного сообщения, а кто-то проговаривает 700 минут."
   ]
  },
  {
   "cell_type": "markdown",
   "metadata": {},
   "source": [
    "Посчитаем среднее, медиану, дисперсию и стандартное отклонение для продолжительности звонков, использованного траффика и количества сообщений.\n",
    "\n",
    "Для этого создадим сводную таблицу statistics, в которой индексами будут наши тарифы, в качестве значений передадим продолжительность разговора, израсходованный траффик, количество сообщений. Для этих функций вычислим среднее, медиану, дисперсию и стандартное отклонение, используя функции библиотеки numpy."
   ]
  },
  {
   "cell_type": "code",
   "execution_count": 47,
   "metadata": {},
   "outputs": [
    {
     "data": {
      "text/html": [
       "<div>\n",
       "<style scoped>\n",
       "    .dataframe tbody tr th:only-of-type {\n",
       "        vertical-align: middle;\n",
       "    }\n",
       "\n",
       "    .dataframe tbody tr th {\n",
       "        vertical-align: top;\n",
       "    }\n",
       "\n",
       "    .dataframe thead tr th {\n",
       "        text-align: left;\n",
       "    }\n",
       "\n",
       "    .dataframe thead tr:last-of-type th {\n",
       "        text-align: right;\n",
       "    }\n",
       "</style>\n",
       "<table border=\"1\" class=\"dataframe\">\n",
       "  <thead>\n",
       "    <tr>\n",
       "      <th></th>\n",
       "      <th colspan=\"4\" halign=\"left\">calls_duration</th>\n",
       "      <th colspan=\"4\" halign=\"left\">gb_used_sum</th>\n",
       "      <th colspan=\"4\" halign=\"left\">mb_used_sum</th>\n",
       "      <th colspan=\"4\" halign=\"left\">msg_count</th>\n",
       "    </tr>\n",
       "    <tr>\n",
       "      <th></th>\n",
       "      <th>mean</th>\n",
       "      <th>median</th>\n",
       "      <th>std</th>\n",
       "      <th>var</th>\n",
       "      <th>mean</th>\n",
       "      <th>median</th>\n",
       "      <th>std</th>\n",
       "      <th>var</th>\n",
       "      <th>mean</th>\n",
       "      <th>median</th>\n",
       "      <th>std</th>\n",
       "      <th>var</th>\n",
       "      <th>mean</th>\n",
       "      <th>median</th>\n",
       "      <th>std</th>\n",
       "      <th>var</th>\n",
       "    </tr>\n",
       "    <tr>\n",
       "      <th>tariff</th>\n",
       "      <th></th>\n",
       "      <th></th>\n",
       "      <th></th>\n",
       "      <th></th>\n",
       "      <th></th>\n",
       "      <th></th>\n",
       "      <th></th>\n",
       "      <th></th>\n",
       "      <th></th>\n",
       "      <th></th>\n",
       "      <th></th>\n",
       "      <th></th>\n",
       "      <th></th>\n",
       "      <th></th>\n",
       "      <th></th>\n",
       "      <th></th>\n",
       "    </tr>\n",
       "  </thead>\n",
       "  <tbody>\n",
       "    <tr>\n",
       "      <td>smart</td>\n",
       "      <td>417.9</td>\n",
       "      <td>422.0</td>\n",
       "      <td>190.3</td>\n",
       "      <td>36219.3</td>\n",
       "      <td>16.3</td>\n",
       "      <td>17.0</td>\n",
       "      <td>5.7</td>\n",
       "      <td>33.0</td>\n",
       "      <td>16208.9</td>\n",
       "      <td>16507.0</td>\n",
       "      <td>5870.5</td>\n",
       "      <td>34462562.8</td>\n",
       "      <td>33.4</td>\n",
       "      <td>28.0</td>\n",
       "      <td>28.2</td>\n",
       "      <td>796.8</td>\n",
       "    </tr>\n",
       "    <tr>\n",
       "      <td>ultra</td>\n",
       "      <td>526.6</td>\n",
       "      <td>518.0</td>\n",
       "      <td>317.6</td>\n",
       "      <td>100873.6</td>\n",
       "      <td>19.5</td>\n",
       "      <td>19.0</td>\n",
       "      <td>9.9</td>\n",
       "      <td>97.1</td>\n",
       "      <td>19469.3</td>\n",
       "      <td>19309.0</td>\n",
       "      <td>10087.2</td>\n",
       "      <td>101751558.0</td>\n",
       "      <td>49.4</td>\n",
       "      <td>38.0</td>\n",
       "      <td>47.8</td>\n",
       "      <td>2285.3</td>\n",
       "    </tr>\n",
       "  </tbody>\n",
       "</table>\n",
       "</div>"
      ],
      "text/plain": [
       "       calls_duration                         gb_used_sum                    \\\n",
       "                 mean median    std       var        mean median  std   var   \n",
       "tariff                                                                        \n",
       "smart           417.9  422.0  190.3   36219.3        16.3   17.0  5.7  33.0   \n",
       "ultra           526.6  518.0  317.6  100873.6        19.5   19.0  9.9  97.1   \n",
       "\n",
       "       mb_used_sum                                msg_count               \\\n",
       "              mean   median      std          var      mean median   std   \n",
       "tariff                                                                     \n",
       "smart      16208.9  16507.0   5870.5   34462562.8      33.4   28.0  28.2   \n",
       "ultra      19469.3  19309.0  10087.2  101751558.0      49.4   38.0  47.8   \n",
       "\n",
       "                \n",
       "           var  \n",
       "tariff          \n",
       "smart    796.8  \n",
       "ultra   2285.3  "
      ]
     },
     "execution_count": 47,
     "metadata": {},
     "output_type": "execute_result"
    }
   ],
   "source": [
    "statistics = users_pivot.pivot_table(index=['tariff'], values=['calls_duration', 'mb_used_sum', 'gb_used_sum', 'msg_count'], \n",
    "                    aggfunc={'calls_duration': [np.mean, np.median, np.var, np.std], \n",
    "                             'mb_used_sum': [np.mean, np.median, np.var, np.std],\n",
    "                             'gb_used_sum': [np.mean, np.median, np.var, np.std],\n",
    "                             'msg_count': [np.mean, np.median, np.var, np.std]})\n",
    "\n",
    "statistics.applymap(\"{:.1f}\".format) #округлим выводимые значения используя format"
   ]
  },
  {
   "cell_type": "markdown",
   "metadata": {},
   "source": [
    "Из показателей можно сделать следующие выводы:\n",
    "\n",
    "- В среднем пользователь смарт проговаривает 422 минуты в месяц, а пользователь ультра - 518 минут.\n",
    "- В среднем пользователь смарт использует 17 гб. трафика, а пользователь тарифа ультра - 19 гб.\n",
    "- В среднем пользователь смарт отправляет 28 сообщений, а пользователь тарифа ультра - 38.\n",
    "- Дисперсии тарифа ультра больше, чем у тарифа смарт, это говорит нам о большем размахе значений.\n",
    "\n",
    "В целом пользователи тарифа \"Ультра\" пользуются услугами оператора более свободно, они больше разговаривают, больше проводят времени в интернете, отправляют больше сообщений, при этом среднестатистический пользователь не превышает тарифные лимиты. С другой стороны среднестатистическому пользователю тарифа \"Смарт\" приходится докупать 1 гб. трафика сверх лимита."
   ]
  },
  {
   "cell_type": "markdown",
   "metadata": {},
   "source": [
    "Построим боксплоты и диаграммы для продолжительности звонков, использованногот раффика и количества сообщений для разных тарифов."
   ]
  },
  {
   "cell_type": "code",
   "execution_count": 48,
   "metadata": {},
   "outputs": [
    {
     "data": {
      "image/png": "[encoded data removed]",
      "text/plain": [
       "<Figure size 360x360 with 1 Axes>"
      ]
     },
     "metadata": {
      "needs_background": "light"
     },
     "output_type": "display_data"
    },
    {
     "data": {
      "image/png": "[encoded data removed]",
      "text/plain": [
       "<Figure size 360x360 with 1 Axes>"
      ]
     },
     "metadata": {
      "needs_background": "light"
     },
     "output_type": "display_data"
    },
    {
     "data": {
      "image/png": "[encoded data removed]",
      "text/plain": [
       "<Figure size 360x360 with 1 Axes>"
      ]
     },
     "metadata": {
      "needs_background": "light"
     },
     "output_type": "display_data"
    },
    {
     "data": {
      "image/png": "[encoded data removed]",
      "text/plain": [
       "<Figure size 360x360 with 1 Axes>"
      ]
     },
     "metadata": {
      "needs_background": "light"
     },
     "output_type": "display_data"
    }
   ],
   "source": [
    "for column in ['calls_duration', 'mb_used_sum', 'gb_used_sum', 'msg_count']:\n",
    "    sns.catplot(x='tariff', y=column, data=users_pivot, kind='box')\n",
    "    plt.title(column, fontsize=15)"
   ]
  },
  {
   "cell_type": "code",
   "execution_count": 49,
   "metadata": {
    "scrolled": false
   },
   "outputs": [
    {
     "data": {
      "image/png": "[encoded data removed]",
      "text/plain": [
       "<Figure size 864x432 with 1 Axes>"
      ]
     },
     "metadata": {
      "needs_background": "light"
     },
     "output_type": "display_data"
    }
   ],
   "source": [
    "plt.figure(figsize=(12,6))\n",
    "for tariff in ['ultra', 'smart']:\n",
    "    sns.distplot(users_pivot.query('tariff == @tariff')['calls_duration'], kde=True, bins=12)\n",
    "\n",
    "\n",
    "plt.xlim(0,1500)\n",
    "plt.xlabel('Продолжительность разговора в минутах')\n",
    "plt.legend(['ultra', 'smart'])\n",
    "plt.show()"
   ]
  },
  {
   "cell_type": "code",
   "execution_count": 50,
   "metadata": {},
   "outputs": [
    {
     "data": {
      "image/png": "[encoded data removed]",
      "text/plain": [
       "<Figure size 864x432 with 1 Axes>"
      ]
     },
     "metadata": {
      "needs_background": "light"
     },
     "output_type": "display_data"
    }
   ],
   "source": [
    "plt.figure(figsize=(12,6))\n",
    "for tariff in ['ultra', 'smart']:\n",
    "    sns.distplot(users_pivot.query('tariff == @tariff')['mb_used_sum'], kde=True, bins=12)\n",
    "    \n",
    "plt.xlim(0,4.5e4)\n",
    "plt.xlabel('Количество израсходованного траффика, мб')\n",
    "plt.legend(['ultra', 'smart'])\n",
    "plt.show()"
   ]
  },
  {
   "cell_type": "code",
   "execution_count": 51,
   "metadata": {},
   "outputs": [
    {
     "data": {
      "image/png": "[encoded data removed]",
      "text/plain": [
       "<Figure size 864x432 with 1 Axes>"
      ]
     },
     "metadata": {
      "needs_background": "light"
     },
     "output_type": "display_data"
    }
   ],
   "source": [
    "plt.figure(figsize=(12,6))\n",
    "for tariff in ['ultra', 'smart']:\n",
    "    sns.distplot(users_pivot.query('tariff == @tariff')['gb_used_sum'], kde=True, bins=12)\n",
    "    \n",
    "plt.xlim(0,50)\n",
    "plt.xlabel('Количество израсходованного траффика, гб')\n",
    "plt.legend(['ultra', 'smart'])\n",
    "plt.show()"
   ]
  },
  {
   "cell_type": "code",
   "execution_count": 52,
   "metadata": {},
   "outputs": [
    {
     "data": {
      "image/png": "[encoded data removed]",
      "text/plain": [
       "<Figure size 864x432 with 1 Axes>"
      ]
     },
     "metadata": {
      "needs_background": "light"
     },
     "output_type": "display_data"
    }
   ],
   "source": [
    "plt.figure(figsize=(12,6))\n",
    "for tariff in ['ultra', 'smart']:\n",
    "    sns.distplot(users_pivot.query('tariff == @tariff')['msg_count'], kde=True, bins=12)\n",
    "    \n",
    "plt.xlim(0,200)\n",
    "plt.xlabel('Количество отправленных сообщений')\n",
    "plt.legend(['ultra', 'smart'])\n",
    "plt.show()"
   ]
  },
  {
   "cell_type": "markdown",
   "metadata": {},
   "source": [
    "Из боксплотов и диаграмм мы можем наглядно заметить, что дисперсии и размахи больше для тарифа Ultra, так же средние и медианы смещены для тарифа Ultra в большую сторону в большей степени, чем для тарифа Smart. Так же стоит отметить, что среди значений тарифа Ultra присутствует меньше выбросов.\n",
    "\n",
    "Распределения продолжительности звонков и использованного трафика для обоих тарифов близки к нормальному распределению и относительно симметричны, однако имеют \"тяжелые\" хвосты. Будем считать, что распределение этих величин - распределение Стьюдента.\n",
    "\n",
    "Гистограмма распределения количества отправленных сообщений имеет ярко выраженный скос вправо. Так же из данной гистограммы наглядно видно, что среднее значение больше, чем медиана."
   ]
  },
  {
   "cell_type": "markdown",
   "metadata": {},
   "source": [
    "Выясним, как в течении года изменялся доход от пользователей тарифа смарт. Создадим сводную таблицу, содержащую только пользователей тарифа смарт и сгруппируем ее по месяцам, вычислим медиану каждого месяца."
   ]
  },
  {
   "cell_type": "code",
   "execution_count": 53,
   "metadata": {
    "scrolled": true
   },
   "outputs": [
    {
     "data": {
      "text/html": [
       "<div>\n",
       "<style scoped>\n",
       "    .dataframe tbody tr th:only-of-type {\n",
       "        vertical-align: middle;\n",
       "    }\n",
       "\n",
       "    .dataframe tbody tr th {\n",
       "        vertical-align: top;\n",
       "    }\n",
       "\n",
       "    .dataframe thead th {\n",
       "        text-align: right;\n",
       "    }\n",
       "</style>\n",
       "<table border=\"1\" class=\"dataframe\">\n",
       "  <thead>\n",
       "    <tr style=\"text-align: right;\">\n",
       "      <th></th>\n",
       "      <th>total_income</th>\n",
       "      <th>months</th>\n",
       "    </tr>\n",
       "    <tr>\n",
       "      <th>month</th>\n",
       "      <th></th>\n",
       "      <th></th>\n",
       "    </tr>\n",
       "  </thead>\n",
       "  <tbody>\n",
       "    <tr>\n",
       "      <td>1</td>\n",
       "      <td>550.0</td>\n",
       "      <td>Январь</td>\n",
       "    </tr>\n",
       "    <tr>\n",
       "      <td>2</td>\n",
       "      <td>550.0</td>\n",
       "      <td>Февраль</td>\n",
       "    </tr>\n",
       "    <tr>\n",
       "      <td>3</td>\n",
       "      <td>886.0</td>\n",
       "      <td>Март</td>\n",
       "    </tr>\n",
       "    <tr>\n",
       "      <td>4</td>\n",
       "      <td>620.5</td>\n",
       "      <td>Апрель</td>\n",
       "    </tr>\n",
       "    <tr>\n",
       "      <td>5</td>\n",
       "      <td>986.0</td>\n",
       "      <td>Май</td>\n",
       "    </tr>\n",
       "    <tr>\n",
       "      <td>6</td>\n",
       "      <td>950.0</td>\n",
       "      <td>Июнь</td>\n",
       "    </tr>\n",
       "    <tr>\n",
       "      <td>7</td>\n",
       "      <td>981.0</td>\n",
       "      <td>Июль</td>\n",
       "    </tr>\n",
       "    <tr>\n",
       "      <td>8</td>\n",
       "      <td>1079.0</td>\n",
       "      <td>Август</td>\n",
       "    </tr>\n",
       "    <tr>\n",
       "      <td>9</td>\n",
       "      <td>958.5</td>\n",
       "      <td>Сентябрь</td>\n",
       "    </tr>\n",
       "    <tr>\n",
       "      <td>10</td>\n",
       "      <td>1150.0</td>\n",
       "      <td>Октябрь</td>\n",
       "    </tr>\n",
       "    <tr>\n",
       "      <td>11</td>\n",
       "      <td>1150.0</td>\n",
       "      <td>Ноябрь</td>\n",
       "    </tr>\n",
       "    <tr>\n",
       "      <td>12</td>\n",
       "      <td>1277.0</td>\n",
       "      <td>Декабрь</td>\n",
       "    </tr>\n",
       "  </tbody>\n",
       "</table>\n",
       "</div>"
      ],
      "text/plain": [
       "       total_income    months\n",
       "month                        \n",
       "1             550.0    Январь\n",
       "2             550.0   Февраль\n",
       "3             886.0      Март\n",
       "4             620.5    Апрель\n",
       "5             986.0       Май\n",
       "6             950.0      Июнь\n",
       "7             981.0      Июль\n",
       "8            1079.0    Август\n",
       "9             958.5  Сентябрь\n",
       "10           1150.0   Октябрь\n",
       "11           1150.0    Ноябрь\n",
       "12           1277.0   Декабрь"
      ]
     },
     "execution_count": 53,
     "metadata": {},
     "output_type": "execute_result"
    }
   ],
   "source": [
    "monthly_overpayment_smart = users_pivot.query('tariff==\"smart\"').pivot_table(index='month', \n",
    "                        values=['total_income'],\n",
    "                        aggfunc='median')\n",
    "months = ['Январь', 'Февраль', 'Март', 'Апрель','Май','Июнь','Июль','Август','Сентябрь','Октябрь', 'Ноябрь','Декабрь']\n",
    "monthly_overpayment_smart['months'] = months\n",
    "monthly_overpayment_smart"
   ]
  },
  {
   "cell_type": "markdown",
   "metadata": {},
   "source": [
    "Построим график распределения среднемесячной выручки от пользователей тарифа смарт."
   ]
  },
  {
   "cell_type": "code",
   "execution_count": 54,
   "metadata": {},
   "outputs": [
    {
     "name": "stdout",
     "output_type": "stream",
     "text": [
      "\n"
     ]
    },
    {
     "data": {
      "image/png": "[encoded data removed]",
      "text/plain": [
       "<Figure size 864x576 with 1 Axes>"
      ]
     },
     "metadata": {
      "needs_background": "light"
     },
     "output_type": "display_data"
    }
   ],
   "source": [
    "fig = plt.figure(figsize=(12,8))\n",
    "ax = plt.axes()\n",
    "\n",
    "sns.set_color_codes('pastel')\n",
    "splot = sns.barplot(x='months', y='total_income', data=monthly_overpayment_smart, color='b', label='Средняя выручка за месяц')\n",
    "\n",
    "for p in splot.patches:\n",
    "    splot.annotate(format(p.get_height(), '.0f'), (p.get_x() + p.get_width()/2., p.get_height()), ha='center', va='bottom',\n",
    "                  fontsize=12)\n",
    "\n",
    "\n",
    "ax.hlines(550, -0.5, 11.5, color='red', label='Абонентская плата, 550 руб.')\n",
    "\n",
    "plt.title('График средней выручки от пользователей тарифа \"Смарт\" в зависимости от месяца\\n\\n', fontsize=(14))\n",
    "plt.ylabel('Средняя выручка в месяц',fontsize=(14))\n",
    "plt.xticks(rotation=-45, fontsize=12)\n",
    "ax.legend(fontsize=12)\n",
    "plt.xlabel('')\n",
    "print('')\n",
    "plt.show()\n"
   ]
  },
  {
   "cell_type": "markdown",
   "metadata": {},
   "source": [
    "Заметна тенденция к росту переплат по тарифу, в декабре пользователи тарифа \"Смарт\" в среднем переплатили 800 рублей за услуги связи."
   ]
  },
  {
   "cell_type": "markdown",
   "metadata": {},
   "source": [
    "Посчитаем, какую прибыль принесли пользователи тарифов компании:"
   ]
  },
  {
   "cell_type": "code",
   "execution_count": 55,
   "metadata": {},
   "outputs": [
    {
     "data": {
      "text/html": [
       "<div>\n",
       "<style scoped>\n",
       "    .dataframe tbody tr th:only-of-type {\n",
       "        vertical-align: middle;\n",
       "    }\n",
       "\n",
       "    .dataframe tbody tr th {\n",
       "        vertical-align: top;\n",
       "    }\n",
       "\n",
       "    .dataframe thead th {\n",
       "        text-align: right;\n",
       "    }\n",
       "</style>\n",
       "<table border=\"1\" class=\"dataframe\">\n",
       "  <thead>\n",
       "    <tr style=\"text-align: right;\">\n",
       "      <th></th>\n",
       "      <th>total_income</th>\n",
       "    </tr>\n",
       "    <tr>\n",
       "      <th>tariff</th>\n",
       "      <th></th>\n",
       "    </tr>\n",
       "  </thead>\n",
       "  <tbody>\n",
       "    <tr>\n",
       "      <td>smart</td>\n",
       "      <td>2875351.0</td>\n",
       "    </tr>\n",
       "    <tr>\n",
       "      <td>ultra</td>\n",
       "      <td>2039100.0</td>\n",
       "    </tr>\n",
       "  </tbody>\n",
       "</table>\n",
       "</div>"
      ],
      "text/plain": [
       "        total_income\n",
       "tariff              \n",
       "smart      2875351.0\n",
       "ultra      2039100.0"
      ]
     },
     "execution_count": 55,
     "metadata": {},
     "output_type": "execute_result"
    }
   ],
   "source": [
    "users_pivot.pivot_table(index='tariff', values='total_income', aggfunc='sum')"
   ]
  },
  {
   "cell_type": "markdown",
   "metadata": {},
   "source": [
    "Тариф \"Смарт\" принес компании в 2018 году прибыль в 2,9 млн. руб, в то время как тариф \"Ультра\" - 2,04. Однако не стоит делать поспешных выводов, о том что тариф смарт выгоднее для компании, стоит вспомнить, что пользователей тарифа \"Смарт\" - 351 человек, а \"Ультра\" имеет всего 149 пользователей. Необходимо выяснить, равны ли средние выручки от пользователей тарифов. Займемся этим в следующем этапе."
   ]
  },
  {
   "cell_type": "markdown",
   "metadata": {},
   "source": [
    "#### Вывод по анализу данных."
   ]
  },
  {
   "cell_type": "markdown",
   "metadata": {},
   "source": [
    "В результате анализа данных, нам удалось расчитать основные статистические характерстики для значений отправленных сообщений, продолжительности звонков и использованного трафика. По этим характеристикам можно сделать следующий вывод:\n",
    "\n",
    "- В среднем пользователь смарт проговаривает 422 минуты в месяц, а пользователь ультра - 518 минут.\n",
    "- В среднем пользователь смарт использует 16.5 гб. трафика, а пользователь тарифа ультра - 19 гб.\n",
    "- В среднем пользователь смарт отправляет 28 сообщений, а пользователь тарифа ультра - 38.\n",
    "- Дисперсии тарифа ультра больше, чем у тарифа смарт, это говорит нам о большем размахе значений.\n",
    "\n",
    "Так же мы построили боксплоты и гистограммы распределений значений. Графики позволили нам убедиться в том, что размах значений для всех действий пользователей тарифа \"Ультра\" шире, чем размах значений пользователей тарифа \"Смарт\". Боксплоты наглядно проиллюстрировали наличие большого количества выбросов пользователей тарифа \"Смарт\". Возможно для этих пользователей тариф Ультра мог бы подойти лучше.\n",
    "\n",
    "Статистические характеристики и графики позволяют нам сделать общий вывод о том, что в целом пользователи тарифа \"Ультра\" пользуются услугами оператора более свободно: они больше разговаривают, больше проводят времени в интернете, отправляют больше сообщений, при этом среднестатистический пользователь тарифа \"Ультра\" не превышает тарифные лимиты. С другой стороны среднестатистическому пользователю тарифа \"Смарт\" приходится докупать 1 гб. трафика сверх лимита.\n",
    "\n",
    "К концу года, в среднем, пользователем тарифа \"Смарт\" стало сильно не хватать заложенных в тариф лимитов, за услуги связи в декабре они в среднем заплатили 1350 руб. за услуги связи, или если говорить проще, две с половиной абонентских платы.\n",
    "\n",
    "Суммарная выручка от всех пользователей тарифа \"Смарт\" составила 2,9 млн. руб, в то время как пользователи тарифа \"Ультра\" принесли 2,04 млн. руб. дохода. Стоит так же проанализировать средние выручки от пользователей этих тарифов."
   ]
  },
  {
   "cell_type": "markdown",
   "metadata": {},
   "source": [
    "<div class=\"alert alert-success\">\n",
    "<b>Комментарий ревьюера v1:</b>\n",
    "\n",
    "Оставлю общие комментарии по разделу: \n",
    "    \n",
    "В целом получилась отличная аналитика, выводы и предположения. Наглядная и аккуратная визуализация данных. Здорово, что получилось наложить два тарифа на один график для сравнения и проверить среднюю выручку по месяцам.\n",
    "\n",
    "Если есть время и желание попрактиковаться, то можно вывести два графика (гистограмму и диаграмму размаха) с помощью сабплота в две колонки.\n",
    "\n",
    "    # Создадим одну строку с двумя колонками\n",
    "    fig, axes = plt.subplots(1, 2, figsize=(16, 5))\n",
    "    \n",
    "    sns.distplot(...)\n",
    "    ...\n",
    "    sns.boxplot(...)\n",
    "    \n",
    "    ...\n",
    "\n",
    "\n",
    "</div>"
   ]
  },
  {
   "cell_type": "markdown",
   "metadata": {},
   "source": [
    "## Проверка гипотез"
   ]
  },
  {
   "cell_type": "markdown",
   "metadata": {},
   "source": [
    "Проверим гипотезу о том, что средняя выручка от пользователей тарифа \"Смарт\" равна средней выручке от пользователей с тарифа \"Ультра\". Нулевая гипотеза будет гласить о том, что средние выручки от тарифов равны, а альтернативная - о том, что средние выручки отличаются."
   ]
  },
  {
   "cell_type": "markdown",
   "metadata": {},
   "source": [
    "*H*<sub>0</sub>  - средняя выручка от пользователей тарифа \"Ультра\" равна средней выручке от пользователей тарифа \"Смарт\"\n",
    "\n",
    "*H*<sub>1</sub> - средние выручки отличаются\n",
    "\n",
    "α=0.1% - уровень значимости"
   ]
  },
  {
   "cell_type": "code",
   "execution_count": 56,
   "metadata": {},
   "outputs": [],
   "source": [
    "alpha=.001 #зададим уровени значимости"
   ]
  },
  {
   "cell_type": "markdown",
   "metadata": {},
   "source": [
    "Создадим два новых датафрейма, в одном из них будут сохранены только пользователи тарифа \"Смарт\", в другом - \"Ультра\"."
   ]
  },
  {
   "cell_type": "code",
   "execution_count": 57,
   "metadata": {},
   "outputs": [],
   "source": [
    "smart = users_pivot.query('tariff==\"smart\"')['total_income']\n",
    "ultra = users_pivot.query('tariff==\"ultra\"')['total_income']"
   ]
  },
  {
   "cell_type": "markdown",
   "metadata": {},
   "source": [
    "Выясним, как различаются дисперсии выборок пользователей тарифа смарт и тарифа ультра. Зададим степень свободы 1, т.к. работаем с выборками из генеральной совокупности."
   ]
  },
  {
   "cell_type": "code",
   "execution_count": 58,
   "metadata": {},
   "outputs": [
    {
     "name": "stdout",
     "output_type": "stream",
     "text": [
      "Дисперсия выборки пользователей тарифа Смарт: 669785.7080064242\n",
      "Дисперсия выборки пользователей тарифа Ультра: 141516.7450786183\n"
     ]
    }
   ],
   "source": [
    "print('Дисперсия выборки пользователей тарифа Смарт:', smart.var(ddof=1))\n",
    "print('Дисперсия выборки пользователей тарифа Ультра:', ultra.var(ddof=1))"
   ]
  },
  {
   "cell_type": "markdown",
   "metadata": {},
   "source": [
    "Проверим гипотезу, используя встроенную в библиотеку scipy функцию ttest_ind - которая вычисляет уровень значимости критерия Стьюдента для двух независимых выборок. Т.к. дисперсии для выборок сильно отличаются, то небоходимо учесть это в функции, добавив аргумент equal_var=False."
   ]
  },
  {
   "cell_type": "code",
   "execution_count": 59,
   "metadata": {},
   "outputs": [
    {
     "name": "stdout",
     "output_type": "stream",
     "text": [
      "p-значение: 4.2606313931076085e-250\n",
      "Отвергаем нулевую гипотезу\n"
     ]
    }
   ],
   "source": [
    "results = st.ttest_ind(smart, ultra, equal_var=False) \n",
    "print('p-значение:', results.pvalue)\n",
    "\n",
    "if (results.pvalue < alpha):\n",
    "    print(\"Отвергаем нулевую гипотезу\")\n",
    "else:\n",
    "    print(\"Не получилось отвергнуть нулевую гипотезу\")"
   ]
  },
  {
   "cell_type": "markdown",
   "metadata": {},
   "source": [
    "Мы отвергаем нулевую гипотезу, гласящую о том, что средние выручки пользователей тарифов равны."
   ]
  },
  {
   "cell_type": "markdown",
   "metadata": {},
   "source": [
    "Для наглядности выведем посчитанные показатели:"
   ]
  },
  {
   "cell_type": "code",
   "execution_count": 60,
   "metadata": {},
   "outputs": [
    {
     "data": {
      "text/html": [
       "<div>\n",
       "<style scoped>\n",
       "    .dataframe tbody tr th:only-of-type {\n",
       "        vertical-align: middle;\n",
       "    }\n",
       "\n",
       "    .dataframe tbody tr th {\n",
       "        vertical-align: top;\n",
       "    }\n",
       "\n",
       "    .dataframe thead th {\n",
       "        text-align: right;\n",
       "    }\n",
       "</style>\n",
       "<table border=\"1\" class=\"dataframe\">\n",
       "  <thead>\n",
       "    <tr style=\"text-align: right;\">\n",
       "      <th></th>\n",
       "      <th>total_income</th>\n",
       "    </tr>\n",
       "    <tr>\n",
       "      <th>tariff</th>\n",
       "      <th></th>\n",
       "    </tr>\n",
       "  </thead>\n",
       "  <tbody>\n",
       "    <tr>\n",
       "      <td>smart</td>\n",
       "      <td>1289.973531</td>\n",
       "    </tr>\n",
       "    <tr>\n",
       "      <td>ultra</td>\n",
       "      <td>2070.152284</td>\n",
       "    </tr>\n",
       "  </tbody>\n",
       "</table>\n",
       "</div>"
      ],
      "text/plain": [
       "        total_income\n",
       "tariff              \n",
       "smart    1289.973531\n",
       "ultra    2070.152284"
      ]
     },
     "execution_count": 60,
     "metadata": {},
     "output_type": "execute_result"
    }
   ],
   "source": [
    "users_pivot.pivot_table(index='tariff', values='total_income', aggfunc='mean')"
   ]
  },
  {
   "cell_type": "markdown",
   "metadata": {},
   "source": [
    "Действительно, из таблицы видно, что средняя выручка отличается почти в два раза.\n",
    "\n",
    "**Исходя из результатов проверки гипотезы, мы так же можем с вероятностью 99,9% утверждать, что средняя выручка пользователя тарифа \"Смарт\" и тарифа \"Ультра\" отличаются.**"
   ]
  },
  {
   "cell_type": "markdown",
   "metadata": {},
   "source": [
    "Проверим гипотезу о том, что средняя выручка от пользователей из Москвы равна средней выручке от пользователей из других регионов."
   ]
  },
  {
   "cell_type": "markdown",
   "metadata": {},
   "source": [
    "*H*<sub>0</sub>  - средняя выручка от пользователей из г. Москва равно средней выручке пользователей других городов.\n",
    "\n",
    "*H*<sub>1</sub> - средние выручки отличаются\n",
    "\n",
    "α=0.1% - уровень значимости"
   ]
  },
  {
   "cell_type": "code",
   "execution_count": 61,
   "metadata": {},
   "outputs": [],
   "source": [
    "alpha=.001 #зададим уровени значимости"
   ]
  },
  {
   "cell_type": "markdown",
   "metadata": {},
   "source": [
    "Создадим новые датафреймы, в которых сохраним пользователей из Москвы и из других городов."
   ]
  },
  {
   "cell_type": "code",
   "execution_count": 62,
   "metadata": {},
   "outputs": [],
   "source": [
    "moscow = users_pivot.query('city == \"Москва\"')['total_income']\n",
    "others = users_pivot.query('city != \"Москва\"')['total_income']"
   ]
  },
  {
   "cell_type": "markdown",
   "metadata": {},
   "source": [
    "Вычислим дисперсию для распределений."
   ]
  },
  {
   "cell_type": "code",
   "execution_count": 63,
   "metadata": {},
   "outputs": [
    {
     "name": "stdout",
     "output_type": "stream",
     "text": [
      "Дисперсия выборки пользователей г. Москвы: 565636.467011886\n",
      "Дисперсия выборки пользователей остальных городов: 654137.6285218114\n"
     ]
    }
   ],
   "source": [
    "print('Дисперсия выборки пользователей г. Москвы:', moscow.var(ddof=1))\n",
    "print('Дисперсия выборки пользователей остальных городов:', others.var(ddof=1))"
   ]
  },
  {
   "cell_type": "markdown",
   "metadata": {},
   "source": [
    "Дисперсии выборок отличаются, выборки независимые, для проверки гипотезы вычислим уровень значимости аналогично тому, как вычисляли его для прошлой гипотезы."
   ]
  },
  {
   "cell_type": "code",
   "execution_count": 64,
   "metadata": {},
   "outputs": [
    {
     "name": "stdout",
     "output_type": "stream",
     "text": [
      "p-значение: 0.5257376663729298\n",
      "Не получилось отвергнуть нулевую гипотезу\n"
     ]
    }
   ],
   "source": [
    "results = st.ttest_ind(moscow, others, equal_var=False) \n",
    "print('p-значение:', results.pvalue)\n",
    "\n",
    "if (results.pvalue < alpha):\n",
    "    print(\"Отвергаем нулевую гипотезу\")\n",
    "else:\n",
    "    print(\"Не получилось отвергнуть нулевую гипотезу\")"
   ]
  },
  {
   "cell_type": "markdown",
   "metadata": {},
   "source": [
    "В данном случае нам не удалось отвергнуть нулевую гипотезу. Это говорит о том, что **с вероятностью 43,5%, сравнивая средние выручки, мы бы получали схожие значения.**"
   ]
  },
  {
   "cell_type": "markdown",
   "metadata": {},
   "source": [
    "Для наглядности посчитаем средние выручки:"
   ]
  },
  {
   "cell_type": "code",
   "execution_count": 65,
   "metadata": {},
   "outputs": [],
   "source": [
    "cities = users_pivot.copy()\n",
    "cities.loc[cities.loc[:,'city'] != 'Москва', 'city'] = 'Другой город'"
   ]
  },
  {
   "cell_type": "code",
   "execution_count": 66,
   "metadata": {},
   "outputs": [
    {
     "data": {
      "text/html": [
       "<div>\n",
       "<style scoped>\n",
       "    .dataframe tbody tr th:only-of-type {\n",
       "        vertical-align: middle;\n",
       "    }\n",
       "\n",
       "    .dataframe tbody tr th {\n",
       "        vertical-align: top;\n",
       "    }\n",
       "\n",
       "    .dataframe thead th {\n",
       "        text-align: right;\n",
       "    }\n",
       "</style>\n",
       "<table border=\"1\" class=\"dataframe\">\n",
       "  <thead>\n",
       "    <tr style=\"text-align: right;\">\n",
       "      <th></th>\n",
       "      <th>total_income</th>\n",
       "    </tr>\n",
       "    <tr>\n",
       "      <th>city</th>\n",
       "      <th></th>\n",
       "    </tr>\n",
       "  </thead>\n",
       "  <tbody>\n",
       "    <tr>\n",
       "      <td>Другой город</td>\n",
       "      <td>1524.936227</td>\n",
       "    </tr>\n",
       "    <tr>\n",
       "      <td>Москва</td>\n",
       "      <td>1546.713584</td>\n",
       "    </tr>\n",
       "  </tbody>\n",
       "</table>\n",
       "</div>"
      ],
      "text/plain": [
       "              total_income\n",
       "city                      \n",
       "Другой город   1524.936227\n",
       "Москва         1546.713584"
      ]
     },
     "execution_count": 66,
     "metadata": {},
     "output_type": "execute_result"
    }
   ],
   "source": [
    "cities.pivot_table(index='city', values='total_income', aggfunc='mean')"
   ]
  },
  {
   "cell_type": "markdown",
   "metadata": {},
   "source": [
    "Как мы видим, значения средних отличаются незначительно, что подтверждается нулевой гипотезой."
   ]
  },
  {
   "cell_type": "markdown",
   "metadata": {},
   "source": [
    "#### Вывод по статистическому анализу"
   ]
  },
  {
   "cell_type": "markdown",
   "metadata": {},
   "source": [
    "В результате статистического анализа мы проверили две гипотезы с уровнем значимости  α=0.1% :\n",
    "\n",
    "1. Первая нулевая гипотеза гласила о том, что средние выручки от пользователей тарифа \"Smart\" и тарифа \"Ultra\" равны.\n",
    "2. Вторая нулевая гипотеза гласила о том, что средние выручки от пользователей из Москвы равны средним выручкам от пользователей из других городов.\n",
    "\n",
    "В качестве альтернативных гипотез для обоих случаев мы выбрали утверждение о том, что средние выручки не будут равны. Для оценки мы использовали уровень значимости критерия Стьюдента для независимых выборок. В данном случае мы используем именно его, т.к. средние выручки выборок не зависят друг от друга.\n",
    "\n",
    "- В случае с тарифами мы отвергли нулевую гипотезу, и сделали вывод о том, что мы можем с вероятностью 99,9% утверждать, что средняя выручка пользователя тарифа \"Смарт\" и тарифа \"Ультра\" отличаются\n",
    "- В случае с городами мы не смогли отвергнуть нулевую гипотезу и сделали вывод о том, что с вероятностью 43,5%, сравнивая средние выручки, мы бы получали схожие значения."
   ]
  },
  {
   "cell_type": "markdown",
   "metadata": {},
   "source": [
    "<div class=\"alert alert-success\">\n",
    "<b>Комментарий ревьюера v1:</b>\n",
    "   \n",
    "- Гипотезы сформулированы и протестированы верно.\n",
    "- Здорово, что дополнительно проверил дисперсию для параметра equal_var. Здесь можно вручную посчитать дисперсии , либо воспользоваться стат.тестом Левене (https://docs.scipy.org/doc/scipy/reference/generated/scipy.stats.levene.html) или тестом Барлетта (https://docs.scipy.org/doc/scipy/reference/generated/scipy.stats.bartlett.html#scipy.stats.bartlett).\n",
    "</div>"
   ]
  },
  {
   "cell_type": "markdown",
   "metadata": {},
   "source": [
    "## Общий вывод"
   ]
  },
  {
   "cell_type": "markdown",
   "metadata": {},
   "source": [
    "Для анализа нам была предоставлена информация о пользователях телекомуникационной компании «Мегалайн» за 2018 год. Вся необходима информация была сохранена в 5 датасетах, содержащих общую информацию о клиентах, информацию о датах и продолжительности звонков, отправленных сообщениях, интернет сессиях и использованном трафике, а так же общую информацию о тарифах компании.\n",
    "\n",
    "Во время изучения общей информации нам удалось выяснить, что в представленной выборке клиентов содержится 500 пользователей, причем 149 из них используют тариф \"Ultra\", остальные - тариф \"Smart\". Так же были выявлены следующие проблемы, требующие обработки данных:\n",
    "\n",
    "- Необходимо обработать пропущенные значения в столбце 'churn_date' датафрейма users.\n",
    "- Необходимо изменить типы данных для столбцов с датами на тип datetime64.\n",
    "- Необходимо провести обработку значений равных 0 в столбцах продолжительности разговоров и использованного траффика.\n",
    "- Необходимо удалить лишний столбец из таблицы Internet\n",
    "\n",
    "На этапе предобработки данных мы решили не обрабатывать пропущенные значения в столбце 'churn_date', изменили типы данных, где это требовалось, округлили значения минут и трафика в большую сторону, не производили удаление или изменение значений равных 0 в столбцах продолжительности разговоров и использованного трафика, исходя из той логики, что система записывала пропущенные звонки, как нулевые значения, а подключение к интернету, как полноценную сессию без расхода трафика. Лишний столбец в датафрейме internet мы удалили, т.к. он дублировал значения индексов.\n",
    "\n",
    "Для анализа данных нам так же необходимо было посчитать суммарное количество отправленных сообщений, использованных минут и трафика. Для этого мы создали сводную таблицу, сгруппировав данные для каждого пользователя по месяцам и добавили каждому пользователю тариф и город. Для подсчета выручки от каждого пользователя создали функцию total_income_per_month_calculation, которая в зависимости от тарифа пользователя и его перерасходов возвращает нам сумму, которую пользователь заплатил за услуги за определенный месяц.\n",
    "\n",
    "На этапе анализа данных мы вычислили основные показатели пользователей двух тарифов: среднее, медиану, дисперсию и стандартное отклонение, и смогли сделать следующие выводы:\n",
    "\n",
    "- В среднем пользователь смарт проговаривает 422 минуты в месяц, а пользователь ультра - 518 минут.\n",
    "- В среднем пользователь смарт использует 16.5 гб. трафика, а пользователь тарифа ультра - 19 гб.\n",
    "- В среднем пользователь смарт отправляет 28 сообщений, а пользователь тарифа ультра - 38.\n",
    "- Дисперсии тарифа ультра больше, чем у тарифа смарт, это говорит нам о большем размахе значений.\n",
    "\n",
    "Так же мы построили боксплоты и гистограммы распределений значений. Графики позволили нам убедиться в том, что размах значений для всех действий пользователей тарифа \"Ультра\" шире, чем размах значений пользователей тарифа \"Смарт\". Боксплоты наглядно проиллюстрировали наличие большого количества выбросов пользователей тарифа \"Смарт\". Возможно для этих пользователей тариф Ультра мог бы подойти лучше.\n",
    "\n",
    "Статистические характеристики и графики позволили нам сделать общий вывод о том, что в целом пользователи тарифа \"Ультра\" пользуются услугами оператора более свободно: они больше разговаривают, больше проводят времени в интернете, отправляют больше сообщений, при этом среднестатистический пользователь тарифа \"Ультра\" не превышает тарифные лимиты. С другой стороны среднестатистическому пользователю тарифа \"Смарт\" приходится докупать 1 гб. трафика сверх лимита.\n",
    "\n",
    "К концу года, в среднем, пользователем тарифа \"Смарт\" стало сильно не хватать заложенных в тариф лимитов, за услуги связи в декабре они в среднем заплатили 1350 руб. за услуги связи, или если говорить проще, две с половиной абонентских платы.\n",
    "\n",
    "Суммарная выручка от всех пользователей тарифа \"Смарт\" составила 2,9 млн. руб, в то время как пользователи тарифа \"Ультра\" принесли 2,04 млн. руб. дохода.\n",
    "\n",
    "Проводя статистический анализа мы проверили две гипотезы с уровнем значимости  α=0.1% :\n",
    "\n",
    "1. Первая нулевая гипотеза гласила о том, что средние выручки от пользователей тарифа \"Smart\" и тарифа \"Ultra\" равны.\n",
    "2. Вторая нулевая гипотеза гласила о том, что средние выручки от пользователей из Москвы равны средним выручкам от пользователей из других городов.\n",
    "\n",
    "В качестве альтернативных гипотез для обоих случаев мы выбрали утверждение о том, что средние выручки не будут равны. Для оценки мы использовали уровень значимости критерия Стьюдента для независимых выборок. В данном случае мы используем именно его, т.к. средние выручки выборок не зависят друг от друга.\n",
    "\n",
    "- В случае с тарифами мы отвергли нулевую гипотезу, и сделали вывод о том, что мы можем с вероятностью 99,9% утверждать, что средняя выручка пользователя тарифа \"Смарт\" и тарифа \"Ультра\" отличаются\n",
    "- В случае с городами мы не смогли отвергнуть нулевую гипотезу и сделали вывод о том, что с вероятностью 43,5%, сравнивая средние выручки, мы бы получали схожие значения.\n",
    "\n",
    "Хотя пользователи тарифа \"Смарт\" приносят на данный момент больше прибыли - 2.9 млн. руб. за 2018 год, в сравнении с тарифом \"Ультра\", доход от которого составил 2.04 млн. руб., средняя выручка от тарифа \"Ультра\" больше и составляет 1950 руб, против 1305 руб., которые показывает тариф \"Смарт\". Пользователи тарифа \"Ультра\" не выходят за рамки лимитов, однако платят полную стоимость тарифа, в отличии от пользователей тарифа \"Смарт\", которым приходится покупать дополнительные пакеты трафика или оплачивать минуты разговора. Среди пользователей тарифа \"Смарт\" так же была выявлена постепенная тенденция к увеличению потребления услуг компании, в январе средний пользователей не выходил за рамки лимитов и платил только абонентскую плату, однако к декабрю 2018 года ситуация кардинально поменялась, пользователи стали платить почти 2,5 абонентские платы за услуги связи.\n",
    "\n",
    "Более перспективным для компании является тариф \"Ультра\", на момент исследования, он имеет намного меньше пользователей, однако средняя выручка, которую приносит тариф компании - больше. Среди пользователей тарифа \"Смарт\" заметна тенденция к увеличению потребления услуг компании, что в конечном итоге может привести их к более дорогому \"Ультра\". Увеличение количества пользователей этого тарифа смогло бы значительно увеличить выручку компании. Тариф \"Смарт\", напротив, прекрасно показывает себя, при текущих параметрах. Ему удалось привлечь значительное количество пользователей, которые вынуждены доплачивать за дополнительные услуги по более высоким тарифам, чем пользователи \"Ультра\", и тем самым приносить значительный доход."
   ]
  },
  {
   "cell_type": "markdown",
   "metadata": {},
   "source": [
    "<div class=\"alert alert-success\">\n",
    "<b>Комментарий ревьюера v1:</b>\n",
    "\n",
    "\n",
    "Общие выводы также на высшем уровне с выполнеными шагами и правильными рекомендациями. \n",
    "\n",
    "PS: Если наскучит нетфликс кинопоискHD, то могу порекомендовать крутые лекции по стат анализу тут: - https://www.youtube.com/watch?v=enpPFqcIFj8&list=PLlb7e2G7aSpRb95_Wi7lZ-zA6fOjV3_l7\n",
    "    \n",
    "</div>\n"
   ]
  }
 ],
 "metadata": {
  "ExecuteTimeLog": [
   {
    "duration": 2086,
    "start_time": "2021-07-14T19:48:29.395Z"
   },
   {
    "duration": 516,
    "start_time": "2021-07-14T19:49:18.036Z"
   },
   {
    "duration": 1312,
    "start_time": "2021-07-14T19:49:34.804Z"
   },
   {
    "duration": 495,
    "start_time": "2021-07-14T19:49:39.697Z"
   },
   {
    "duration": 190,
    "start_time": "2021-07-14T19:55:07.818Z"
   },
   {
    "duration": 197,
    "start_time": "2021-07-14T19:55:19.330Z"
   },
   {
    "duration": 87,
    "start_time": "2021-07-14T19:56:54.037Z"
   },
   {
    "duration": 97,
    "start_time": "2021-07-14T19:57:07.502Z"
   },
   {
    "duration": 144,
    "start_time": "2021-07-14T19:57:17.224Z"
   },
   {
    "duration": 975,
    "start_time": "2021-07-14T19:57:23.653Z"
   },
   {
    "duration": 1033,
    "start_time": "2021-07-14T20:00:10.363Z"
   },
   {
    "duration": 2742,
    "start_time": "2021-07-14T20:00:45.433Z"
   },
   {
    "duration": 2828,
    "start_time": "2021-07-14T20:01:18.353Z"
   },
   {
    "duration": 2904,
    "start_time": "2021-07-14T20:01:34.463Z"
   },
   {
    "duration": 2885,
    "start_time": "2021-07-14T20:15:45.984Z"
   },
   {
    "duration": 3002,
    "start_time": "2021-07-14T20:17:02.170Z"
   },
   {
    "duration": 3006,
    "start_time": "2021-07-14T20:17:51.794Z"
   },
   {
    "duration": 24,
    "start_time": "2021-07-14T20:18:10.669Z"
   },
   {
    "duration": 254,
    "start_time": "2021-07-14T20:27:29.104Z"
   },
   {
    "duration": 12,
    "start_time": "2021-07-14T20:27:35.428Z"
   },
   {
    "duration": 2187,
    "start_time": "2021-07-15T07:48:07.798Z"
   },
   {
    "duration": 425,
    "start_time": "2021-07-15T08:05:54.113Z"
   },
   {
    "duration": 6,
    "start_time": "2021-07-15T08:08:21.954Z"
   },
   {
    "duration": 4,
    "start_time": "2021-07-15T08:08:30.873Z"
   },
   {
    "duration": 5,
    "start_time": "2021-07-15T08:09:24.487Z"
   },
   {
    "duration": 3,
    "start_time": "2021-07-15T08:09:26.974Z"
   },
   {
    "duration": 376,
    "start_time": "2021-07-15T08:11:23.374Z"
   },
   {
    "duration": 11,
    "start_time": "2021-07-15T08:13:11.112Z"
   },
   {
    "duration": 125,
    "start_time": "2021-07-15T08:19:45.802Z"
   },
   {
    "duration": 140,
    "start_time": "2021-07-15T08:19:56.629Z"
   },
   {
    "duration": 134,
    "start_time": "2021-07-15T08:20:01.132Z"
   },
   {
    "duration": 19,
    "start_time": "2021-07-15T08:20:47.814Z"
   },
   {
    "duration": 8,
    "start_time": "2021-07-15T08:23:28.368Z"
   },
   {
    "duration": 109,
    "start_time": "2021-07-15T08:24:23.197Z"
   },
   {
    "duration": 105,
    "start_time": "2021-07-15T08:25:21.150Z"
   },
   {
    "duration": 12,
    "start_time": "2021-07-15T08:25:32.650Z"
   },
   {
    "duration": 6,
    "start_time": "2021-07-15T08:38:48.932Z"
   },
   {
    "duration": 56,
    "start_time": "2021-07-15T08:39:29.969Z"
   },
   {
    "duration": 7,
    "start_time": "2021-07-15T08:41:32.177Z"
   },
   {
    "duration": 6,
    "start_time": "2021-07-15T08:42:44.459Z"
   },
   {
    "duration": 11,
    "start_time": "2021-07-15T08:44:13.242Z"
   },
   {
    "duration": 11,
    "start_time": "2021-07-15T08:45:18.692Z"
   },
   {
    "duration": 16,
    "start_time": "2021-07-15T08:46:23.105Z"
   },
   {
    "duration": 232,
    "start_time": "2021-07-15T08:47:14.744Z"
   },
   {
    "duration": 8,
    "start_time": "2021-07-15T08:47:19.590Z"
   },
   {
    "duration": 5,
    "start_time": "2021-07-15T08:49:43.417Z"
   },
   {
    "duration": 4,
    "start_time": "2021-07-15T08:51:52.759Z"
   },
   {
    "duration": 6,
    "start_time": "2021-07-15T08:52:24.049Z"
   },
   {
    "duration": 285,
    "start_time": "2021-07-15T08:54:41.716Z"
   },
   {
    "duration": 6,
    "start_time": "2021-07-15T08:54:54.272Z"
   },
   {
    "duration": 5,
    "start_time": "2021-07-15T08:56:16.660Z"
   },
   {
    "duration": 64,
    "start_time": "2021-07-15T09:02:57.935Z"
   },
   {
    "duration": 14,
    "start_time": "2021-07-15T09:03:31.966Z"
   },
   {
    "duration": 102,
    "start_time": "2021-07-15T09:04:29.452Z"
   },
   {
    "duration": 111,
    "start_time": "2021-07-15T09:07:16.682Z"
   },
   {
    "duration": 118,
    "start_time": "2021-07-15T09:07:51.106Z"
   },
   {
    "duration": 110,
    "start_time": "2021-07-15T09:09:59.489Z"
   },
   {
    "duration": 115,
    "start_time": "2021-07-15T09:10:10.956Z"
   },
   {
    "duration": 6,
    "start_time": "2021-07-15T09:11:57.015Z"
   },
   {
    "duration": 16,
    "start_time": "2021-07-15T09:13:00.461Z"
   },
   {
    "duration": 10,
    "start_time": "2021-07-15T09:14:41.177Z"
   },
   {
    "duration": 1455,
    "start_time": "2021-07-15T11:05:24.789Z"
   },
   {
    "duration": 6,
    "start_time": "2021-07-15T11:11:48.684Z"
   },
   {
    "duration": 510,
    "start_time": "2021-07-15T11:11:55.766Z"
   },
   {
    "duration": 15,
    "start_time": "2021-07-15T11:12:03.279Z"
   },
   {
    "duration": 149,
    "start_time": "2021-07-15T11:12:07.257Z"
   },
   {
    "duration": 21,
    "start_time": "2021-07-15T11:12:12.039Z"
   },
   {
    "duration": 11,
    "start_time": "2021-07-15T11:12:18.527Z"
   },
   {
    "duration": 114,
    "start_time": "2021-07-15T11:12:25.399Z"
   },
   {
    "duration": 17,
    "start_time": "2021-07-15T11:12:27.552Z"
   },
   {
    "duration": 10,
    "start_time": "2021-07-15T11:12:31.341Z"
   },
   {
    "duration": 11,
    "start_time": "2021-07-15T11:12:38.665Z"
   },
   {
    "duration": 16,
    "start_time": "2021-07-15T11:12:42.934Z"
   },
   {
    "duration": 16,
    "start_time": "2021-07-15T11:13:08.633Z"
   },
   {
    "duration": 10,
    "start_time": "2021-07-15T11:13:12.243Z"
   },
   {
    "duration": 8,
    "start_time": "2021-07-15T11:13:15.766Z"
   },
   {
    "duration": 6,
    "start_time": "2021-07-15T11:13:16.764Z"
   },
   {
    "duration": 88,
    "start_time": "2021-07-15T11:13:19.796Z"
   },
   {
    "duration": 186,
    "start_time": "2021-07-15T11:13:26.278Z"
   },
   {
    "duration": 6,
    "start_time": "2021-07-15T11:13:31.829Z"
   },
   {
    "duration": 20,
    "start_time": "2021-07-15T11:13:33.682Z"
   },
   {
    "duration": 16,
    "start_time": "2021-07-15T11:13:42.986Z"
   },
   {
    "duration": 9,
    "start_time": "2021-07-15T11:14:10.780Z"
   },
   {
    "duration": 56,
    "start_time": "2021-07-15T11:14:19.753Z"
   },
   {
    "duration": 12,
    "start_time": "2021-07-15T11:14:34.464Z"
   },
   {
    "duration": 12,
    "start_time": "2021-07-15T11:14:39.961Z"
   },
   {
    "duration": 31,
    "start_time": "2021-07-15T11:24:03.602Z"
   },
   {
    "duration": 7,
    "start_time": "2021-07-15T11:37:01.273Z"
   },
   {
    "duration": 43,
    "start_time": "2021-07-15T11:37:34.202Z"
   },
   {
    "duration": 27,
    "start_time": "2021-07-15T11:37:41.863Z"
   },
   {
    "duration": 181,
    "start_time": "2021-07-15T11:41:12.105Z"
   },
   {
    "duration": 149,
    "start_time": "2021-07-15T11:41:19.557Z"
   },
   {
    "duration": 91,
    "start_time": "2021-07-15T11:42:46.949Z"
   },
   {
    "duration": 15,
    "start_time": "2021-07-15T11:43:46.192Z"
   },
   {
    "duration": 5,
    "start_time": "2021-07-15T11:45:40.973Z"
   },
   {
    "duration": 10,
    "start_time": "2021-07-15T11:45:46.748Z"
   },
   {
    "duration": 99,
    "start_time": "2021-07-15T11:49:17.695Z"
   },
   {
    "duration": 68,
    "start_time": "2021-07-15T11:49:38.437Z"
   },
   {
    "duration": 65,
    "start_time": "2021-07-15T11:50:48.777Z"
   },
   {
    "duration": 39,
    "start_time": "2021-07-15T11:54:00.514Z"
   },
   {
    "duration": 36,
    "start_time": "2021-07-15T11:54:42.186Z"
   },
   {
    "duration": 61,
    "start_time": "2021-07-15T11:54:57.535Z"
   },
   {
    "duration": 34,
    "start_time": "2021-07-15T11:56:15.339Z"
   },
   {
    "duration": 139,
    "start_time": "2021-07-15T11:57:47.075Z"
   },
   {
    "duration": 10,
    "start_time": "2021-07-15T11:59:20.554Z"
   },
   {
    "duration": 96,
    "start_time": "2021-07-15T11:59:29.313Z"
   },
   {
    "duration": 417,
    "start_time": "2021-07-15T11:59:44.826Z"
   },
   {
    "duration": 325,
    "start_time": "2021-07-15T11:59:58.977Z"
   },
   {
    "duration": 8,
    "start_time": "2021-07-15T12:00:18.406Z"
   },
   {
    "duration": 4,
    "start_time": "2021-07-15T12:00:20.761Z"
   },
   {
    "duration": 503,
    "start_time": "2021-07-15T12:00:22.772Z"
   },
   {
    "duration": 12,
    "start_time": "2021-07-15T12:00:24.522Z"
   },
   {
    "duration": 137,
    "start_time": "2021-07-15T12:00:26.321Z"
   },
   {
    "duration": 20,
    "start_time": "2021-07-15T12:00:27.887Z"
   },
   {
    "duration": 12,
    "start_time": "2021-07-15T12:00:30.693Z"
   },
   {
    "duration": 113,
    "start_time": "2021-07-15T12:00:34.653Z"
   },
   {
    "duration": 18,
    "start_time": "2021-07-15T12:00:36.698Z"
   },
   {
    "duration": 10,
    "start_time": "2021-07-15T12:00:39.484Z"
   },
   {
    "duration": 69,
    "start_time": "2021-07-15T12:00:42.779Z"
   },
   {
    "duration": 12,
    "start_time": "2021-07-15T12:00:49.191Z"
   },
   {
    "duration": 10,
    "start_time": "2021-07-15T12:00:51.423Z"
   },
   {
    "duration": 15,
    "start_time": "2021-07-15T12:00:53.685Z"
   },
   {
    "duration": 15,
    "start_time": "2021-07-15T12:00:57.240Z"
   },
   {
    "duration": 10,
    "start_time": "2021-07-15T12:00:58.697Z"
   },
   {
    "duration": 8,
    "start_time": "2021-07-15T12:01:00.106Z"
   },
   {
    "duration": 7,
    "start_time": "2021-07-15T12:01:01.106Z"
   },
   {
    "duration": 84,
    "start_time": "2021-07-15T12:01:04.499Z"
   },
   {
    "duration": 183,
    "start_time": "2021-07-15T12:01:07.684Z"
   },
   {
    "duration": 6,
    "start_time": "2021-07-15T12:01:10.051Z"
   },
   {
    "duration": 15,
    "start_time": "2021-07-15T12:01:19.049Z"
   },
   {
    "duration": 13,
    "start_time": "2021-07-15T12:01:20.362Z"
   },
   {
    "duration": 33,
    "start_time": "2021-07-15T12:01:22.136Z"
   },
   {
    "duration": 10,
    "start_time": "2021-07-15T12:01:24.278Z"
   },
   {
    "duration": 38,
    "start_time": "2021-07-15T12:01:25.618Z"
   },
   {
    "duration": 27,
    "start_time": "2021-07-15T12:01:26.767Z"
   },
   {
    "duration": 14,
    "start_time": "2021-07-15T12:01:29.221Z"
   },
   {
    "duration": 4,
    "start_time": "2021-07-15T12:01:31.413Z"
   },
   {
    "duration": 11,
    "start_time": "2021-07-15T12:01:32.645Z"
   },
   {
    "duration": 68,
    "start_time": "2021-07-15T12:01:35.182Z"
   },
   {
    "duration": 65,
    "start_time": "2021-07-15T12:01:37.643Z"
   },
   {
    "duration": 35,
    "start_time": "2021-07-15T12:01:40.998Z"
   },
   {
    "duration": 34,
    "start_time": "2021-07-15T12:01:43.731Z"
   },
   {
    "duration": 50,
    "start_time": "2021-07-15T12:01:46.002Z"
   },
   {
    "duration": 10,
    "start_time": "2021-07-15T12:01:53.297Z"
   },
   {
    "duration": 27,
    "start_time": "2021-07-15T12:02:21.120Z"
   },
   {
    "duration": 27,
    "start_time": "2021-07-15T12:03:36.969Z"
   },
   {
    "duration": 10,
    "start_time": "2021-07-15T12:04:49.679Z"
   },
   {
    "duration": 32,
    "start_time": "2021-07-15T12:05:33.523Z"
   },
   {
    "duration": 9,
    "start_time": "2021-07-15T12:07:38.912Z"
   },
   {
    "duration": 28305,
    "start_time": "2021-07-15T12:20:52.898Z"
   },
   {
    "duration": 21,
    "start_time": "2021-07-15T12:22:20.123Z"
   },
   {
    "duration": 7,
    "start_time": "2021-07-15T12:23:31.946Z"
   },
   {
    "duration": 22,
    "start_time": "2021-07-15T12:34:07.274Z"
   },
   {
    "duration": 13,
    "start_time": "2021-07-15T12:34:29.923Z"
   },
   {
    "duration": 16,
    "start_time": "2021-07-15T12:35:00.513Z"
   },
   {
    "duration": 49,
    "start_time": "2021-07-15T12:37:08.160Z"
   },
   {
    "duration": 1456,
    "start_time": "2021-07-15T12:42:28.481Z"
   },
   {
    "duration": 483,
    "start_time": "2021-07-15T12:42:58.865Z"
   },
   {
    "duration": 491,
    "start_time": "2021-07-15T12:43:59.911Z"
   },
   {
    "duration": 455,
    "start_time": "2021-07-15T12:44:32.471Z"
   },
   {
    "duration": 16,
    "start_time": "2021-07-15T12:49:49.429Z"
   },
   {
    "duration": 23,
    "start_time": "2021-07-15T12:51:48.433Z"
   },
   {
    "duration": 586,
    "start_time": "2021-07-15T12:53:03.948Z"
   },
   {
    "duration": 20,
    "start_time": "2021-07-15T12:54:23.685Z"
   },
   {
    "duration": 3,
    "start_time": "2021-07-15T13:06:46.923Z"
   },
   {
    "duration": 15,
    "start_time": "2021-07-15T13:07:10.828Z"
   },
   {
    "duration": 5,
    "start_time": "2021-07-15T13:07:34.649Z"
   },
   {
    "duration": 8,
    "start_time": "2021-07-15T13:08:27.197Z"
   },
   {
    "duration": 19,
    "start_time": "2021-07-15T13:09:31.396Z"
   },
   {
    "duration": 107,
    "start_time": "2021-07-15T13:12:14.065Z"
   },
   {
    "duration": 3,
    "start_time": "2021-07-15T13:12:32.325Z"
   },
   {
    "duration": 275,
    "start_time": "2021-07-15T13:13:05.134Z"
   },
   {
    "duration": 12,
    "start_time": "2021-07-15T13:13:19.501Z"
   },
   {
    "duration": 8,
    "start_time": "2021-07-15T13:13:48.852Z"
   },
   {
    "duration": 7,
    "start_time": "2021-07-15T13:14:35.514Z"
   },
   {
    "duration": 15,
    "start_time": "2021-07-15T13:15:52.610Z"
   },
   {
    "duration": 18,
    "start_time": "2021-07-15T13:15:57.669Z"
   },
   {
    "duration": 1513,
    "start_time": "2021-07-15T16:23:56.750Z"
   },
   {
    "duration": 11,
    "start_time": "2021-07-15T16:23:58.265Z"
   },
   {
    "duration": 482,
    "start_time": "2021-07-15T16:23:58.284Z"
   },
   {
    "duration": 16,
    "start_time": "2021-07-15T16:23:58.769Z"
   },
   {
    "duration": 160,
    "start_time": "2021-07-15T16:23:58.787Z"
   },
   {
    "duration": 37,
    "start_time": "2021-07-15T16:23:58.950Z"
   },
   {
    "duration": 12,
    "start_time": "2021-07-15T16:23:58.989Z"
   },
   {
    "duration": 129,
    "start_time": "2021-07-15T16:23:59.005Z"
   },
   {
    "duration": 17,
    "start_time": "2021-07-15T16:23:59.137Z"
   },
   {
    "duration": 29,
    "start_time": "2021-07-15T16:23:59.156Z"
   },
   {
    "duration": 72,
    "start_time": "2021-07-15T16:23:59.188Z"
   },
   {
    "duration": 29,
    "start_time": "2021-07-15T16:23:59.262Z"
   },
   {
    "duration": 15,
    "start_time": "2021-07-15T16:23:59.293Z"
   },
   {
    "duration": 19,
    "start_time": "2021-07-15T16:23:59.310Z"
   },
   {
    "duration": 17,
    "start_time": "2021-07-15T16:23:59.331Z"
   },
   {
    "duration": 42,
    "start_time": "2021-07-15T16:23:59.350Z"
   },
   {
    "duration": 9,
    "start_time": "2021-07-15T16:23:59.394Z"
   },
   {
    "duration": 9,
    "start_time": "2021-07-15T16:23:59.405Z"
   },
   {
    "duration": 126,
    "start_time": "2021-07-15T16:23:59.416Z"
   },
   {
    "duration": 189,
    "start_time": "2021-07-15T16:23:59.545Z"
   },
   {
    "duration": 5,
    "start_time": "2021-07-15T16:23:59.737Z"
   },
   {
    "duration": 20,
    "start_time": "2021-07-15T16:23:59.745Z"
   },
   {
    "duration": 12,
    "start_time": "2021-07-15T16:23:59.783Z"
   },
   {
    "duration": 29,
    "start_time": "2021-07-15T16:23:59.799Z"
   },
   {
    "duration": 7,
    "start_time": "2021-07-15T16:23:59.830Z"
   },
   {
    "duration": 74,
    "start_time": "2021-07-15T16:23:59.839Z"
   },
   {
    "duration": 27,
    "start_time": "2021-07-15T16:23:59.916Z"
   },
   {
    "duration": 14,
    "start_time": "2021-07-15T16:23:59.945Z"
   },
   {
    "duration": 4,
    "start_time": "2021-07-15T16:23:59.983Z"
   },
   {
    "duration": 14,
    "start_time": "2021-07-15T16:23:59.990Z"
   },
   {
    "duration": 91,
    "start_time": "2021-07-15T16:24:00.006Z"
   },
   {
    "duration": 66,
    "start_time": "2021-07-15T16:24:00.100Z"
   },
   {
    "duration": 52,
    "start_time": "2021-07-15T16:24:00.168Z"
   },
   {
    "duration": 34,
    "start_time": "2021-07-15T16:24:00.222Z"
   },
   {
    "duration": 69,
    "start_time": "2021-07-15T16:24:00.259Z"
   },
   {
    "duration": 10,
    "start_time": "2021-07-15T16:24:00.331Z"
   },
   {
    "duration": 49,
    "start_time": "2021-07-15T16:24:00.344Z"
   },
   {
    "duration": 10,
    "start_time": "2021-07-15T16:24:00.395Z"
   },
   {
    "duration": 31,
    "start_time": "2021-07-15T16:24:00.408Z"
   },
   {
    "duration": 10,
    "start_time": "2021-07-15T16:24:00.441Z"
   },
   {
    "duration": 28022,
    "start_time": "2021-07-15T16:24:00.482Z"
   },
   {
    "duration": 18,
    "start_time": "2021-07-15T16:24:28.507Z"
   },
   {
    "duration": 10,
    "start_time": "2021-07-15T16:24:28.528Z"
   },
   {
    "duration": 48,
    "start_time": "2021-07-15T16:24:28.540Z"
   },
   {
    "duration": 15,
    "start_time": "2021-07-15T16:24:28.590Z"
   },
   {
    "duration": 53,
    "start_time": "2021-07-15T16:24:28.608Z"
   },
   {
    "duration": 1415,
    "start_time": "2021-07-15T16:24:28.683Z"
   },
   {
    "duration": 530,
    "start_time": "2021-07-15T16:24:30.100Z"
   },
   {
    "duration": 514,
    "start_time": "2021-07-15T16:24:30.632Z"
   },
   {
    "duration": 503,
    "start_time": "2021-07-15T16:24:31.148Z"
   },
   {
    "duration": 39,
    "start_time": "2021-07-15T16:24:31.653Z"
   },
   {
    "duration": 606,
    "start_time": "2021-07-15T16:24:31.695Z"
   },
   {
    "duration": 18,
    "start_time": "2021-07-15T16:24:32.304Z"
   },
   {
    "duration": 15,
    "start_time": "2021-07-15T16:24:32.324Z"
   },
   {
    "duration": 15,
    "start_time": "2021-07-15T16:24:32.341Z"
   },
   {
    "duration": 26,
    "start_time": "2021-07-15T16:24:32.358Z"
   },
   {
    "duration": 13,
    "start_time": "2021-07-15T16:24:32.387Z"
   },
   {
    "duration": 25,
    "start_time": "2021-07-15T16:24:32.402Z"
   },
   {
    "duration": 3,
    "start_time": "2021-07-15T16:24:32.430Z"
   },
   {
    "duration": 17,
    "start_time": "2021-07-15T16:24:32.436Z"
   },
   {
    "duration": 6,
    "start_time": "2021-07-15T16:24:32.455Z"
   },
   {
    "duration": 8,
    "start_time": "2021-07-15T16:24:32.484Z"
   },
   {
    "duration": 19,
    "start_time": "2021-07-15T16:24:32.495Z"
   },
   {
    "duration": 19,
    "start_time": "2021-07-15T16:24:32.516Z"
   },
   {
    "duration": 1504,
    "start_time": "2021-07-16T07:16:11.943Z"
   },
   {
    "duration": 7,
    "start_time": "2021-07-16T07:16:13.450Z"
   },
   {
    "duration": 548,
    "start_time": "2021-07-16T07:16:13.460Z"
   },
   {
    "duration": 16,
    "start_time": "2021-07-16T07:16:14.011Z"
   },
   {
    "duration": 168,
    "start_time": "2021-07-16T07:16:14.029Z"
   },
   {
    "duration": 21,
    "start_time": "2021-07-16T07:16:14.199Z"
   },
   {
    "duration": 31,
    "start_time": "2021-07-16T07:16:14.223Z"
   },
   {
    "duration": 143,
    "start_time": "2021-07-16T07:16:14.258Z"
   },
   {
    "duration": 21,
    "start_time": "2021-07-16T07:16:14.405Z"
   },
   {
    "duration": 34,
    "start_time": "2021-07-16T07:16:14.430Z"
   },
   {
    "duration": 101,
    "start_time": "2021-07-16T07:16:14.467Z"
   },
   {
    "duration": 14,
    "start_time": "2021-07-16T07:16:14.571Z"
   },
   {
    "duration": 24,
    "start_time": "2021-07-16T07:16:14.587Z"
   },
   {
    "duration": 28,
    "start_time": "2021-07-16T07:16:14.613Z"
   },
   {
    "duration": 27,
    "start_time": "2021-07-16T07:16:14.644Z"
   },
   {
    "duration": 20,
    "start_time": "2021-07-16T07:16:14.673Z"
   },
   {
    "duration": 10,
    "start_time": "2021-07-16T07:16:14.696Z"
   },
   {
    "duration": 23,
    "start_time": "2021-07-16T07:16:14.709Z"
   },
   {
    "duration": 104,
    "start_time": "2021-07-16T07:16:14.734Z"
   },
   {
    "duration": 206,
    "start_time": "2021-07-16T07:16:14.840Z"
   },
   {
    "duration": 12,
    "start_time": "2021-07-16T07:16:15.049Z"
   },
   {
    "duration": 64,
    "start_time": "2021-07-16T07:16:15.063Z"
   },
   {
    "duration": 15,
    "start_time": "2021-07-16T07:16:15.133Z"
   },
   {
    "duration": 35,
    "start_time": "2021-07-16T07:16:15.151Z"
   },
   {
    "duration": 10,
    "start_time": "2021-07-16T07:16:15.189Z"
   },
   {
    "duration": 52,
    "start_time": "2021-07-16T07:16:15.202Z"
   },
   {
    "duration": 66,
    "start_time": "2021-07-16T07:16:15.257Z"
   },
   {
    "duration": 14,
    "start_time": "2021-07-16T07:16:15.326Z"
   },
   {
    "duration": 16,
    "start_time": "2021-07-16T07:16:15.342Z"
   },
   {
    "duration": 28,
    "start_time": "2021-07-16T07:16:15.360Z"
   },
   {
    "duration": 89,
    "start_time": "2021-07-16T07:16:15.390Z"
   },
   {
    "duration": 73,
    "start_time": "2021-07-16T07:16:15.482Z"
   },
   {
    "duration": 40,
    "start_time": "2021-07-16T07:16:15.557Z"
   },
   {
    "duration": 62,
    "start_time": "2021-07-16T07:16:15.599Z"
   },
   {
    "duration": 49,
    "start_time": "2021-07-16T07:16:15.664Z"
   },
   {
    "duration": 10,
    "start_time": "2021-07-16T07:16:15.715Z"
   },
   {
    "duration": 49,
    "start_time": "2021-07-16T07:16:15.727Z"
   },
   {
    "duration": 9,
    "start_time": "2021-07-16T07:16:15.778Z"
   },
   {
    "duration": 29,
    "start_time": "2021-07-16T07:16:15.789Z"
   },
   {
    "duration": 36,
    "start_time": "2021-07-16T07:16:15.821Z"
   },
   {
    "duration": 29430,
    "start_time": "2021-07-16T07:16:15.859Z"
   },
   {
    "duration": 22,
    "start_time": "2021-07-16T07:16:45.292Z"
   },
   {
    "duration": 46,
    "start_time": "2021-07-16T07:16:45.317Z"
   },
   {
    "duration": 13,
    "start_time": "2021-07-16T07:16:45.366Z"
   },
   {
    "duration": 16,
    "start_time": "2021-07-16T07:16:45.382Z"
   },
   {
    "duration": 75,
    "start_time": "2021-07-16T07:16:45.401Z"
   },
   {
    "duration": 1465,
    "start_time": "2021-07-16T07:16:45.479Z"
   },
   {
    "duration": 523,
    "start_time": "2021-07-16T07:16:46.946Z"
   },
   {
    "duration": 528,
    "start_time": "2021-07-16T07:16:47.471Z"
   },
   {
    "duration": 497,
    "start_time": "2021-07-16T07:16:48.001Z"
   },
   {
    "duration": 26,
    "start_time": "2021-07-16T07:16:48.501Z"
   },
   {
    "duration": 613,
    "start_time": "2021-07-16T07:16:48.530Z"
   },
   {
    "duration": 24,
    "start_time": "2021-07-16T07:16:49.146Z"
   },
   {
    "duration": 17,
    "start_time": "2021-07-16T07:16:49.172Z"
   },
   {
    "duration": 23,
    "start_time": "2021-07-16T07:16:49.192Z"
   },
   {
    "duration": 17,
    "start_time": "2021-07-16T07:16:49.218Z"
   },
   {
    "duration": 17,
    "start_time": "2021-07-16T07:16:49.237Z"
   },
   {
    "duration": 19,
    "start_time": "2021-07-16T07:16:49.257Z"
   },
   {
    "duration": 17,
    "start_time": "2021-07-16T07:16:49.279Z"
   },
   {
    "duration": 39,
    "start_time": "2021-07-16T07:16:49.298Z"
   },
   {
    "duration": 13,
    "start_time": "2021-07-16T07:16:49.340Z"
   },
   {
    "duration": 21,
    "start_time": "2021-07-16T07:16:49.355Z"
   },
   {
    "duration": 26,
    "start_time": "2021-07-16T07:16:49.379Z"
   },
   {
    "duration": 18,
    "start_time": "2021-07-16T07:16:49.407Z"
   },
   {
    "duration": 8,
    "start_time": "2021-07-16T07:24:47.233Z"
   },
   {
    "duration": 5,
    "start_time": "2021-07-16T07:24:47.696Z"
   },
   {
    "duration": 523,
    "start_time": "2021-07-16T07:24:48.651Z"
   },
   {
    "duration": 11,
    "start_time": "2021-07-16T07:43:12.976Z"
   },
   {
    "duration": 1479,
    "start_time": "2021-07-16T08:13:17.369Z"
   },
   {
    "duration": 6,
    "start_time": "2021-07-16T08:13:20.527Z"
   },
   {
    "duration": 538,
    "start_time": "2021-07-16T08:13:22.809Z"
   },
   {
    "duration": 16,
    "start_time": "2021-07-16T08:13:36.589Z"
   },
   {
    "duration": 151,
    "start_time": "2021-07-16T08:13:42.805Z"
   },
   {
    "duration": 21,
    "start_time": "2021-07-16T08:13:45.367Z"
   },
   {
    "duration": 12,
    "start_time": "2021-07-16T08:13:48.597Z"
   },
   {
    "duration": 126,
    "start_time": "2021-07-16T08:13:53.687Z"
   },
   {
    "duration": 17,
    "start_time": "2021-07-16T08:13:58.741Z"
   },
   {
    "duration": 11,
    "start_time": "2021-07-16T08:14:07.246Z"
   },
   {
    "duration": 78,
    "start_time": "2021-07-16T08:14:09.212Z"
   },
   {
    "duration": 13,
    "start_time": "2021-07-16T08:14:16.486Z"
   },
   {
    "duration": 10,
    "start_time": "2021-07-16T08:14:18.516Z"
   },
   {
    "duration": 14,
    "start_time": "2021-07-16T08:14:23.551Z"
   },
   {
    "duration": 13,
    "start_time": "2021-07-16T08:14:29.643Z"
   },
   {
    "duration": 11,
    "start_time": "2021-07-16T08:14:33.678Z"
   },
   {
    "duration": 8,
    "start_time": "2021-07-16T08:14:38.137Z"
   },
   {
    "duration": 7,
    "start_time": "2021-07-16T08:14:41.145Z"
   },
   {
    "duration": 153,
    "start_time": "2021-07-16T08:14:51.757Z"
   },
   {
    "duration": 46,
    "start_time": "2021-07-16T08:17:26.885Z"
   },
   {
    "duration": 8,
    "start_time": "2021-07-16T08:22:16.160Z"
   },
   {
    "duration": 19,
    "start_time": "2021-07-16T08:22:18.481Z"
   },
   {
    "duration": 15,
    "start_time": "2021-07-16T08:22:21.997Z"
   },
   {
    "duration": 32,
    "start_time": "2021-07-16T08:22:28.760Z"
   },
   {
    "duration": 8,
    "start_time": "2021-07-16T08:22:33.200Z"
   },
   {
    "duration": 47,
    "start_time": "2021-07-16T08:22:35.158Z"
   },
   {
    "duration": 28,
    "start_time": "2021-07-16T08:22:38.469Z"
   },
   {
    "duration": 17,
    "start_time": "2021-07-16T08:23:02.257Z"
   },
   {
    "duration": 5,
    "start_time": "2021-07-16T08:23:10.323Z"
   },
   {
    "duration": 15,
    "start_time": "2021-07-16T08:23:17.439Z"
   },
   {
    "duration": 73,
    "start_time": "2021-07-16T08:23:34.636Z"
   },
   {
    "duration": 73,
    "start_time": "2021-07-16T08:23:50.971Z"
   },
   {
    "duration": 27,
    "start_time": "2021-07-16T08:26:52.394Z"
   },
   {
    "duration": 40,
    "start_time": "2021-07-16T08:27:10.008Z"
   },
   {
    "duration": 29,
    "start_time": "2021-07-16T08:28:33.132Z"
   },
   {
    "duration": 47,
    "start_time": "2021-07-16T08:28:43.427Z"
   },
   {
    "duration": 35,
    "start_time": "2021-07-16T08:29:56.548Z"
   },
   {
    "duration": 52,
    "start_time": "2021-07-16T08:30:32.468Z"
   },
   {
    "duration": 31,
    "start_time": "2021-07-16T08:44:24.349Z"
   },
   {
    "duration": 31,
    "start_time": "2021-07-16T08:44:30.019Z"
   },
   {
    "duration": 31,
    "start_time": "2021-07-16T08:44:38.007Z"
   },
   {
    "duration": 33,
    "start_time": "2021-07-16T08:44:46.043Z"
   },
   {
    "duration": 47,
    "start_time": "2021-07-16T08:45:12.073Z"
   },
   {
    "duration": 50,
    "start_time": "2021-07-16T08:47:02.425Z"
   },
   {
    "duration": 71,
    "start_time": "2021-07-16T08:47:08.622Z"
   },
   {
    "duration": 15,
    "start_time": "2021-07-16T08:47:43.459Z"
   },
   {
    "duration": 25,
    "start_time": "2021-07-16T08:48:05.690Z"
   },
   {
    "duration": 9,
    "start_time": "2021-07-16T08:48:22.671Z"
   },
   {
    "duration": 30,
    "start_time": "2021-07-16T08:48:44.902Z"
   },
   {
    "duration": 458,
    "start_time": "2021-07-16T08:49:40.855Z"
   },
   {
    "duration": 311,
    "start_time": "2021-07-16T08:51:03.720Z"
   },
   {
    "duration": 8,
    "start_time": "2021-07-16T08:51:21.321Z"
   },
   {
    "duration": 5,
    "start_time": "2021-07-16T08:51:23.091Z"
   },
   {
    "duration": 529,
    "start_time": "2021-07-16T08:51:24.812Z"
   },
   {
    "duration": 12,
    "start_time": "2021-07-16T08:51:27.819Z"
   },
   {
    "duration": 146,
    "start_time": "2021-07-16T08:51:29.666Z"
   },
   {
    "duration": 20,
    "start_time": "2021-07-16T08:51:31.628Z"
   },
   {
    "duration": 11,
    "start_time": "2021-07-16T08:51:34.875Z"
   },
   {
    "duration": 117,
    "start_time": "2021-07-16T08:51:36.547Z"
   },
   {
    "duration": 19,
    "start_time": "2021-07-16T08:51:39.695Z"
   },
   {
    "duration": 10,
    "start_time": "2021-07-16T08:51:42.960Z"
   },
   {
    "duration": 72,
    "start_time": "2021-07-16T08:51:44.613Z"
   },
   {
    "duration": 12,
    "start_time": "2021-07-16T08:51:50.193Z"
   },
   {
    "duration": 9,
    "start_time": "2021-07-16T08:51:54.031Z"
   },
   {
    "duration": 15,
    "start_time": "2021-07-16T08:51:55.995Z"
   },
   {
    "duration": 13,
    "start_time": "2021-07-16T08:51:59.201Z"
   },
   {
    "duration": 10,
    "start_time": "2021-07-16T08:52:00.704Z"
   },
   {
    "duration": 8,
    "start_time": "2021-07-16T08:52:02.487Z"
   },
   {
    "duration": 6,
    "start_time": "2021-07-16T08:52:03.835Z"
   },
   {
    "duration": 93,
    "start_time": "2021-07-16T08:52:08.716Z"
   },
   {
    "duration": 20,
    "start_time": "2021-07-16T08:52:10.947Z"
   },
   {
    "duration": 6,
    "start_time": "2021-07-16T08:52:20.017Z"
   },
   {
    "duration": 16,
    "start_time": "2021-07-16T08:52:24.479Z"
   },
   {
    "duration": 15,
    "start_time": "2021-07-16T08:52:25.687Z"
   },
   {
    "duration": 32,
    "start_time": "2021-07-16T08:52:28.638Z"
   },
   {
    "duration": 11,
    "start_time": "2021-07-16T08:52:30.430Z"
   },
   {
    "duration": 59,
    "start_time": "2021-07-16T08:52:31.947Z"
   },
   {
    "duration": 38,
    "start_time": "2021-07-16T08:52:33.689Z"
   },
   {
    "duration": 20,
    "start_time": "2021-07-16T08:52:37.440Z"
   },
   {
    "duration": 6,
    "start_time": "2021-07-16T08:52:40.643Z"
   },
   {
    "duration": 17,
    "start_time": "2021-07-16T08:52:41.759Z"
   },
   {
    "duration": 86,
    "start_time": "2021-07-16T08:52:43.979Z"
   },
   {
    "duration": 104,
    "start_time": "2021-07-16T08:52:51.528Z"
   },
   {
    "duration": 65,
    "start_time": "2021-07-16T08:53:01.806Z"
   },
   {
    "duration": 50,
    "start_time": "2021-07-16T08:53:09.163Z"
   },
   {
    "duration": 75,
    "start_time": "2021-07-16T08:53:11.831Z"
   },
   {
    "duration": 13,
    "start_time": "2021-07-16T08:53:19.627Z"
   },
   {
    "duration": 40,
    "start_time": "2021-07-16T08:53:31.563Z"
   },
   {
    "duration": 12,
    "start_time": "2021-07-16T08:53:40.872Z"
   },
   {
    "duration": 12,
    "start_time": "2021-07-16T08:53:44.196Z"
   },
   {
    "duration": 38,
    "start_time": "2021-07-16T10:05:01.604Z"
   },
   {
    "duration": 34,
    "start_time": "2021-07-16T10:05:53.437Z"
   },
   {
    "duration": 106,
    "start_time": "2021-07-16T10:05:57.605Z"
   },
   {
    "duration": 49,
    "start_time": "2021-07-16T10:06:10.815Z"
   },
   {
    "duration": 10,
    "start_time": "2021-07-16T10:06:18.724Z"
   },
   {
    "duration": 29,
    "start_time": "2021-07-16T10:06:23.033Z"
   },
   {
    "duration": 10,
    "start_time": "2021-07-16T10:06:33.027Z"
   },
   {
    "duration": 9,
    "start_time": "2021-07-16T10:06:36.593Z"
   },
   {
    "duration": 25,
    "start_time": "2021-07-16T10:12:56.594Z"
   },
   {
    "duration": 39,
    "start_time": "2021-07-16T10:13:04.958Z"
   },
   {
    "duration": 37,
    "start_time": "2021-07-16T10:17:41.642Z"
   },
   {
    "duration": 51,
    "start_time": "2021-07-16T10:17:50.812Z"
   },
   {
    "duration": 11,
    "start_time": "2021-07-16T10:18:22.136Z"
   },
   {
    "duration": 26,
    "start_time": "2021-07-16T10:18:25.869Z"
   },
   {
    "duration": 9,
    "start_time": "2021-07-16T10:18:30.920Z"
   },
   {
    "duration": 9,
    "start_time": "2021-07-16T10:18:32.981Z"
   },
   {
    "duration": 10,
    "start_time": "2021-07-16T10:22:17.096Z"
   },
   {
    "duration": 101,
    "start_time": "2021-07-16T10:23:40.835Z"
   },
   {
    "duration": 31417,
    "start_time": "2021-07-16T10:25:22.271Z"
   },
   {
    "duration": 32,
    "start_time": "2021-07-16T10:29:53.841Z"
   },
   {
    "duration": 294,
    "start_time": "2021-07-16T10:37:09.902Z"
   },
   {
    "duration": 37,
    "start_time": "2021-07-16T10:37:17.921Z"
   },
   {
    "duration": 41,
    "start_time": "2021-07-16T10:39:10.900Z"
   },
   {
    "duration": 10,
    "start_time": "2021-07-16T10:45:26.277Z"
   },
   {
    "duration": 29377,
    "start_time": "2021-07-16T10:48:53.944Z"
   },
   {
    "duration": 30,
    "start_time": "2021-07-16T10:49:36.401Z"
   },
   {
    "duration": 21,
    "start_time": "2021-07-16T10:50:09.527Z"
   },
   {
    "duration": 12,
    "start_time": "2021-07-16T10:52:20.886Z"
   },
   {
    "duration": 354,
    "start_time": "2021-07-16T10:52:29.944Z"
   },
   {
    "duration": 8535,
    "start_time": "2021-07-16T10:53:11.675Z"
   },
   {
    "duration": 7,
    "start_time": "2021-07-16T10:53:44.591Z"
   },
   {
    "duration": 4,
    "start_time": "2021-07-16T10:53:48.870Z"
   },
   {
    "duration": 527,
    "start_time": "2021-07-16T10:53:50.701Z"
   },
   {
    "duration": 11,
    "start_time": "2021-07-16T10:53:54.280Z"
   },
   {
    "duration": 146,
    "start_time": "2021-07-16T10:53:57.419Z"
   },
   {
    "duration": 19,
    "start_time": "2021-07-16T10:53:59.527Z"
   },
   {
    "duration": 12,
    "start_time": "2021-07-16T10:54:02.467Z"
   },
   {
    "duration": 117,
    "start_time": "2021-07-16T10:54:04.380Z"
   },
   {
    "duration": 17,
    "start_time": "2021-07-16T10:54:07.310Z"
   },
   {
    "duration": 11,
    "start_time": "2021-07-16T10:54:09.857Z"
   },
   {
    "duration": 74,
    "start_time": "2021-07-16T10:54:13.045Z"
   },
   {
    "duration": 12,
    "start_time": "2021-07-16T10:54:16.036Z"
   },
   {
    "duration": 9,
    "start_time": "2021-07-16T10:54:20.013Z"
   },
   {
    "duration": 21,
    "start_time": "2021-07-16T10:54:22.068Z"
   },
   {
    "duration": 15,
    "start_time": "2021-07-16T10:54:24.637Z"
   },
   {
    "duration": 11,
    "start_time": "2021-07-16T10:54:25.986Z"
   },
   {
    "duration": 10,
    "start_time": "2021-07-16T10:54:27.655Z"
   },
   {
    "duration": 7,
    "start_time": "2021-07-16T10:54:28.752Z"
   },
   {
    "duration": 86,
    "start_time": "2021-07-16T10:54:32.542Z"
   },
   {
    "duration": 21,
    "start_time": "2021-07-16T10:54:34.162Z"
   },
   {
    "duration": 6,
    "start_time": "2021-07-16T10:54:39.101Z"
   },
   {
    "duration": 17,
    "start_time": "2021-07-16T10:54:42.037Z"
   },
   {
    "duration": 15,
    "start_time": "2021-07-16T10:54:43.771Z"
   },
   {
    "duration": 31,
    "start_time": "2021-07-16T10:54:45.501Z"
   },
   {
    "duration": 9,
    "start_time": "2021-07-16T10:54:47.444Z"
   },
   {
    "duration": 42,
    "start_time": "2021-07-16T10:54:50.895Z"
   },
   {
    "duration": 30,
    "start_time": "2021-07-16T10:54:52.510Z"
   },
   {
    "duration": 14,
    "start_time": "2021-07-16T10:54:55.812Z"
   },
   {
    "duration": 5,
    "start_time": "2021-07-16T10:54:59.051Z"
   },
   {
    "duration": 12,
    "start_time": "2021-07-16T10:55:00.388Z"
   },
   {
    "duration": 71,
    "start_time": "2021-07-16T10:55:04.703Z"
   },
   {
    "duration": 70,
    "start_time": "2021-07-16T10:55:07.477Z"
   },
   {
    "duration": 40,
    "start_time": "2021-07-16T10:55:15.423Z"
   },
   {
    "duration": 35,
    "start_time": "2021-07-16T10:55:33.761Z"
   },
   {
    "duration": 78,
    "start_time": "2021-07-16T10:55:44.250Z"
   },
   {
    "duration": 14,
    "start_time": "2021-07-16T10:55:49.617Z"
   },
   {
    "duration": 38,
    "start_time": "2021-07-16T10:55:53.970Z"
   },
   {
    "duration": 13,
    "start_time": "2021-07-16T10:56:01.465Z"
   },
   {
    "duration": 8,
    "start_time": "2021-07-16T10:56:08.215Z"
   },
   {
    "duration": 31,
    "start_time": "2021-07-16T10:56:09.907Z"
   },
   {
    "duration": 10,
    "start_time": "2021-07-16T10:56:35.856Z"
   },
   {
    "duration": 29399,
    "start_time": "2021-07-16T10:56:43.004Z"
   },
   {
    "duration": 34,
    "start_time": "2021-07-16T10:57:20.952Z"
   },
   {
    "duration": 10,
    "start_time": "2021-07-16T10:58:05.217Z"
   },
   {
    "duration": 14,
    "start_time": "2021-07-16T10:58:12.722Z"
   },
   {
    "duration": 26,
    "start_time": "2021-07-16T10:59:22.910Z"
   },
   {
    "duration": 14,
    "start_time": "2021-07-16T11:00:15.415Z"
   },
   {
    "duration": 17,
    "start_time": "2021-07-16T11:00:18.575Z"
   },
   {
    "duration": 59,
    "start_time": "2021-07-16T11:00:49.517Z"
   },
   {
    "duration": 10844,
    "start_time": "2021-07-16T11:03:28.423Z"
   },
   {
    "duration": 70,
    "start_time": "2021-07-16T11:05:11.799Z"
   },
   {
    "duration": 2048,
    "start_time": "2021-07-16T11:07:24.690Z"
   },
   {
    "duration": 529,
    "start_time": "2021-07-16T11:07:54.881Z"
   },
   {
    "duration": 555,
    "start_time": "2021-07-16T11:08:12.374Z"
   },
   {
    "duration": 529,
    "start_time": "2021-07-16T11:09:00.808Z"
   },
   {
    "duration": 495,
    "start_time": "2021-07-16T11:09:27.984Z"
   },
   {
    "duration": 509,
    "start_time": "2021-07-16T11:09:41.637Z"
   },
   {
    "duration": 479,
    "start_time": "2021-07-16T11:10:11.177Z"
   },
   {
    "duration": 504,
    "start_time": "2021-07-16T11:10:21.410Z"
   },
   {
    "duration": 511,
    "start_time": "2021-07-16T11:11:15.335Z"
   },
   {
    "duration": 25,
    "start_time": "2021-07-16T11:11:29.268Z"
   },
   {
    "duration": 623,
    "start_time": "2021-07-16T11:11:40.903Z"
   },
   {
    "duration": 19,
    "start_time": "2021-07-16T11:11:50.347Z"
   },
   {
    "duration": 4,
    "start_time": "2021-07-16T11:12:06.193Z"
   },
   {
    "duration": 13,
    "start_time": "2021-07-16T11:12:07.836Z"
   },
   {
    "duration": 7,
    "start_time": "2021-07-16T11:12:15.397Z"
   },
   {
    "duration": 8,
    "start_time": "2021-07-16T11:12:21.834Z"
   },
   {
    "duration": 20,
    "start_time": "2021-07-16T11:12:28.873Z"
   },
   {
    "duration": 4,
    "start_time": "2021-07-16T11:12:47.855Z"
   },
   {
    "duration": 14,
    "start_time": "2021-07-16T11:12:51.341Z"
   },
   {
    "duration": 7,
    "start_time": "2021-07-16T11:12:55.007Z"
   },
   {
    "duration": 7,
    "start_time": "2021-07-16T11:13:02.231Z"
   },
   {
    "duration": 129,
    "start_time": "2021-07-16T11:13:10.387Z"
   },
   {
    "duration": 19,
    "start_time": "2021-07-16T11:13:13.339Z"
   },
   {
    "duration": 123,
    "start_time": "2021-07-16T11:19:10.422Z"
   },
   {
    "duration": 1622,
    "start_time": "2021-07-16T13:42:15.376Z"
   },
   {
    "duration": 6,
    "start_time": "2021-07-16T13:42:17.001Z"
   },
   {
    "duration": 549,
    "start_time": "2021-07-16T13:42:17.010Z"
   },
   {
    "duration": 16,
    "start_time": "2021-07-16T13:42:17.562Z"
   },
   {
    "duration": 159,
    "start_time": "2021-07-16T13:42:17.580Z"
   },
   {
    "duration": 33,
    "start_time": "2021-07-16T13:42:17.741Z"
   },
   {
    "duration": 12,
    "start_time": "2021-07-16T13:42:17.776Z"
   },
   {
    "duration": 156,
    "start_time": "2021-07-16T13:42:17.791Z"
   },
   {
    "duration": 26,
    "start_time": "2021-07-16T13:42:17.951Z"
   },
   {
    "duration": 10,
    "start_time": "2021-07-16T13:42:17.979Z"
   },
   {
    "duration": 104,
    "start_time": "2021-07-16T13:42:17.991Z"
   },
   {
    "duration": 11,
    "start_time": "2021-07-16T13:42:18.097Z"
   },
   {
    "duration": 10,
    "start_time": "2021-07-16T13:42:18.110Z"
   },
   {
    "duration": 16,
    "start_time": "2021-07-16T13:42:18.122Z"
   },
   {
    "duration": 15,
    "start_time": "2021-07-16T13:42:18.168Z"
   },
   {
    "duration": 10,
    "start_time": "2021-07-16T13:42:18.186Z"
   },
   {
    "duration": 9,
    "start_time": "2021-07-16T13:42:18.199Z"
   },
   {
    "duration": 7,
    "start_time": "2021-07-16T13:42:18.210Z"
   },
   {
    "duration": 106,
    "start_time": "2021-07-16T13:42:18.268Z"
   },
   {
    "duration": 25,
    "start_time": "2021-07-16T13:42:18.376Z"
   },
   {
    "duration": 5,
    "start_time": "2021-07-16T13:42:18.403Z"
   },
   {
    "duration": 20,
    "start_time": "2021-07-16T13:42:18.411Z"
   },
   {
    "duration": 36,
    "start_time": "2021-07-16T13:42:18.437Z"
   },
   {
    "duration": 31,
    "start_time": "2021-07-16T13:42:18.476Z"
   },
   {
    "duration": 7,
    "start_time": "2021-07-16T13:42:18.509Z"
   },
   {
    "duration": 70,
    "start_time": "2021-07-16T13:42:18.519Z"
   },
   {
    "duration": 28,
    "start_time": "2021-07-16T13:42:18.591Z"
   },
   {
    "duration": 13,
    "start_time": "2021-07-16T13:42:18.622Z"
   },
   {
    "duration": 29,
    "start_time": "2021-07-16T13:42:18.638Z"
   },
   {
    "duration": 11,
    "start_time": "2021-07-16T13:42:18.670Z"
   },
   {
    "duration": 91,
    "start_time": "2021-07-16T13:42:18.684Z"
   },
   {
    "duration": 71,
    "start_time": "2021-07-16T13:42:18.778Z"
   },
   {
    "duration": 43,
    "start_time": "2021-07-16T13:42:18.868Z"
   },
   {
    "duration": 57,
    "start_time": "2021-07-16T13:42:18.913Z"
   },
   {
    "duration": 52,
    "start_time": "2021-07-16T13:42:18.972Z"
   },
   {
    "duration": 10,
    "start_time": "2021-07-16T13:42:19.026Z"
   },
   {
    "duration": 49,
    "start_time": "2021-07-16T13:42:19.039Z"
   },
   {
    "duration": 12,
    "start_time": "2021-07-16T13:42:19.090Z"
   },
   {
    "duration": 8,
    "start_time": "2021-07-16T13:42:19.104Z"
   },
   {
    "duration": 65,
    "start_time": "2021-07-16T13:42:19.114Z"
   },
   {
    "duration": 11,
    "start_time": "2021-07-16T13:42:19.183Z"
   },
   {
    "duration": 29094,
    "start_time": "2021-07-16T13:42:19.198Z"
   },
   {
    "duration": 22,
    "start_time": "2021-07-16T13:42:48.294Z"
   },
   {
    "duration": 9,
    "start_time": "2021-07-16T13:42:48.318Z"
   },
   {
    "duration": 49,
    "start_time": "2021-07-16T13:42:48.329Z"
   },
   {
    "duration": 19,
    "start_time": "2021-07-16T13:42:48.381Z"
   },
   {
    "duration": 100,
    "start_time": "2021-07-16T13:42:48.403Z"
   },
   {
    "duration": 2015,
    "start_time": "2021-07-16T13:42:48.506Z"
   },
   {
    "duration": 551,
    "start_time": "2021-07-16T13:42:50.523Z"
   },
   {
    "duration": 546,
    "start_time": "2021-07-16T13:42:51.077Z"
   },
   {
    "duration": 525,
    "start_time": "2021-07-16T13:42:51.625Z"
   },
   {
    "duration": 617,
    "start_time": "2021-07-16T13:42:52.154Z"
   },
   {
    "duration": 26,
    "start_time": "2021-07-16T13:42:52.773Z"
   },
   {
    "duration": 657,
    "start_time": "2021-07-16T13:42:52.801Z"
   },
   {
    "duration": 22,
    "start_time": "2021-07-16T13:42:53.460Z"
   },
   {
    "duration": 5,
    "start_time": "2021-07-16T13:42:53.485Z"
   },
   {
    "duration": 13,
    "start_time": "2021-07-16T13:42:53.493Z"
   },
   {
    "duration": 7,
    "start_time": "2021-07-16T13:42:53.509Z"
   },
   {
    "duration": 54,
    "start_time": "2021-07-16T13:42:53.519Z"
   },
   {
    "duration": 22,
    "start_time": "2021-07-16T13:42:53.576Z"
   },
   {
    "duration": 4,
    "start_time": "2021-07-16T13:42:53.601Z"
   },
   {
    "duration": 14,
    "start_time": "2021-07-16T13:42:53.608Z"
   },
   {
    "duration": 47,
    "start_time": "2021-07-16T13:42:53.624Z"
   },
   {
    "duration": 8,
    "start_time": "2021-07-16T13:42:53.673Z"
   },
   {
    "duration": 16,
    "start_time": "2021-07-16T13:42:53.684Z"
   },
   {
    "duration": 18,
    "start_time": "2021-07-16T13:42:53.703Z"
   },
   {
    "duration": 1577,
    "start_time": "2021-12-03T08:36:47.063Z"
   },
   {
    "duration": 6,
    "start_time": "2021-12-03T08:36:48.642Z"
   },
   {
    "duration": 500,
    "start_time": "2021-12-03T08:36:48.660Z"
   },
   {
    "duration": 15,
    "start_time": "2021-12-03T08:36:49.163Z"
   },
   {
    "duration": 164,
    "start_time": "2021-12-03T08:36:49.180Z"
   },
   {
    "duration": 28,
    "start_time": "2021-12-03T08:36:49.346Z"
   },
   {
    "duration": 12,
    "start_time": "2021-12-03T08:36:49.376Z"
   },
   {
    "duration": 136,
    "start_time": "2021-12-03T08:36:49.391Z"
   },
   {
    "duration": 28,
    "start_time": "2021-12-03T08:36:49.531Z"
   },
   {
    "duration": 10,
    "start_time": "2021-12-03T08:36:49.561Z"
   },
   {
    "duration": 89,
    "start_time": "2021-12-03T08:36:49.573Z"
   },
   {
    "duration": 11,
    "start_time": "2021-12-03T08:36:49.664Z"
   },
   {
    "duration": 9,
    "start_time": "2021-12-03T08:36:49.678Z"
   },
   {
    "duration": 15,
    "start_time": "2021-12-03T08:36:49.690Z"
   },
   {
    "duration": 13,
    "start_time": "2021-12-03T08:36:49.707Z"
   },
   {
    "duration": 10,
    "start_time": "2021-12-03T08:36:49.759Z"
   },
   {
    "duration": 8,
    "start_time": "2021-12-03T08:36:49.771Z"
   },
   {
    "duration": 7,
    "start_time": "2021-12-03T08:36:49.782Z"
   },
   {
    "duration": 120,
    "start_time": "2021-12-03T08:36:49.791Z"
   },
   {
    "duration": 23,
    "start_time": "2021-12-03T08:36:49.914Z"
   },
   {
    "duration": 21,
    "start_time": "2021-12-03T08:36:49.939Z"
   },
   {
    "duration": 20,
    "start_time": "2021-12-03T08:36:49.963Z"
   },
   {
    "duration": 11,
    "start_time": "2021-12-03T08:36:49.989Z"
   },
   {
    "duration": 58,
    "start_time": "2021-12-03T08:36:50.004Z"
   },
   {
    "duration": 7,
    "start_time": "2021-12-03T08:36:50.065Z"
   },
   {
    "duration": 41,
    "start_time": "2021-12-03T08:36:50.075Z"
   },
   {
    "duration": 56,
    "start_time": "2021-12-03T08:36:50.119Z"
   },
   {
    "duration": 15,
    "start_time": "2021-12-03T08:36:50.178Z"
   },
   {
    "duration": 5,
    "start_time": "2021-12-03T08:36:50.195Z"
   },
   {
    "duration": 20,
    "start_time": "2021-12-03T08:36:50.202Z"
   },
   {
    "duration": 102,
    "start_time": "2021-12-03T08:36:50.224Z"
   },
   {
    "duration": 88,
    "start_time": "2021-12-03T08:36:50.328Z"
   },
   {
    "duration": 48,
    "start_time": "2021-12-03T08:36:50.418Z"
   },
   {
    "duration": 35,
    "start_time": "2021-12-03T08:36:50.468Z"
   },
   {
    "duration": 70,
    "start_time": "2021-12-03T08:36:50.505Z"
   },
   {
    "duration": 9,
    "start_time": "2021-12-03T08:36:50.578Z"
   },
   {
    "duration": 26,
    "start_time": "2021-12-03T08:36:50.590Z"
   },
   {
    "duration": 9,
    "start_time": "2021-12-03T08:36:50.618Z"
   },
   {
    "duration": 38,
    "start_time": "2021-12-03T08:36:50.629Z"
   },
   {
    "duration": 37,
    "start_time": "2021-12-03T08:36:50.669Z"
   },
   {
    "duration": 10,
    "start_time": "2021-12-03T08:36:50.709Z"
   },
   {
    "duration": 28900,
    "start_time": "2021-12-03T08:36:50.721Z"
   },
   {
    "duration": 42,
    "start_time": "2021-12-03T08:37:19.623Z"
   },
   {
    "duration": 8,
    "start_time": "2021-12-03T08:37:19.667Z"
   },
   {
    "duration": 13,
    "start_time": "2021-12-03T08:37:19.678Z"
   },
   {
    "duration": 17,
    "start_time": "2021-12-03T08:37:19.693Z"
   },
   {
    "duration": 112,
    "start_time": "2021-12-03T08:37:19.712Z"
   },
   {
    "duration": 1998,
    "start_time": "2021-12-03T08:37:19.826Z"
   },
   {
    "duration": 527,
    "start_time": "2021-12-03T08:37:21.826Z"
   },
   {
    "duration": 531,
    "start_time": "2021-12-03T08:37:22.360Z"
   },
   {
    "duration": 488,
    "start_time": "2021-12-03T08:37:22.894Z"
   },
   {
    "duration": 510,
    "start_time": "2021-12-03T08:37:23.384Z"
   },
   {
    "duration": 27,
    "start_time": "2021-12-03T08:37:23.896Z"
   },
   {
    "duration": 622,
    "start_time": "2021-12-03T08:37:23.925Z"
   },
   {
    "duration": 24,
    "start_time": "2021-12-03T08:37:24.550Z"
   },
   {
    "duration": 3,
    "start_time": "2021-12-03T08:37:24.576Z"
   },
   {
    "duration": 22,
    "start_time": "2021-12-03T08:37:24.581Z"
   },
   {
    "duration": 14,
    "start_time": "2021-12-03T08:37:24.606Z"
   },
   {
    "duration": 9,
    "start_time": "2021-12-03T08:37:24.622Z"
   },
   {
    "duration": 20,
    "start_time": "2021-12-03T08:37:24.660Z"
   },
   {
    "duration": 4,
    "start_time": "2021-12-03T08:37:24.682Z"
   },
   {
    "duration": 13,
    "start_time": "2021-12-03T08:37:24.688Z"
   },
   {
    "duration": 5,
    "start_time": "2021-12-03T08:37:24.704Z"
   },
   {
    "duration": 7,
    "start_time": "2021-12-03T08:37:24.711Z"
   },
   {
    "duration": 16,
    "start_time": "2021-12-03T08:37:24.760Z"
   },
   {
    "duration": 17,
    "start_time": "2021-12-03T08:37:24.778Z"
   }
  ],
  "kernelspec": {
   "display_name": "Python 3",
   "language": "python",
   "name": "python3"
  },
  "language_info": {
   "codemirror_mode": {
    "name": "ipython",
    "version": 3
   },
   "file_extension": ".py",
   "mimetype": "text/x-python",
   "name": "python",
   "nbconvert_exporter": "python",
   "pygments_lexer": "ipython3",
   "version": "3.7.8"
  },
  "toc": {
   "base_numbering": 1,
   "nav_menu": {},
   "number_sections": true,
   "sideBar": true,
   "skip_h1_title": true,
   "title_cell": "Table of Contents",
   "title_sidebar": "Contents",
   "toc_cell": false,
   "toc_position": {},
   "toc_section_display": true,
   "toc_window_display": false
  }
 },
 "nbformat": 4,
 "nbformat_minor": 2
}
