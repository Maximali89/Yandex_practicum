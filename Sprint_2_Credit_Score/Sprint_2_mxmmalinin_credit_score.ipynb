{
 "cells": [
  {
   "cell_type": "markdown",
   "metadata": {},
   "source": [
    "<b>Максим, привет!</b>\n",
    "\n",
    "Меня зовут Евгений Дащенко, и я буду проверять твой проект. Предлагаю общаться на «ты» 😊 Но если это не удобно - дай знать, и мы перейдем на \"вы\". \n",
    "\n",
    "Моя основная цель — не указать на совершенные тобою ошибки, а поделиться своим опытом и помочь тебе стать аналитиком данных. Ты уже проделал большую работу над проектом, но давай сделаем его еще лучше. Ниже ты найдешь мои комментарии - пожалуйста, не перемещай, не изменяй и не удаляй их. Я буду использовать цветовую разметку:\n",
    "\n",
    "<div class=\"alert alert-danger\">\n",
    "<b>Комментарий ревьюера:</b> Так выделены самые важные замечания. Без их отработки проект не будет принят. </div>\n",
    "\n",
    "<div class=\"alert alert-warning\">\n",
    "<b>Комментарий ревьюера:</b> Так выделены небольшие замечания. Одна-два таких замечания в проекте допустимы, но если их будет больше - тебе будет необходимо внести исправления. Это как тестовое задание при приеме на работу: очень много мелких ошибок могут стать причиной отказа кандидату. \n",
    "\n",
    "</div>\n",
    "\n",
    "<div class=\"alert alert-success\">\n",
    "<b>Комментарий ревьюера:</b> Так я выделяю все остальные комментарии.</div>\n",
    "\n",
    "Давай работать над проектом в диалоге: если ты что-то меняешь в проекте или отвечаешь на мои комменатри — пиши об этом. Мне будет легче отследить изменения, если ты выделишь свои комментарии:\n",
    "<div class=\"alert alert-info\"> <b>Комментарий студента:</b> Например, вот так.</div>\n",
    "\n",
    "Всё это поможет выполнить повторную проверку твоего проекта оперативнее. "
   ]
  },
  {
   "cell_type": "markdown",
   "metadata": {},
   "source": [
    "# Исследование надёжности заёмщиков\n",
    "\n",
    "Заказчик — кредитный отдел банка. Нужно разобраться, влияет ли семейное положение и количество детей клиента на факт погашения кредита в срок. Входные данные от банка — статистика о платёжеспособности клиентов.\n",
    "\n",
    "Результаты исследования будут учтены при построении модели **кредитного скоринга** — специальной системы, которая оценивает способность потенциального заёмщика вернуть кредит банку.\n",
    "1. [Открытие данных](#start)\n",
    "2. [Предобработка данных](#preprocessing)\n",
    "    * [Обработка пропусков](#null)\n",
    "    * [Замена типа данных](#data_type)\n",
    "    * [Обработка дубликатов](#duplicates)\n",
    "    * [Лемматизация](#lemmas)\n",
    "    * [Категоризация данных](#categorizing)\n",
    "3. [Ответы на вопросы](#answers)\n",
    "4. [Общий вывод](#conclusion)\n",
    "5. [Чек-лист готовности проекта](#check)"
   ]
  },
  {
   "cell_type": "markdown",
   "metadata": {},
   "source": [
    "<div class=\"alert alert-success\">\n",
    "<b>Комментарий ревьюера:</b>\n",
    "\n",
    "Здорово, когда есть вступление в сам проект, каждый сможет быстрее разобраться в концепции / деталях работы. \n",
    "\n",
    "</div>"
   ]
  },
  {
   "cell_type": "markdown",
   "metadata": {},
   "source": [
    "## Шаг 1. Откройте файл с данными и изучите общую информацию \n",
    "<a id=\"start\"></a>"
   ]
  },
  {
   "cell_type": "code",
   "execution_count": 2,
   "metadata": {},
   "outputs": [
    {
     "name": "stdout",
     "output_type": "stream",
     "text": [
      "<class 'pandas.core.frame.DataFrame'>\n",
      "RangeIndex: 21525 entries, 0 to 21524\n",
      "Data columns (total 12 columns):\n",
      "children            21525 non-null int64\n",
      "days_employed       19351 non-null float64\n",
      "dob_years           21525 non-null int64\n",
      "education           21525 non-null object\n",
      "education_id        21525 non-null int64\n",
      "family_status       21525 non-null object\n",
      "family_status_id    21525 non-null int64\n",
      "gender              21525 non-null object\n",
      "income_type         21525 non-null object\n",
      "debt                21525 non-null int64\n",
      "total_income        19351 non-null float64\n",
      "purpose             21525 non-null object\n",
      "dtypes: float64(2), int64(5), object(5)\n",
      "memory usage: 2.0+ MB\n"
     ]
    },
    {
     "data": {
      "text/html": [
       "<div>\n",
       "<style scoped>\n",
       "    .dataframe tbody tr th:only-of-type {\n",
       "        vertical-align: middle;\n",
       "    }\n",
       "\n",
       "    .dataframe tbody tr th {\n",
       "        vertical-align: top;\n",
       "    }\n",
       "\n",
       "    .dataframe thead th {\n",
       "        text-align: right;\n",
       "    }\n",
       "</style>\n",
       "<table border=\"1\" class=\"dataframe\">\n",
       "  <thead>\n",
       "    <tr style=\"text-align: right;\">\n",
       "      <th></th>\n",
       "      <th>children</th>\n",
       "      <th>days_employed</th>\n",
       "      <th>dob_years</th>\n",
       "      <th>education</th>\n",
       "      <th>education_id</th>\n",
       "      <th>family_status</th>\n",
       "      <th>family_status_id</th>\n",
       "      <th>gender</th>\n",
       "      <th>income_type</th>\n",
       "      <th>debt</th>\n",
       "      <th>total_income</th>\n",
       "      <th>purpose</th>\n",
       "    </tr>\n",
       "  </thead>\n",
       "  <tbody>\n",
       "    <tr>\n",
       "      <td>0</td>\n",
       "      <td>1</td>\n",
       "      <td>-8437.673028</td>\n",
       "      <td>42</td>\n",
       "      <td>высшее</td>\n",
       "      <td>0</td>\n",
       "      <td>женат / замужем</td>\n",
       "      <td>0</td>\n",
       "      <td>F</td>\n",
       "      <td>сотрудник</td>\n",
       "      <td>0</td>\n",
       "      <td>253875.639453</td>\n",
       "      <td>покупка жилья</td>\n",
       "    </tr>\n",
       "    <tr>\n",
       "      <td>1</td>\n",
       "      <td>1</td>\n",
       "      <td>-4024.803754</td>\n",
       "      <td>36</td>\n",
       "      <td>среднее</td>\n",
       "      <td>1</td>\n",
       "      <td>женат / замужем</td>\n",
       "      <td>0</td>\n",
       "      <td>F</td>\n",
       "      <td>сотрудник</td>\n",
       "      <td>0</td>\n",
       "      <td>112080.014102</td>\n",
       "      <td>приобретение автомобиля</td>\n",
       "    </tr>\n",
       "    <tr>\n",
       "      <td>2</td>\n",
       "      <td>0</td>\n",
       "      <td>-5623.422610</td>\n",
       "      <td>33</td>\n",
       "      <td>Среднее</td>\n",
       "      <td>1</td>\n",
       "      <td>женат / замужем</td>\n",
       "      <td>0</td>\n",
       "      <td>M</td>\n",
       "      <td>сотрудник</td>\n",
       "      <td>0</td>\n",
       "      <td>145885.952297</td>\n",
       "      <td>покупка жилья</td>\n",
       "    </tr>\n",
       "    <tr>\n",
       "      <td>3</td>\n",
       "      <td>3</td>\n",
       "      <td>-4124.747207</td>\n",
       "      <td>32</td>\n",
       "      <td>среднее</td>\n",
       "      <td>1</td>\n",
       "      <td>женат / замужем</td>\n",
       "      <td>0</td>\n",
       "      <td>M</td>\n",
       "      <td>сотрудник</td>\n",
       "      <td>0</td>\n",
       "      <td>267628.550329</td>\n",
       "      <td>дополнительное образование</td>\n",
       "    </tr>\n",
       "    <tr>\n",
       "      <td>4</td>\n",
       "      <td>0</td>\n",
       "      <td>340266.072047</td>\n",
       "      <td>53</td>\n",
       "      <td>среднее</td>\n",
       "      <td>1</td>\n",
       "      <td>гражданский брак</td>\n",
       "      <td>1</td>\n",
       "      <td>F</td>\n",
       "      <td>пенсионер</td>\n",
       "      <td>0</td>\n",
       "      <td>158616.077870</td>\n",
       "      <td>сыграть свадьбу</td>\n",
       "    </tr>\n",
       "  </tbody>\n",
       "</table>\n",
       "</div>"
      ],
      "text/plain": [
       "   children  days_employed  dob_years education  education_id  \\\n",
       "0         1   -8437.673028         42    высшее             0   \n",
       "1         1   -4024.803754         36   среднее             1   \n",
       "2         0   -5623.422610         33   Среднее             1   \n",
       "3         3   -4124.747207         32   среднее             1   \n",
       "4         0  340266.072047         53   среднее             1   \n",
       "\n",
       "      family_status  family_status_id gender income_type  debt   total_income  \\\n",
       "0   женат / замужем                 0      F   сотрудник     0  253875.639453   \n",
       "1   женат / замужем                 0      F   сотрудник     0  112080.014102   \n",
       "2   женат / замужем                 0      M   сотрудник     0  145885.952297   \n",
       "3   женат / замужем                 0      M   сотрудник     0  267628.550329   \n",
       "4  гражданский брак                 1      F   пенсионер     0  158616.077870   \n",
       "\n",
       "                      purpose  \n",
       "0               покупка жилья  \n",
       "1     приобретение автомобиля  \n",
       "2               покупка жилья  \n",
       "3  дополнительное образование  \n",
       "4             сыграть свадьбу  "
      ]
     },
     "execution_count": 2,
     "metadata": {},
     "output_type": "execute_result"
    }
   ],
   "source": [
    "import pandas as pd\n",
    "df = pd.read_csv('/datasets/data.csv')\n",
    "df.info()\n",
    "df.head()"
   ]
  },
  {
   "cell_type": "markdown",
   "metadata": {},
   "source": [
    "**Вывод** В датасете есть пропуски в столбцах 'days_employed' и 'total_income', которые нужно будет заполнить. А так же в столбце 'days_employed' существуют отрицательные значения. Их нужно привести в положительные числа."
   ]
  },
  {
   "cell_type": "markdown",
   "metadata": {},
   "source": [
    "<div class=\"alert alert-success\">\n",
    "<b>Комментарий ревьюера:</b>\n",
    "\n",
    "Первичные данные посмотрели, давай теперь их обработаем.\n",
    "\n",
    "</div>"
   ]
  },
  {
   "cell_type": "markdown",
   "metadata": {},
   "source": [
    "## Шаг 2. Предобработка данных\n",
    "<a id=\"preprocessing\"></a>"
   ]
  },
  {
   "cell_type": "markdown",
   "metadata": {},
   "source": [
    "### Обработка пропусков\n",
    "<a id=\"null\"></a>"
   ]
  },
  {
   "cell_type": "code",
   "execution_count": 3,
   "metadata": {
    "scrolled": true
   },
   "outputs": [
    {
     "data": {
      "text/plain": [
       "children            0\n",
       "days_employed       0\n",
       "dob_years           0\n",
       "education           0\n",
       "education_id        0\n",
       "family_status       0\n",
       "family_status_id    0\n",
       "gender              0\n",
       "income_type         0\n",
       "debt                0\n",
       "total_income        0\n",
       "purpose             0\n",
       "dtype: int64"
      ]
     },
     "execution_count": 3,
     "metadata": {},
     "output_type": "execute_result"
    }
   ],
   "source": [
    "#приводим отрицательные значения в столбце 'days_employed' в положительные числа\n",
    "df['days_employed'] = df['days_employed'].abs()\n",
    "\n",
    "#вычисляем кол-во строк, где оба столбца пропущены\n",
    "len(df[df['days_employed'].isnull() & df['total_income'].isnull()]) \n",
    "\n",
    "#смотрим какое количество пропусков по типу занятости и выводим долю пропусков по типу занятости\n",
    "df.set_index('income_type').isna().sum(level=0)\n",
    "df.set_index('income_type').isna().sum(level=0)/df['days_employed'].isna().sum()\n",
    "\n",
    "#смотрим какое количество пропусков по уровню образования клиента и выводим долю пропусков по уровню образования клиента\n",
    "df.set_index('education_id').isna().sum(level=0) \n",
    "df.set_index('education_id').isna().sum(level=0)/df['days_employed'].isna().sum() \n",
    "\n",
    "#смотрим какое количество пропусков по семейному положению и выводим долю пропусков по семейному положению\n",
    "df.set_index('family_status').isna().sum(level=0) #смотрим какое количество пропусков по семейному положению\n",
    "df.set_index('family_status').isna().sum(level=0)/df['days_employed'].isna().sum()\n",
    "\n",
    "#смотрим какое количество пропусков по полу клиента и выводим долю пропусков по полу клиента\n",
    "df.set_index('gender').isna().sum(level=0) \n",
    "df.set_index('gender').isna().sum(level=0)/df['days_employed'].isna().sum() \n",
    "\n",
    "# вычисляем медиану в столбце \"total_income\" для каждого \"income_type\"\n",
    "median_income = df.groupby('income_type').agg({'total_income' : 'median'})\n",
    "# вычисляем медиану в столбце \"days_employed\" для каждого \"income_type\"\n",
    "median_days = df.groupby(['income_type']).agg({'days_employed' : 'median'}) \n",
    "\n",
    "# заполнение пропусков в столбце \"total_income\" на \"median_income\"\n",
    "for inc_type in median_income.index:\n",
    "    df.loc[df['income_type'] == inc_type,'total_income'] = df.loc[df['income_type'] == inc_type,'total_income'].fillna(median_income.loc[inc_type, 'total_income'])\n",
    "# заполнение пропусков в столбце \"days_employed\" на \"median_days\"\n",
    "for days_type in median_days.index:\n",
    "    df.loc[df['income_type'] == days_type,'days_employed'] = df.loc[df['income_type'] == days_type,'days_employed'].fillna(median_days.loc[days_type, 'days_employed']) \n",
    "#проверка\n",
    "df.isna().sum()"
   ]
  },
  {
   "cell_type": "markdown",
   "metadata": {},
   "source": [
    "<div class=\"alert alert-success\">\n",
    "<b>Комментарий ревьюера:</b>\n",
    "\n",
    "Отличный способ изменить отрицательные значения в абсолютные.\n",
    "\n",
    "</div>"
   ]
  },
  {
   "cell_type": "markdown",
   "metadata": {},
   "source": [
    "<div class=\"alert alert-success\">\n",
    "<b>Комментарий ревьюера:</b>\n",
    "\n",
    "В том числе метод `fillna` и `astype` можно применять к нескольким столбцам одновременно.\n",
    "    \n",
    "Если столбцов более 2–ух, то рекомендую применять цикл `for`.\n",
    "    \n",
    "Пример: \n",
    "    \n",
    "`df.astype({ \"col1\": \"float64\", \"col2\": \"int64\"})`\n",
    "    \n",
    "</div>"
   ]
  },
  {
   "cell_type": "markdown",
   "metadata": {},
   "source": [
    "**Вывод** Так как не видно существенной корреляции пропусков по типу занятости, по уровню образования клиента, по семейному положению и по полу клиента, можно предположить, что пропуски появились из-за человеческого фактора. Например, клиент не захотел заполнять графы со стажем и доходом, или сотрудник посчитал что эта информация не играет роли и не заполнил её в систему. Общее количество пропусков равно в столбцах \"days_employed\" и \"total_income\" равно 2174, а также количество строк, где оба столбца имеют пропуски тоже 2174, значит оба этих столбца содержат пропуски одновременно. Половина пропусков у \"сотрудников\", а типы занятости без пропусков: \"безработный\", \"студент\" и \"в декрете\". \n",
    "**Заполнение пропусков:** так как данные по разным типам занятости часто отличаются друг от друг, выводить общую медиану было бы неправильно. Сначала вывели медиану в столбцах \"days_employed\" и \"total_income\" по типу занятости. Затем заполнили пропуски соответственной медианой по типу занятости.\n"
   ]
  },
  {
   "cell_type": "markdown",
   "metadata": {},
   "source": [
    "### Замена типа данных\n",
    "<a id=\"data_type\"></a>"
   ]
  },
  {
   "cell_type": "code",
   "execution_count": 4,
   "metadata": {},
   "outputs": [
    {
     "data": {
      "text/html": [
       "<div>\n",
       "<style scoped>\n",
       "    .dataframe tbody tr th:only-of-type {\n",
       "        vertical-align: middle;\n",
       "    }\n",
       "\n",
       "    .dataframe tbody tr th {\n",
       "        vertical-align: top;\n",
       "    }\n",
       "\n",
       "    .dataframe thead th {\n",
       "        text-align: right;\n",
       "    }\n",
       "</style>\n",
       "<table border=\"1\" class=\"dataframe\">\n",
       "  <thead>\n",
       "    <tr style=\"text-align: right;\">\n",
       "      <th></th>\n",
       "      <th>children</th>\n",
       "      <th>days_employed</th>\n",
       "      <th>dob_years</th>\n",
       "      <th>education</th>\n",
       "      <th>education_id</th>\n",
       "      <th>family_status</th>\n",
       "      <th>family_status_id</th>\n",
       "      <th>gender</th>\n",
       "      <th>income_type</th>\n",
       "      <th>debt</th>\n",
       "      <th>total_income</th>\n",
       "      <th>purpose</th>\n",
       "    </tr>\n",
       "  </thead>\n",
       "  <tbody>\n",
       "    <tr>\n",
       "      <td>0</td>\n",
       "      <td>1</td>\n",
       "      <td>8437</td>\n",
       "      <td>42</td>\n",
       "      <td>высшее</td>\n",
       "      <td>0</td>\n",
       "      <td>женат / замужем</td>\n",
       "      <td>0</td>\n",
       "      <td>F</td>\n",
       "      <td>сотрудник</td>\n",
       "      <td>0</td>\n",
       "      <td>253875</td>\n",
       "      <td>покупка жилья</td>\n",
       "    </tr>\n",
       "    <tr>\n",
       "      <td>1</td>\n",
       "      <td>1</td>\n",
       "      <td>4024</td>\n",
       "      <td>36</td>\n",
       "      <td>среднее</td>\n",
       "      <td>1</td>\n",
       "      <td>женат / замужем</td>\n",
       "      <td>0</td>\n",
       "      <td>F</td>\n",
       "      <td>сотрудник</td>\n",
       "      <td>0</td>\n",
       "      <td>112080</td>\n",
       "      <td>приобретение автомобиля</td>\n",
       "    </tr>\n",
       "    <tr>\n",
       "      <td>2</td>\n",
       "      <td>0</td>\n",
       "      <td>5623</td>\n",
       "      <td>33</td>\n",
       "      <td>Среднее</td>\n",
       "      <td>1</td>\n",
       "      <td>женат / замужем</td>\n",
       "      <td>0</td>\n",
       "      <td>M</td>\n",
       "      <td>сотрудник</td>\n",
       "      <td>0</td>\n",
       "      <td>145885</td>\n",
       "      <td>покупка жилья</td>\n",
       "    </tr>\n",
       "    <tr>\n",
       "      <td>3</td>\n",
       "      <td>3</td>\n",
       "      <td>4124</td>\n",
       "      <td>32</td>\n",
       "      <td>среднее</td>\n",
       "      <td>1</td>\n",
       "      <td>женат / замужем</td>\n",
       "      <td>0</td>\n",
       "      <td>M</td>\n",
       "      <td>сотрудник</td>\n",
       "      <td>0</td>\n",
       "      <td>267628</td>\n",
       "      <td>дополнительное образование</td>\n",
       "    </tr>\n",
       "    <tr>\n",
       "      <td>4</td>\n",
       "      <td>0</td>\n",
       "      <td>340266</td>\n",
       "      <td>53</td>\n",
       "      <td>среднее</td>\n",
       "      <td>1</td>\n",
       "      <td>гражданский брак</td>\n",
       "      <td>1</td>\n",
       "      <td>F</td>\n",
       "      <td>пенсионер</td>\n",
       "      <td>0</td>\n",
       "      <td>158616</td>\n",
       "      <td>сыграть свадьбу</td>\n",
       "    </tr>\n",
       "  </tbody>\n",
       "</table>\n",
       "</div>"
      ],
      "text/plain": [
       "   children  days_employed  dob_years education  education_id  \\\n",
       "0         1           8437         42    высшее             0   \n",
       "1         1           4024         36   среднее             1   \n",
       "2         0           5623         33   Среднее             1   \n",
       "3         3           4124         32   среднее             1   \n",
       "4         0         340266         53   среднее             1   \n",
       "\n",
       "      family_status  family_status_id gender income_type  debt  total_income  \\\n",
       "0   женат / замужем                 0      F   сотрудник     0        253875   \n",
       "1   женат / замужем                 0      F   сотрудник     0        112080   \n",
       "2   женат / замужем                 0      M   сотрудник     0        145885   \n",
       "3   женат / замужем                 0      M   сотрудник     0        267628   \n",
       "4  гражданский брак                 1      F   пенсионер     0        158616   \n",
       "\n",
       "                      purpose  \n",
       "0               покупка жилья  \n",
       "1     приобретение автомобиля  \n",
       "2               покупка жилья  \n",
       "3  дополнительное образование  \n",
       "4             сыграть свадьбу  "
      ]
     },
     "execution_count": 4,
     "metadata": {},
     "output_type": "execute_result"
    }
   ],
   "source": [
    "#замена типа данных в столбцах \"days_employed\" и \"total_income\"\n",
    "df = df.astype({'days_employed': int, 'total_income': int}) \n",
    "df.head()"
   ]
  },
  {
   "cell_type": "markdown",
   "metadata": {},
   "source": [
    "<div class=\"alert alert-success\">\n",
    "<b>Комментарий ревьюера:</b>\n",
    "\n",
    "Кстати можно выбрать сразу нужные столбцы и поменять в них тип данных.\n",
    "    \n",
    "Оставил пример ниже.\n",
    "    \n",
    "</div>"
   ]
  },
  {
   "cell_type": "code",
   "execution_count": null,
   "metadata": {},
   "outputs": [],
   "source": [
    "df[[\"days_employed\", \"total_income\"]] = df[[\"days_employed\", \"total_income\"]].astype('int')"
   ]
  },
  {
   "cell_type": "markdown",
   "metadata": {},
   "source": [
    "**Вывод** Тип float не всегда корректно отображает целочисленные значения. Если нет явной нужды в float, то лучше переводить в int. Это позволяет избежать неявных ошибок. Был выбран метод .astype(), он используется, когда мы хотим заменить один тип данных столбца с другим типом данных. Мы также можем использовать этот метод для одновременного изменения нескольких типов столбцов как в нашем примере."
   ]
  },
  {
   "cell_type": "markdown",
   "metadata": {},
   "source": []
  },
  {
   "cell_type": "markdown",
   "metadata": {},
   "source": [
    "### Обработка дубликатов\n",
    "<a id=\"duplicates\"></a>"
   ]
  },
  {
   "cell_type": "code",
   "execution_count": 5,
   "metadata": {},
   "outputs": [
    {
     "data": {
      "text/html": [
       "<div>\n",
       "<style scoped>\n",
       "    .dataframe tbody tr th:only-of-type {\n",
       "        vertical-align: middle;\n",
       "    }\n",
       "\n",
       "    .dataframe tbody tr th {\n",
       "        vertical-align: top;\n",
       "    }\n",
       "\n",
       "    .dataframe thead th {\n",
       "        text-align: right;\n",
       "    }\n",
       "</style>\n",
       "<table border=\"1\" class=\"dataframe\">\n",
       "  <thead>\n",
       "    <tr style=\"text-align: right;\">\n",
       "      <th></th>\n",
       "      <th>children</th>\n",
       "      <th>days_employed</th>\n",
       "      <th>dob_years</th>\n",
       "      <th>education</th>\n",
       "      <th>education_id</th>\n",
       "      <th>family_status</th>\n",
       "      <th>family_status_id</th>\n",
       "      <th>gender</th>\n",
       "      <th>income_type</th>\n",
       "      <th>debt</th>\n",
       "      <th>total_income</th>\n",
       "      <th>purpose</th>\n",
       "    </tr>\n",
       "  </thead>\n",
       "  <tbody>\n",
       "  </tbody>\n",
       "</table>\n",
       "</div>"
      ],
      "text/plain": [
       "Empty DataFrame\n",
       "Columns: [children, days_employed, dob_years, education, education_id, family_status, family_status_id, gender, income_type, debt, total_income, purpose]\n",
       "Index: []"
      ]
     },
     "execution_count": 5,
     "metadata": {},
     "output_type": "execute_result"
    }
   ],
   "source": [
    "#приводим к одному регистру столбци 'education', 'family_status', 'gender', 'income_type', 'purpose'\n",
    "df['education'] = df['education'].str.lower()\n",
    "df['family_status'] = df['family_status'].str.lower()\n",
    "df['gender'] = df['gender'].str.lower()\n",
    "df['income_type'] = df['income_type'].str.lower()\n",
    "df['purpose'] = df['purpose'].str.lower()\n",
    "#проверяем уникальные значения в солбцах\n",
    "df['children'].unique()\n",
    "df['gender'].unique()\n",
    "df['education'].unique()\n",
    "df['family_status'].unique()\n",
    "df['income_type'].unique()\n",
    "#заменяем кол-во детей т.к. скорее всего 20 и -1 опечатки\n",
    "df['children'] = df['children'].replace(20 , 2).replace(-1 , 1)\n",
    "#удаляем 'xna' как неправельное значение в столбце 'gender'\n",
    "df = df[df.gender != 'xna']\n",
    "#удаляем дубликаты\n",
    "df = df.drop_duplicates().reset_index(drop=True)\n",
    "#проверяем наличие дубликатов\n",
    "df[df.duplicated()]"
   ]
  },
  {
   "cell_type": "markdown",
   "metadata": {},
   "source": [
    "Сперва мы привели к одному регистру столбцы, где есть вероятность что значения будут отличаться только регистром. Затем проверили уникальные значения в этих столбцах. Заменили кол-во детей, где скорее всего произошла опечатка (20 на 2 и -1 на 1) и удалили значение 'xna' из столбца 'gender'. В итоге с помощью метода .drop_duplicates() мы удалили абсолютные дубликаты. Возможные причины возникновения дубликатов — повторные представления, неправильное соединение данных из разных источников, ошибки пользователя при занесении информации."
   ]
  },
  {
   "cell_type": "markdown",
   "metadata": {},
   "source": [
    "<div class=\"alert alert-success\">\n",
    "<b>Комментарий ревьюера:</b>\n",
    "\n",
    "Хорошо, что произвели текст в нижний регистр, как раз таким образом мы смогли устранить неявные дубликаты.\n",
    "    \n",
    "Сами дубликаты  нам ни к чему и очень здорово, что мы их удалили 😊\n",
    "    \n",
    "</div>"
   ]
  },
  {
   "cell_type": "markdown",
   "metadata": {},
   "source": []
  },
  {
   "cell_type": "markdown",
   "metadata": {},
   "source": [
    "### Лемматизация\n",
    "<a id=\"lemmas\"></a>"
   ]
  },
  {
   "cell_type": "code",
   "execution_count": 6,
   "metadata": {
    "scrolled": true
   },
   "outputs": [
    {
     "data": {
      "text/plain": [
       "[(' ', 33569),\n",
       " ('недвижимость', 6350),\n",
       " ('покупка', 5896),\n",
       " ('жилье', 4460),\n",
       " ('автомобиль', 4306),\n",
       " ('образование', 4013),\n",
       " ('с', 2918),\n",
       " ('операция', 2604),\n",
       " ('свадьба', 2324),\n",
       " ('свой', 2230),\n",
       " ('на', 2222),\n",
       " ('строительство', 1878),\n",
       " ('высокий', 1374),\n",
       " ('получение', 1314),\n",
       " ('коммерческий', 1311),\n",
       " ('для', 1289),\n",
       " ('жилой', 1230),\n",
       " ('сделка', 941),\n",
       " ('дополнительный', 906),\n",
       " ('заниматься', 904),\n",
       " ('проведение', 768),\n",
       " ('сыграть', 765),\n",
       " ('сдача', 651),\n",
       " ('семья', 638),\n",
       " ('собственный', 635),\n",
       " ('со', 627),\n",
       " ('ремонт', 607),\n",
       " ('подержанный', 486),\n",
       " ('подержать', 478),\n",
       " ('приобретение', 461),\n",
       " ('профильный', 436)]"
      ]
     },
     "execution_count": 6,
     "metadata": {},
     "output_type": "execute_result"
    }
   ],
   "source": [
    "#получим лемматизатора для слов на русском\n",
    "from pymystem3 import Mystem\n",
    "m = Mystem()\n",
    "#лемматизация строк с русским текстом в столбце 'purpose' и создание столбца с леммами\n",
    "df['lemmas'] = df['purpose'].apply(m.lemmatize)\n",
    "#подсчетаем значения в саписке лемм\n",
    "from collections import Counter\n",
    "df['lemmas'].apply(lambda x: x.remove('\\n'))\n",
    "lemmas_sum = Counter(df['lemmas'].sum())\n",
    "#выводим этот список в порядке убывания\n",
    "lemmas_sum.most_common()"
   ]
  },
  {
   "cell_type": "markdown",
   "metadata": {},
   "source": [
    "**Вывод** Сначала получили лемматизатор для слов на русском языке. Лемматизировали строки с русским текстом в столбце 'purpose' и создали столбец с леммами. Подсчетали значения в саписке лемм и вывели этот список в порядке убывания."
   ]
  },
  {
   "cell_type": "markdown",
   "metadata": {},
   "source": [
    "### Категоризация данных\n",
    "<a id=\"categorizing\"></a>"
   ]
  },
  {
   "cell_type": "code",
   "execution_count": 8,
   "metadata": {},
   "outputs": [],
   "source": [
    "#создадим \"словари\"\n",
    "education_dict = df[['education_id','education']]\n",
    "education_dict = education_dict.drop_duplicates().reset_index(drop=True)\n",
    "\n",
    "family_dict = df[['family_status_id','family_status']]\n",
    "family_dict = family_dict.drop_duplicates().reset_index(drop=True)"
   ]
  },
  {
   "cell_type": "code",
   "execution_count": 9,
   "metadata": {},
   "outputs": [],
   "source": [
    "#объеденим данные в категории и создаём категории цели кредита\n",
    "def some_func(lemmas):\n",
    "    #леммы 'жилье' и 'недвижимость' объединим в одно значение 'недвижимость'\n",
    "    if ('жилье' in lemmas) or ('недвижимость' in lemmas):\n",
    "            return 'недвижимость'\n",
    "    if ('автомобиль' in lemmas):\n",
    "            return 'автомобиль'\n",
    "    if ('образование' in lemmas):\n",
    "            return 'образование'\n",
    "    if ('свадьба' in lemmas):\n",
    "            return 'свадьба'\n",
    "#создадим столбец для категорий цели кредита       \n",
    "df['purpose_category'] = df['lemmas'].apply(some_func)"
   ]
  },
  {
   "cell_type": "markdown",
   "metadata": {},
   "source": [
    "<div class=\"alert alert-success\">\n",
    "<b>Комментарий ревьюера:</b>\n",
    "\n",
    "Категории кредитов опредилили верно 👍\n",
    "    \n",
    "</div>"
   ]
  },
  {
   "cell_type": "code",
   "execution_count": 10,
   "metadata": {},
   "outputs": [],
   "source": [
    "#создаём категории уровня дохода\n",
    "quantile_frame = df.quantile(q=[0.25, 0.5, 0.75])\n",
    "\n",
    "def inc_func(total_income):\n",
    "    if (total_income <= quantile_frame.loc[0.25]['total_income']):\n",
    "        return 'низкий'\n",
    "    if (total_income > quantile_frame.loc[0.25]['total_income']) and (total_income <= quantile_frame.loc[0.5]['total_income']):\n",
    "        return 'средний'\n",
    "    if (total_income > quantile_frame.loc[0.5]['total_income']) and (total_income <= quantile_frame.loc[0.75]['total_income']):\n",
    "        return 'высокий'\n",
    "    if (total_income > quantile_frame.loc[0.75]['total_income']):\n",
    "        return 'сверхвысокий'\n",
    "#создадим столбец для категорий уровня дохода\n",
    "df['income_category'] = df['total_income'].apply(inc_func)"
   ]
  },
  {
   "cell_type": "markdown",
   "metadata": {},
   "source": [
    "<div class=\"alert alert-success\">\n",
    "<b>Комментарий ревьюера:</b>\n",
    "\n",
    "Отличный способ категоризовать данные по уровню доходов 👍\n",
    "    \n",
    "</div>"
   ]
  },
  {
   "cell_type": "code",
   "execution_count": 11,
   "metadata": {},
   "outputs": [
    {
     "name": "stdout",
     "output_type": "stream",
     "text": [
      "   children  days_employed  dob_years education  education_id  \\\n",
      "0         1           8437         42    высшее             0   \n",
      "1         1           4024         36   среднее             1   \n",
      "2         0           5623         33   среднее             1   \n",
      "3         3           4124         32   среднее             1   \n",
      "4         0         340266         53   среднее             1   \n",
      "\n",
      "      family_status  family_status_id gender income_type  debt  total_income  \\\n",
      "0   женат / замужем                 0      f   сотрудник     0        253875   \n",
      "1   женат / замужем                 0      f   сотрудник     0        112080   \n",
      "2   женат / замужем                 0      m   сотрудник     0        145885   \n",
      "3   женат / замужем                 0      m   сотрудник     0        267628   \n",
      "4  гражданский брак                 1      f   пенсионер     0        158616   \n",
      "\n",
      "                      purpose                            lemmas  \\\n",
      "0               покупка жилья               [покупка,  , жилье]   \n",
      "1     приобретение автомобиля     [приобретение,  , автомобиль]   \n",
      "2               покупка жилья               [покупка,  , жилье]   \n",
      "3  дополнительное образование  [дополнительный,  , образование]   \n",
      "4             сыграть свадьбу             [сыграть,  , свадьба]   \n",
      "\n",
      "  purpose_category income_category  kid_category  \n",
      "0     недвижимость    сверхвысокий             1  \n",
      "1       автомобиль         средний             1  \n",
      "2     недвижимость         высокий             0  \n",
      "3      образование    сверхвысокий             1  \n",
      "4          свадьба         высокий             0  \n"
     ]
    }
   ],
   "source": [
    "#создаём категории наличия детей\n",
    "def kid_func(children):\n",
    "    if (children <= 0):\n",
    "        return 0\n",
    "    if (children > 0):\n",
    "        return 1\n",
    "#создадим столбец для категорий наличия детей\n",
    "df['kid_category'] = df['children'].apply(kid_func)\n",
    "print(df.head())"
   ]
  },
  {
   "cell_type": "markdown",
   "metadata": {},
   "source": [
    "**Вывод** Были выделены два словаря: education_dict и family_dict т. к. к каждому уровню образования ‘education’ и семейного положения ‘family_status’ есть соответствующий ‘id’. \n",
    "Также, были созданы категории **цели кредита**, **уровня дохода** и **наличия детей** с помощью которых мы ответим на вопросы о зависимости в Шаге 3."
   ]
  },
  {
   "cell_type": "markdown",
   "metadata": {},
   "source": []
  },
  {
   "cell_type": "markdown",
   "metadata": {},
   "source": [
    "## Шаг 3. Ответы на вопросы\n",
    "<a id=\"answers\"></a>"
   ]
  },
  {
   "cell_type": "markdown",
   "metadata": {},
   "source": [
    "- Зависимость между **наличием детей** и возвратом кредита в срок"
   ]
  },
  {
   "cell_type": "code",
   "execution_count": 15,
   "metadata": {},
   "outputs": [
    {
     "name": "stdout",
     "output_type": "stream",
     "text": [
      "debt              0     1     share\n",
      "kid_category                       \n",
      "0             13027  1063  0.075444\n",
      "1              6685   678  0.092082\n"
     ]
    }
   ],
   "source": [
    "#создадим сводную таблицу \n",
    "pvt_child = df.pivot_table(index = 'kid_category', columns = 'debt', values = 'income_type', aggfunc = 'count')\n",
    "#подщитаем долю должников к общиму количеству заёмщиков\n",
    "pvt_child['share'] = pvt_child[1]/(pvt_child[0] + pvt_child[1])\n",
    "#выводим сводную тадлицу на экран\n",
    "print(pvt_child)"
   ]
  },
  {
   "cell_type": "markdown",
   "metadata": {},
   "source": [
    "**Вывод** По результату исследования видим, что заёмщики, у которых **нет детей**, имеют на 1,7% **меньшую вероятность** не выплатить кредит в срок. "
   ]
  },
  {
   "cell_type": "markdown",
   "metadata": {},
   "source": []
  },
  {
   "cell_type": "markdown",
   "metadata": {},
   "source": [
    "- Зависимость между **семейным положением** и возвратом кредита в срок"
   ]
  },
  {
   "cell_type": "code",
   "execution_count": 14,
   "metadata": {},
   "outputs": [
    {
     "name": "stdout",
     "output_type": "stream",
     "text": [
      "debt                       0    1     share\n",
      "family_status                              \n",
      "в разводе               1110   85  0.071130\n",
      "вдовец / вдова           896   63  0.065693\n",
      "гражданский брак        3762  388  0.093494\n",
      "женат / замужем        11408  931  0.075452\n",
      "не женат / не замужем   2536  274  0.097509\n"
     ]
    }
   ],
   "source": [
    "#создадим сводную таблицу\n",
    "pvt_family = df.pivot_table(index = 'family_status', columns = 'debt', values = 'income_type', aggfunc = 'count')\n",
    "#подщитаем долю должников к общиму количеству заёмщиков\n",
    "pvt_family['share'] = pvt_family[1]/(pvt_family[0] + pvt_family[1])\n",
    "#выводим сводную тадлицу на экран\n",
    "print(pvt_family)"
   ]
  },
  {
   "cell_type": "markdown",
   "metadata": {},
   "source": [
    "<div class=\"alert alert-success\">\n",
    "<b>Комментарий ревьюера:</b>\n",
    "\n",
    "В целом логика расчета верная 👍\n",
    "    \n",
    "</div>"
   ]
  },
  {
   "cell_type": "markdown",
   "metadata": {},
   "source": [
    "<div class=\"alert alert-danger\">\n",
    "<b>Комментарий ревьюера:</b>\n",
    "\n",
    "    \n",
    "Это все мможно посчитать с помощью сводных таблиц `pivot_table`, хочу напомнить, что сводные таблицы это те же датафремы. То есть в них можно добавлять столбцы и делать нужные нам расчеты.\n",
    "    \n",
    "Давай поправим пожалуйста этот момент.\n",
    "    \n",
    "</div>"
   ]
  },
  {
   "cell_type": "markdown",
   "metadata": {},
   "source": [
    "**Вывод** Анализ показал, что 9,8% заёмщиков в категории \"не женат / не замужем\" не выплатили кредит в срок. А из тех кто в категории \"вдовец / вдова\", всего 6,6% просрочтили кредит. Но данные не совершенствованы, т. к. на пример один и тот же заёмщик может однрвременно состоять в более чем одной категории семейного положения."
   ]
  },
  {
   "cell_type": "markdown",
   "metadata": {},
   "source": []
  },
  {
   "cell_type": "markdown",
   "metadata": {},
   "source": [
    "- Зависимость между **уровнем дохода** и возвратом кредита в срок"
   ]
  },
  {
   "cell_type": "code",
   "execution_count": 16,
   "metadata": {},
   "outputs": [
    {
     "name": "stdout",
     "output_type": "stream",
     "text": [
      "debt                0    1     share\n",
      "income_category                     \n",
      "высокий          4799  448  0.085382\n",
      "низкий           4937  427  0.079605\n",
      "сверхвысокий     4980  383  0.071415\n",
      "средний          4996  483  0.088155\n"
     ]
    }
   ],
   "source": [
    "#создадим сводную таблицу\n",
    "pvt_income = df.pivot_table(index = 'income_category', columns = 'debt', values = 'income_type', aggfunc = 'count')\n",
    "#подщитаем долю должников к общиму количеству заёмщиков\n",
    "pvt_income['share'] = pvt_income[1]/(pvt_income[0] + pvt_income[1])\n",
    "#выводим сводную тадлицу на экран\n",
    "print(pvt_income)"
   ]
  },
  {
   "cell_type": "markdown",
   "metadata": {},
   "source": [
    "**Вывод** Возвратом кредита в срок зависит меньше всего от **уровня дохода**. Но мы можем отметить, что лишь 7,1% заёмщиков в категории дохода \"сверхвысокий\" т. е. с ежемесячным доходом более **195818**, не вернули кредит в срок. У заёмщиков в трёх остольных категориях дохода приблизительно одинаковый процент невозврата кредита в срок."
   ]
  },
  {
   "cell_type": "markdown",
   "metadata": {},
   "source": []
  },
  {
   "cell_type": "markdown",
   "metadata": {},
   "source": [
    "- Влияние **цели кредита** на его возврат в срок"
   ]
  },
  {
   "cell_type": "code",
   "execution_count": 17,
   "metadata": {
    "scrolled": true
   },
   "outputs": [
    {
     "name": "stdout",
     "output_type": "stream",
     "text": [
      "debt                  0    1     share\n",
      "purpose_category                      \n",
      "автомобиль         3903  403  0.093590\n",
      "недвижимость      10028  782  0.072340\n",
      "образование        3643  370  0.092200\n",
      "свадьба            2138  186  0.080034\n"
     ]
    }
   ],
   "source": [
    "#создадим сводную таблицу\n",
    "pvt_purpose = df.pivot_table(index = 'purpose_category', columns = 'debt', values = 'income_type', aggfunc = 'count')\n",
    "#подщитаем долю должников к общиму количеству заёмщиков\n",
    "pvt_purpose['share'] = pvt_purpose[1]/(pvt_purpose[0] + pvt_purpose[1])\n",
    "#выводим сводную тадлицу на экран\n",
    "print(pvt_purpose)"
   ]
  },
  {
   "cell_type": "markdown",
   "metadata": {},
   "source": [
    "**Вывод** Самый высокий процент невозврата кредита в срок был замечан у заёмщиков с **целью кредита** \"автомобиль\" и \"образование\", 9,4% и 9,2% соответсвенно. С другой стороны, всего лишь 7,2% заёмщиков с целью кредита \"недвижимость\" не вернули кредит в срок."
   ]
  },
  {
   "cell_type": "markdown",
   "metadata": {},
   "source": []
  },
  {
   "cell_type": "markdown",
   "metadata": {},
   "source": [
    "## Шаг 4. Общий вывод\n",
    "<a id=\"conclusion\"></a>"
   ]
  },
  {
   "cell_type": "markdown",
   "metadata": {},
   "source": [
    "Для того чтобы разобраться, влияет ли семейное положение и количество детей клиента на факт погашения кредита в срок, было сначала необходимо привести данные к подходящему виду. После провеждения анализа, мы смогли определить какие категории заёмщиков более склонны просрочиванию выплаты кредита. Банку стоит отметить, что теоритически заёмщики могут одновременно относиться более чем к одной категории семейного положения, что может привести к неправильному результату в исследовании. В общем исследование показало что, клиент **с детьми**, **вне брака**, у которого ежемесячный доход **не более 195818** и у которого цель кредита **\"автомобиль\"** имеет портрет самого **ненадёжного** заёмщика."
   ]
  },
  {
   "cell_type": "markdown",
   "metadata": {},
   "source": [
    "<div class=\"alert alert-success\">\n",
    "<b>Комментарий ревьюера:</b>\n",
    "\n",
    "Выводы понятны и логичны, а самое главное подкреплены выявленными фактами.\n",
    "    \n",
    "Достаточно детально проделанная работа и это не может не радовать 😊\n",
    "    \n",
    "Давай поправим мои комментарии и будем двигаться дальше.\n",
    "    \n",
    "Если у тебя вдруг есчть какие–либо вопросы, то я с радостью отвечу на них 😊\n",
    "       \n",
    "\n",
    "</div>"
   ]
  },
  {
   "cell_type": "markdown",
   "metadata": {},
   "source": [
    "## Чек-лист готовности проекта\n",
    "<a id=\"check\"></a>\n",
    "\n",
    "\n",
    "Поставьте 'x' в выполненных пунктах. Далее нажмите Shift+Enter."
   ]
  },
  {
   "cell_type": "markdown",
   "metadata": {},
   "source": [
    "- [x]  открыт файл;\n",
    "- [x]  файл изучен;\n",
    "- [x]  определены пропущенные значения;\n",
    "- [x]  заполнены пропущенные значения;\n",
    "- [x]  есть пояснение, какие пропущенные значения обнаружены;\n",
    "- [x]  описаны возможные причины появления пропусков в данных;\n",
    "- [x]  объяснено, по какому принципу заполнены пропуски;\n",
    "- [x]  заменен вещественный тип данных на целочисленный;\n",
    "- [x]  есть пояснение, какой метод используется для изменения типа данных и почему;\n",
    "- [x]  удалены дубликаты;\n",
    "- [x]  есть пояснение, какой метод используется для поиска и удаления дубликатов;\n",
    "- [x]  описаны возможные причины появления дубликатов в данных;\n",
    "- [x]  выделены леммы в значениях столбца с целями получения кредита;\n",
    "- [x]  описан процесс лемматизации;\n",
    "- [x]  данные категоризированы;\n",
    "- [X]  есть объяснение принципа категоризации данных;\n",
    "- [x]  есть ответ на вопрос: \"Есть ли зависимость между наличием детей и возвратом кредита в срок?\";\n",
    "- [x]  есть ответ на вопрос: \"Есть ли зависимость между семейным положением и возвратом кредита в срок?\";\n",
    "- [x]  есть ответ на вопрос: \"Есть ли зависимость между уровнем дохода и возвратом кредита в срок?\";\n",
    "- [x]  есть ответ на вопрос: \"Как разные цели кредита влияют на его возврат в срок?\";\n",
    "- [x]  в каждом этапе есть выводы;\n",
    "- [x]  есть общий вывод."
   ]
  },
  {
   "cell_type": "code",
   "execution_count": null,
   "metadata": {},
   "outputs": [],
   "source": []
  }
 ],
 "metadata": {
  "ExecuteTimeLog": [
   {
    "duration": 870,
    "start_time": "2021-06-08T14:00:57.739Z"
   },
   {
    "duration": 49,
    "start_time": "2021-06-08T14:01:22.719Z"
   },
   {
    "duration": 23,
    "start_time": "2021-06-08T14:19:11.575Z"
   },
   {
    "duration": 37,
    "start_time": "2021-06-08T14:19:27.189Z"
   },
   {
    "duration": 44,
    "start_time": "2021-06-08T14:19:48.969Z"
   },
   {
    "duration": 34,
    "start_time": "2021-06-08T14:19:53.479Z"
   },
   {
    "duration": 27,
    "start_time": "2021-06-08T14:19:58.278Z"
   },
   {
    "duration": 26,
    "start_time": "2021-06-08T14:20:41.570Z"
   },
   {
    "duration": 25,
    "start_time": "2021-06-08T14:20:58.750Z"
   },
   {
    "duration": 66,
    "start_time": "2021-06-08T14:21:18.818Z"
   },
   {
    "duration": 715,
    "start_time": "2021-06-08T14:53:03.392Z"
   },
   {
    "duration": 51,
    "start_time": "2021-06-08T14:53:11.159Z"
   },
   {
    "duration": 63,
    "start_time": "2021-06-08T15:03:25.040Z"
   },
   {
    "duration": 177,
    "start_time": "2021-06-08T15:05:31.215Z"
   },
   {
    "duration": 186,
    "start_time": "2021-06-08T15:05:44.266Z"
   },
   {
    "duration": 203,
    "start_time": "2021-06-08T15:05:57.214Z"
   },
   {
    "duration": 170,
    "start_time": "2021-06-08T15:07:04.922Z"
   },
   {
    "duration": 64,
    "start_time": "2021-06-08T15:20:01.034Z"
   },
   {
    "duration": 61,
    "start_time": "2021-06-08T15:20:36.211Z"
   },
   {
    "duration": 59,
    "start_time": "2021-06-08T15:21:10.613Z"
   },
   {
    "duration": 87,
    "start_time": "2021-06-08T15:21:52.503Z"
   },
   {
    "duration": 57,
    "start_time": "2021-06-08T15:21:58.555Z"
   },
   {
    "duration": 167,
    "start_time": "2021-06-08T15:24:07.658Z"
   },
   {
    "duration": 88,
    "start_time": "2021-06-08T15:31:17.556Z"
   },
   {
    "duration": 2649,
    "start_time": "2021-06-08T15:32:44.168Z"
   },
   {
    "duration": 126,
    "start_time": "2021-06-08T15:34:05.125Z"
   },
   {
    "duration": 3365,
    "start_time": "2021-06-08T15:34:10.429Z"
   },
   {
    "duration": 4938,
    "start_time": "2021-06-08T15:35:18.696Z"
   },
   {
    "duration": 2534,
    "start_time": "2021-06-08T15:36:18.669Z"
   },
   {
    "duration": 72,
    "start_time": "2021-06-08T15:36:32.934Z"
   },
   {
    "duration": 64,
    "start_time": "2021-06-08T15:37:12.631Z"
   },
   {
    "duration": 65,
    "start_time": "2021-06-08T15:37:58.091Z"
   },
   {
    "duration": 817,
    "start_time": "2021-06-08T15:38:14.635Z"
   },
   {
    "duration": 70,
    "start_time": "2021-06-08T15:38:53.149Z"
   },
   {
    "duration": 81,
    "start_time": "2021-06-08T15:39:09.362Z"
   },
   {
    "duration": 63,
    "start_time": "2021-06-08T15:40:17.585Z"
   },
   {
    "duration": 436,
    "start_time": "2021-06-08T15:40:22.571Z"
   },
   {
    "duration": 135,
    "start_time": "2021-06-08T15:41:45.970Z"
   },
   {
    "duration": 173,
    "start_time": "2021-06-08T15:42:22.599Z"
   },
   {
    "duration": 467,
    "start_time": "2021-06-08T15:42:26.613Z"
   },
   {
    "duration": 65,
    "start_time": "2021-06-08T15:42:36.809Z"
   },
   {
    "duration": 62,
    "start_time": "2021-06-08T15:43:04.034Z"
   },
   {
    "duration": 2510,
    "start_time": "2021-06-08T15:46:05.992Z"
   },
   {
    "duration": 71,
    "start_time": "2021-06-08T15:46:17.548Z"
   },
   {
    "duration": 65,
    "start_time": "2021-06-08T15:46:45.126Z"
   },
   {
    "duration": 9864,
    "start_time": "2021-06-08T15:47:53.510Z"
   },
   {
    "duration": 415,
    "start_time": "2021-06-08T15:48:15.976Z"
   },
   {
    "duration": 142,
    "start_time": "2021-06-08T15:48:37.931Z"
   },
   {
    "duration": 448,
    "start_time": "2021-06-08T15:48:41.495Z"
   },
   {
    "duration": 510,
    "start_time": "2021-06-08T15:48:49.122Z"
   },
   {
    "duration": 497,
    "start_time": "2021-06-08T15:49:10.572Z"
   },
   {
    "duration": 133,
    "start_time": "2021-06-08T15:49:59.897Z"
   },
   {
    "duration": 464,
    "start_time": "2021-06-08T15:50:13.962Z"
   },
   {
    "duration": 96,
    "start_time": "2021-06-08T16:09:14.697Z"
   },
   {
    "duration": 67,
    "start_time": "2021-06-08T16:34:04.898Z"
   },
   {
    "duration": 69,
    "start_time": "2021-06-08T16:34:28.218Z"
   },
   {
    "duration": 889,
    "start_time": "2021-06-09T12:39:22.590Z"
   },
   {
    "duration": 946,
    "start_time": "2021-06-10T08:00:40.339Z"
   },
   {
    "duration": 182,
    "start_time": "2021-06-10T08:00:48.932Z"
   },
   {
    "duration": 74,
    "start_time": "2021-06-10T08:09:51.488Z"
   },
   {
    "duration": 57,
    "start_time": "2021-06-10T08:10:02.914Z"
   },
   {
    "duration": 101,
    "start_time": "2021-06-10T08:10:08.659Z"
   },
   {
    "duration": 61,
    "start_time": "2021-06-10T08:10:29.070Z"
   },
   {
    "duration": 102,
    "start_time": "2021-06-10T08:12:37.270Z"
   },
   {
    "duration": 95,
    "start_time": "2021-06-10T08:12:58.470Z"
   },
   {
    "duration": 121,
    "start_time": "2021-06-10T08:26:52.211Z"
   },
   {
    "duration": 150,
    "start_time": "2021-06-10T08:29:36.262Z"
   },
   {
    "duration": 264,
    "start_time": "2021-06-10T09:03:40.308Z"
   },
   {
    "duration": 270,
    "start_time": "2021-06-10T09:03:57.327Z"
   },
   {
    "duration": 292,
    "start_time": "2021-06-10T09:04:18.719Z"
   },
   {
    "duration": 278,
    "start_time": "2021-06-10T09:04:24.545Z"
   },
   {
    "duration": 24,
    "start_time": "2021-06-10T09:05:11.810Z"
   },
   {
    "duration": 79,
    "start_time": "2021-06-10T09:05:50.949Z"
   },
   {
    "duration": 66,
    "start_time": "2021-06-10T09:19:42.279Z"
   },
   {
    "duration": 70,
    "start_time": "2021-06-10T10:45:07.999Z"
   },
   {
    "duration": 45,
    "start_time": "2021-06-10T10:49:26.642Z"
   },
   {
    "duration": 75,
    "start_time": "2021-06-10T10:50:07.259Z"
   },
   {
    "duration": 457,
    "start_time": "2021-06-10T10:50:45.337Z"
   },
   {
    "duration": 53,
    "start_time": "2021-06-10T10:51:02.553Z"
   },
   {
    "duration": 53,
    "start_time": "2021-06-10T10:51:10.480Z"
   },
   {
    "duration": 51,
    "start_time": "2021-06-10T10:51:29.734Z"
   },
   {
    "duration": 343,
    "start_time": "2021-06-10T10:53:16.949Z"
   },
   {
    "duration": 6304,
    "start_time": "2021-06-10T10:57:11.992Z"
   },
   {
    "duration": 6379,
    "start_time": "2021-06-10T10:57:22.059Z"
   },
   {
    "duration": 52,
    "start_time": "2021-06-10T10:57:42.354Z"
   },
   {
    "duration": 304,
    "start_time": "2021-06-10T10:57:55.330Z"
   },
   {
    "duration": 304,
    "start_time": "2021-06-10T10:58:35.554Z"
   },
   {
    "duration": 310,
    "start_time": "2021-06-10T10:58:53.425Z"
   },
   {
    "duration": 345,
    "start_time": "2021-06-10T10:59:08.248Z"
   },
   {
    "duration": 59,
    "start_time": "2021-06-10T11:01:00.849Z"
   },
   {
    "duration": 307,
    "start_time": "2021-06-10T11:01:10.783Z"
   },
   {
    "duration": 318,
    "start_time": "2021-06-10T11:01:50.486Z"
   },
   {
    "duration": 57,
    "start_time": "2021-06-10T11:03:27.564Z"
   },
   {
    "duration": 84,
    "start_time": "2021-06-10T11:04:02.052Z"
   },
   {
    "duration": 63,
    "start_time": "2021-06-10T11:04:21.038Z"
   },
   {
    "duration": 55,
    "start_time": "2021-06-10T11:04:47.099Z"
   },
   {
    "duration": 80,
    "start_time": "2021-06-10T11:07:01.510Z"
   },
   {
    "duration": 15066,
    "start_time": "2021-06-10T11:11:36.165Z"
   },
   {
    "duration": 1872,
    "start_time": "2021-06-10T11:26:22.813Z"
   },
   {
    "duration": 1930,
    "start_time": "2021-06-10T11:26:53.310Z"
   },
   {
    "duration": 110,
    "start_time": "2021-06-10T11:27:00.166Z"
   },
   {
    "duration": 264,
    "start_time": "2021-06-10T11:27:11.516Z"
   },
   {
    "duration": 24,
    "start_time": "2021-06-10T11:27:23.616Z"
   },
   {
    "duration": 83,
    "start_time": "2021-06-10T11:27:30.896Z"
   },
   {
    "duration": 137,
    "start_time": "2021-06-10T11:27:38.994Z"
   },
   {
    "duration": 13833,
    "start_time": "2021-06-10T11:27:46.242Z"
   },
   {
    "duration": 2444,
    "start_time": "2021-06-10T11:38:36.581Z"
   },
   {
    "duration": 99,
    "start_time": "2021-06-10T11:38:55.250Z"
   },
   {
    "duration": 275,
    "start_time": "2021-06-10T11:39:00.887Z"
   },
   {
    "duration": 24,
    "start_time": "2021-06-10T11:39:04.118Z"
   },
   {
    "duration": 118,
    "start_time": "2021-06-10T11:39:11.477Z"
   },
   {
    "duration": 131,
    "start_time": "2021-06-10T11:41:37.065Z"
   },
   {
    "duration": 144,
    "start_time": "2021-06-10T11:41:59.309Z"
   },
   {
    "duration": 120,
    "start_time": "2021-06-10T11:42:13.764Z"
   },
   {
    "duration": 120,
    "start_time": "2021-06-10T11:42:39.214Z"
   },
   {
    "duration": 121,
    "start_time": "2021-06-10T11:45:12.390Z"
   },
   {
    "duration": 187,
    "start_time": "2021-06-10T13:10:16.528Z"
   },
   {
    "duration": 319,
    "start_time": "2021-06-10T13:10:50.169Z"
   },
   {
    "duration": 7015,
    "start_time": "2021-06-10T13:11:56.061Z"
   },
   {
    "duration": 6379,
    "start_time": "2021-06-10T13:13:14.593Z"
   },
   {
    "duration": 74,
    "start_time": "2021-06-10T13:13:40.895Z"
   },
   {
    "duration": 66,
    "start_time": "2021-06-10T13:15:18.377Z"
   },
   {
    "duration": 187,
    "start_time": "2021-06-10T13:15:52.477Z"
   },
   {
    "duration": 112,
    "start_time": "2021-06-10T13:17:06.093Z"
   },
   {
    "duration": 139,
    "start_time": "2021-06-10T13:17:16.677Z"
   },
   {
    "duration": 149,
    "start_time": "2021-06-10T13:17:25.827Z"
   },
   {
    "duration": 104,
    "start_time": "2021-06-10T13:18:03.321Z"
   },
   {
    "duration": 240,
    "start_time": "2021-06-10T13:18:09.814Z"
   },
   {
    "duration": 23,
    "start_time": "2021-06-10T13:18:17.233Z"
   },
   {
    "duration": 140,
    "start_time": "2021-06-10T13:18:42.454Z"
   },
   {
    "duration": 72,
    "start_time": "2021-06-10T13:19:07.826Z"
   },
   {
    "duration": 106,
    "start_time": "2021-06-10T13:19:27.676Z"
   },
   {
    "duration": 152,
    "start_time": "2021-06-10T13:20:16.930Z"
   },
   {
    "duration": 158,
    "start_time": "2021-06-10T13:20:24.010Z"
   },
   {
    "duration": 165,
    "start_time": "2021-06-10T13:20:37.702Z"
   },
   {
    "duration": 160,
    "start_time": "2021-06-10T13:20:53.947Z"
   },
   {
    "duration": 157,
    "start_time": "2021-06-10T13:21:02.055Z"
   },
   {
    "duration": 13015,
    "start_time": "2021-06-10T13:29:13.986Z"
   },
   {
    "duration": 87,
    "start_time": "2021-06-10T13:32:10.499Z"
   },
   {
    "duration": 13025,
    "start_time": "2021-06-10T13:32:17.070Z"
   },
   {
    "duration": 12797,
    "start_time": "2021-06-10T13:36:06.500Z"
   },
   {
    "duration": 11988,
    "start_time": "2021-06-10T13:42:10.763Z"
   },
   {
    "duration": 87,
    "start_time": "2021-06-10T13:48:05.971Z"
   },
   {
    "duration": 4812,
    "start_time": "2021-06-10T13:48:13.371Z"
   },
   {
    "duration": 12679,
    "start_time": "2021-06-10T13:48:50.731Z"
   },
   {
    "duration": 6012,
    "start_time": "2021-06-10T13:49:20.531Z"
   },
   {
    "duration": 5963,
    "start_time": "2021-06-10T13:49:49.335Z"
   },
   {
    "duration": 5654,
    "start_time": "2021-06-10T13:50:37.632Z"
   },
   {
    "duration": 5757,
    "start_time": "2021-06-10T13:50:55.221Z"
   },
   {
    "duration": 85,
    "start_time": "2021-06-10T13:51:15.059Z"
   },
   {
    "duration": 5707,
    "start_time": "2021-06-10T13:51:21.371Z"
   },
   {
    "duration": 13032,
    "start_time": "2021-06-10T13:51:42.448Z"
   },
   {
    "duration": 13122,
    "start_time": "2021-06-10T13:55:46.791Z"
   },
   {
    "duration": 12960,
    "start_time": "2021-06-10T13:57:06.294Z"
   },
   {
    "duration": 81,
    "start_time": "2021-06-10T14:02:21.981Z"
   },
   {
    "duration": 79,
    "start_time": "2021-06-10T14:02:35.133Z"
   },
   {
    "duration": 108,
    "start_time": "2021-06-10T14:03:00.776Z"
   },
   {
    "duration": 345,
    "start_time": "2021-06-10T14:03:05.563Z"
   },
   {
    "duration": 25,
    "start_time": "2021-06-10T14:03:09.486Z"
   },
   {
    "duration": 151,
    "start_time": "2021-06-10T14:03:12.907Z"
   },
   {
    "duration": 82,
    "start_time": "2021-06-10T14:03:23.824Z"
   },
   {
    "duration": 15041,
    "start_time": "2021-06-10T14:03:37.946Z"
   },
   {
    "duration": 41,
    "start_time": "2021-06-10T14:12:56.537Z"
   },
   {
    "duration": 20,
    "start_time": "2021-06-10T14:13:03.161Z"
   },
   {
    "duration": 33,
    "start_time": "2021-06-10T14:13:17.652Z"
   },
   {
    "duration": 26,
    "start_time": "2021-06-10T14:13:40.009Z"
   },
   {
    "duration": 26,
    "start_time": "2021-06-10T14:14:41.276Z"
   },
   {
    "duration": 32,
    "start_time": "2021-06-10T14:15:12.562Z"
   },
   {
    "duration": 26,
    "start_time": "2021-06-10T14:15:23.221Z"
   },
   {
    "duration": 767,
    "start_time": "2021-06-10T14:16:26.678Z"
   },
   {
    "duration": 27,
    "start_time": "2021-06-10T14:16:40.122Z"
   },
   {
    "duration": 28,
    "start_time": "2021-06-10T14:16:52.581Z"
   },
   {
    "duration": 24,
    "start_time": "2021-06-10T14:17:27.894Z"
   },
   {
    "duration": 34,
    "start_time": "2021-06-10T14:20:48.600Z"
   },
   {
    "duration": 36,
    "start_time": "2021-06-10T14:21:33.289Z"
   },
   {
    "duration": 56,
    "start_time": "2021-06-10T14:22:35.924Z"
   },
   {
    "duration": 32,
    "start_time": "2021-06-10T14:38:40.645Z"
   },
   {
    "duration": 279,
    "start_time": "2021-06-10T14:38:46.528Z"
   },
   {
    "duration": 278,
    "start_time": "2021-06-10T14:38:59.703Z"
   },
   {
    "duration": 34,
    "start_time": "2021-06-10T14:39:12.054Z"
   },
   {
    "duration": 278,
    "start_time": "2021-06-10T14:39:21.255Z"
   },
   {
    "duration": 34,
    "start_time": "2021-06-10T14:39:51.835Z"
   },
   {
    "duration": 91,
    "start_time": "2021-06-10T16:25:11.021Z"
   },
   {
    "duration": 95,
    "start_time": "2021-06-10T16:25:14.064Z"
   },
   {
    "duration": 255,
    "start_time": "2021-06-10T16:25:21.965Z"
   },
   {
    "duration": 24,
    "start_time": "2021-06-10T16:25:25.267Z"
   },
   {
    "duration": 166,
    "start_time": "2021-06-10T16:25:33.750Z"
   },
   {
    "duration": 12348,
    "start_time": "2021-06-10T16:26:34.019Z"
   },
   {
    "duration": 22973,
    "start_time": "2021-06-10T16:37:48.227Z"
   },
   {
    "duration": 22190,
    "start_time": "2021-06-10T16:38:53.153Z"
   },
   {
    "duration": 23197,
    "start_time": "2021-06-10T16:47:42.539Z"
   },
   {
    "duration": 22901,
    "start_time": "2021-06-10T16:53:48.778Z"
   },
   {
    "duration": 24001,
    "start_time": "2021-06-10T17:04:51.559Z"
   },
   {
    "duration": 8,
    "start_time": "2021-06-10T17:09:05.085Z"
   },
   {
    "duration": 26350,
    "start_time": "2021-06-10T17:19:18.425Z"
   },
   {
    "duration": 26935,
    "start_time": "2021-06-10T17:22:04.336Z"
   },
   {
    "duration": 26950,
    "start_time": "2021-06-10T17:26:27.884Z"
   },
   {
    "duration": 25819,
    "start_time": "2021-06-10T17:27:24.363Z"
   },
   {
    "duration": 26818,
    "start_time": "2021-06-10T17:33:06.500Z"
   },
   {
    "duration": 27530,
    "start_time": "2021-06-10T17:34:35.540Z"
   },
   {
    "duration": 28330,
    "start_time": "2021-06-10T17:36:11.220Z"
   },
   {
    "duration": 27873,
    "start_time": "2021-06-10T17:39:38.658Z"
   },
   {
    "duration": 27640,
    "start_time": "2021-06-10T17:40:29.792Z"
   },
   {
    "duration": 1018,
    "start_time": "2021-06-11T08:03:31.300Z"
   },
   {
    "duration": 258,
    "start_time": "2021-06-11T08:03:38.903Z"
   },
   {
    "duration": 23,
    "start_time": "2021-06-11T08:03:47.260Z"
   },
   {
    "duration": 157,
    "start_time": "2021-06-11T08:04:05.139Z"
   },
   {
    "duration": 12099,
    "start_time": "2021-06-11T08:04:20.277Z"
   },
   {
    "duration": 9086,
    "start_time": "2021-06-11T08:19:08.055Z"
   },
   {
    "duration": 8872,
    "start_time": "2021-06-11T08:19:40.038Z"
   },
   {
    "duration": 31,
    "start_time": "2021-06-11T08:20:31.462Z"
   },
   {
    "duration": 61,
    "start_time": "2021-06-11T08:20:57.779Z"
   },
   {
    "duration": 6,
    "start_time": "2021-06-11T08:22:52.160Z"
   },
   {
    "duration": 57,
    "start_time": "2021-06-11T08:22:57.366Z"
   },
   {
    "duration": 52,
    "start_time": "2021-06-11T08:25:27.738Z"
   },
   {
    "duration": 612,
    "start_time": "2021-06-11T08:32:53.404Z"
   },
   {
    "duration": 102,
    "start_time": "2021-06-11T08:34:03.203Z"
   },
   {
    "duration": 295,
    "start_time": "2021-06-11T08:34:08.432Z"
   },
   {
    "duration": 24,
    "start_time": "2021-06-11T08:34:13.765Z"
   },
   {
    "duration": 182,
    "start_time": "2021-06-11T08:34:19.673Z"
   },
   {
    "duration": 13457,
    "start_time": "2021-06-11T08:34:34.605Z"
   },
   {
    "duration": 527,
    "start_time": "2021-06-11T08:35:00.331Z"
   },
   {
    "duration": 24849,
    "start_time": "2021-06-11T08:36:14.908Z"
   },
   {
    "duration": 5796,
    "start_time": "2021-06-11T08:45:08.302Z"
   },
   {
    "duration": 6273,
    "start_time": "2021-06-11T08:45:53.915Z"
   },
   {
    "duration": 16371,
    "start_time": "2021-06-11T08:48:35.033Z"
   },
   {
    "duration": 6272,
    "start_time": "2021-06-11T08:49:35.755Z"
   },
   {
    "duration": 6219,
    "start_time": "2021-06-11T08:49:52.641Z"
   },
   {
    "duration": 2642,
    "start_time": "2021-06-11T08:50:08.856Z"
   },
   {
    "duration": 5779,
    "start_time": "2021-06-11T08:50:42.625Z"
   },
   {
    "duration": 102,
    "start_time": "2021-06-11T10:22:11.110Z"
   },
   {
    "duration": 279,
    "start_time": "2021-06-11T10:22:28.176Z"
   },
   {
    "duration": 30,
    "start_time": "2021-06-11T10:22:36.419Z"
   },
   {
    "duration": 196,
    "start_time": "2021-06-11T10:22:49.374Z"
   },
   {
    "duration": 12352,
    "start_time": "2021-06-11T10:22:53.862Z"
   },
   {
    "duration": 17902,
    "start_time": "2021-06-11T10:25:21.434Z"
   },
   {
    "duration": 18758,
    "start_time": "2021-06-11T10:29:05.737Z"
   },
   {
    "duration": 19365,
    "start_time": "2021-06-11T10:30:28.019Z"
   },
   {
    "duration": 17915,
    "start_time": "2021-06-11T10:31:08.128Z"
   },
   {
    "duration": 19537,
    "start_time": "2021-06-11T11:25:38.403Z"
   },
   {
    "duration": 19684,
    "start_time": "2021-06-11T11:27:51.597Z"
   },
   {
    "duration": 19833,
    "start_time": "2021-06-11T11:30:16.402Z"
   },
   {
    "duration": 19897,
    "start_time": "2021-06-11T12:35:09.874Z"
   },
   {
    "duration": 19925,
    "start_time": "2021-06-11T12:36:46.883Z"
   },
   {
    "duration": 20254,
    "start_time": "2021-06-11T12:37:53.954Z"
   },
   {
    "duration": 17902,
    "start_time": "2021-06-11T13:15:37.488Z"
   },
   {
    "duration": 829,
    "start_time": "2021-06-12T10:42:00.736Z"
   },
   {
    "duration": 253,
    "start_time": "2021-06-12T10:42:08.853Z"
   },
   {
    "duration": 25,
    "start_time": "2021-06-12T10:42:23.126Z"
   },
   {
    "duration": 151,
    "start_time": "2021-06-12T10:42:43.654Z"
   },
   {
    "duration": 156,
    "start_time": "2021-06-12T10:42:52.979Z"
   },
   {
    "duration": 11314,
    "start_time": "2021-06-12T10:43:06.365Z"
   },
   {
    "duration": 17021,
    "start_time": "2021-06-12T10:43:42.755Z"
   },
   {
    "duration": 873,
    "start_time": "2021-06-13T09:02:46.538Z"
   },
   {
    "duration": 266,
    "start_time": "2021-06-13T09:03:02.707Z"
   },
   {
    "duration": 27,
    "start_time": "2021-06-13T09:03:06.400Z"
   },
   {
    "duration": 147,
    "start_time": "2021-06-13T09:03:11.090Z"
   },
   {
    "duration": 11804,
    "start_time": "2021-06-13T09:03:18.332Z"
   },
   {
    "duration": 17643,
    "start_time": "2021-06-13T09:03:30.139Z"
   },
   {
    "duration": 28,
    "start_time": "2021-06-13T09:23:33.074Z"
   },
   {
    "duration": 27,
    "start_time": "2021-06-13T09:23:57.698Z"
   },
   {
    "duration": 5676,
    "start_time": "2021-06-13T09:31:33.227Z"
   },
   {
    "duration": 4791,
    "start_time": "2021-06-13T09:32:37.650Z"
   },
   {
    "duration": 4645,
    "start_time": "2021-06-13T09:33:10.470Z"
   },
   {
    "duration": 4979,
    "start_time": "2021-06-13T09:34:58.217Z"
   },
   {
    "duration": 4745,
    "start_time": "2021-06-13T10:29:24.747Z"
   },
   {
    "duration": 23,
    "start_time": "2021-06-13T10:29:45.775Z"
   },
   {
    "duration": 27,
    "start_time": "2021-06-13T10:30:10.882Z"
   },
   {
    "duration": 26,
    "start_time": "2021-06-13T10:31:14.960Z"
   },
   {
    "duration": 27,
    "start_time": "2021-06-13T10:31:32.474Z"
   },
   {
    "duration": 84,
    "start_time": "2021-06-13T10:36:00.111Z"
   },
   {
    "duration": 7051,
    "start_time": "2021-06-13T10:36:25.706Z"
   },
   {
    "duration": 90,
    "start_time": "2021-06-13T10:37:14.491Z"
   },
   {
    "duration": 6362,
    "start_time": "2021-06-13T10:37:25.182Z"
   },
   {
    "duration": 6582,
    "start_time": "2021-06-13T10:38:07.685Z"
   },
   {
    "duration": 26,
    "start_time": "2021-06-13T10:39:04.171Z"
   },
   {
    "duration": 29,
    "start_time": "2021-06-13T10:39:15.081Z"
   },
   {
    "duration": 33,
    "start_time": "2021-06-13T10:41:02.840Z"
   },
   {
    "duration": 286,
    "start_time": "2021-06-13T10:42:37.519Z"
   },
   {
    "duration": 256,
    "start_time": "2021-06-13T10:43:16.147Z"
   },
   {
    "duration": 30,
    "start_time": "2021-06-13T10:43:29.069Z"
   },
   {
    "duration": 32,
    "start_time": "2021-06-13T10:43:43.378Z"
   },
   {
    "duration": 356,
    "start_time": "2021-06-13T10:44:41.015Z"
   },
   {
    "duration": 33,
    "start_time": "2021-06-13T10:46:17.522Z"
   },
   {
    "duration": 29,
    "start_time": "2021-06-13T10:47:35.400Z"
   },
   {
    "duration": 28,
    "start_time": "2021-06-13T10:54:54.297Z"
   },
   {
    "duration": 27,
    "start_time": "2021-06-13T10:56:10.272Z"
   },
   {
    "duration": 27,
    "start_time": "2021-06-13T10:57:20.570Z"
   },
   {
    "duration": 30,
    "start_time": "2021-06-13T10:57:54.539Z"
   },
   {
    "duration": 29,
    "start_time": "2021-06-13T10:58:15.515Z"
   },
   {
    "duration": 32,
    "start_time": "2021-06-13T10:58:25.040Z"
   },
   {
    "duration": 27,
    "start_time": "2021-06-13T10:58:41.714Z"
   },
   {
    "duration": 29,
    "start_time": "2021-06-13T10:59:01.398Z"
   },
   {
    "duration": 17703,
    "start_time": "2021-06-13T11:01:27.516Z"
   },
   {
    "duration": 6217,
    "start_time": "2021-06-13T11:02:22.563Z"
   },
   {
    "duration": 27,
    "start_time": "2021-06-13T11:02:35.404Z"
   },
   {
    "duration": 33,
    "start_time": "2021-06-13T11:04:24.429Z"
   },
   {
    "duration": 27,
    "start_time": "2021-06-13T11:05:20.968Z"
   },
   {
    "duration": 925,
    "start_time": "2021-06-14T08:01:51.578Z"
   },
   {
    "duration": 272,
    "start_time": "2021-06-14T08:02:00.585Z"
   },
   {
    "duration": 31,
    "start_time": "2021-06-14T08:02:04.552Z"
   },
   {
    "duration": 175,
    "start_time": "2021-06-14T08:02:07.739Z"
   },
   {
    "duration": 12196,
    "start_time": "2021-06-14T08:02:14.376Z"
   },
   {
    "duration": 29045,
    "start_time": "2021-06-14T08:03:38.827Z"
   },
   {
    "duration": 28737,
    "start_time": "2021-06-14T08:05:49.886Z"
   },
   {
    "duration": 514,
    "start_time": "2021-06-14T08:18:45.150Z"
   },
   {
    "duration": 43,
    "start_time": "2021-06-14T08:20:14.920Z"
   },
   {
    "duration": 28657,
    "start_time": "2021-06-14T08:21:10.042Z"
   },
   {
    "duration": 36,
    "start_time": "2021-06-14T08:22:10.510Z"
   },
   {
    "duration": 124,
    "start_time": "2021-06-14T09:12:01.444Z"
   },
   {
    "duration": 7910,
    "start_time": "2021-06-14T10:36:03.441Z"
   },
   {
    "duration": 8402,
    "start_time": "2021-06-14T10:36:55.002Z"
   },
   {
    "duration": 340,
    "start_time": "2021-06-14T10:37:56.708Z"
   },
   {
    "duration": 86,
    "start_time": "2021-06-14T10:38:18.446Z"
   },
   {
    "duration": 250,
    "start_time": "2021-06-14T10:38:23.865Z"
   },
   {
    "duration": 24,
    "start_time": "2021-06-14T10:38:30.075Z"
   },
   {
    "duration": 148,
    "start_time": "2021-06-14T10:38:33.899Z"
   },
   {
    "duration": 12041,
    "start_time": "2021-06-14T10:38:43.510Z"
   },
   {
    "duration": 28856,
    "start_time": "2021-06-14T10:39:01.869Z"
   },
   {
    "duration": 46,
    "start_time": "2021-06-14T10:39:38.580Z"
   },
   {
    "duration": 38,
    "start_time": "2021-06-14T10:39:42.156Z"
   },
   {
    "duration": 40,
    "start_time": "2021-06-14T10:39:46.381Z"
   },
   {
    "duration": 28,
    "start_time": "2021-06-14T10:39:49.147Z"
   },
   {
    "duration": 17889,
    "start_time": "2021-06-14T10:40:00.453Z"
   },
   {
    "duration": 17917,
    "start_time": "2021-06-14T10:41:26.727Z"
   },
   {
    "duration": 122,
    "start_time": "2021-06-14T10:42:00.704Z"
   },
   {
    "duration": 17962,
    "start_time": "2021-06-14T10:42:23.824Z"
   },
   {
    "duration": 27,
    "start_time": "2021-06-14T10:43:13.736Z"
   },
   {
    "duration": 26,
    "start_time": "2021-06-14T10:44:22.608Z"
   },
   {
    "duration": 109,
    "start_time": "2021-06-14T10:49:07.558Z"
   },
   {
    "duration": 18075,
    "start_time": "2021-06-14T10:49:16.293Z"
   },
   {
    "duration": 26,
    "start_time": "2021-06-14T10:49:50.597Z"
   },
   {
    "duration": 26,
    "start_time": "2021-06-14T10:51:12.378Z"
   },
   {
    "duration": 27,
    "start_time": "2021-06-14T10:53:25.529Z"
   },
   {
    "duration": 30,
    "start_time": "2021-06-14T10:56:59.433Z"
   },
   {
    "duration": 28,
    "start_time": "2021-06-14T10:57:51.448Z"
   },
   {
    "duration": 26,
    "start_time": "2021-06-14T10:59:13.623Z"
   },
   {
    "duration": 27,
    "start_time": "2021-06-14T10:59:43.293Z"
   },
   {
    "duration": 28,
    "start_time": "2021-06-14T11:00:06.164Z"
   },
   {
    "duration": 29,
    "start_time": "2021-06-14T11:15:42.915Z"
   },
   {
    "duration": 18570,
    "start_time": "2021-06-14T11:26:23.615Z"
   },
   {
    "duration": 322,
    "start_time": "2021-06-14T11:27:22.303Z"
   },
   {
    "duration": 368,
    "start_time": "2021-06-14T11:28:19.604Z"
   },
   {
    "duration": 349,
    "start_time": "2021-06-14T11:28:25.359Z"
   },
   {
    "duration": 22,
    "start_time": "2021-06-14T11:28:42.014Z"
   },
   {
    "duration": 31,
    "start_time": "2021-06-14T11:28:57.021Z"
   },
   {
    "duration": 351,
    "start_time": "2021-06-14T11:29:26.000Z"
   },
   {
    "duration": 109,
    "start_time": "2021-06-14T11:30:31.299Z"
   },
   {
    "duration": 113,
    "start_time": "2021-06-14T11:30:36.079Z"
   },
   {
    "duration": 102,
    "start_time": "2021-06-14T11:30:43.847Z"
   },
   {
    "duration": 314,
    "start_time": "2021-06-14T11:30:50.361Z"
   },
   {
    "duration": 108,
    "start_time": "2021-06-14T11:30:54.398Z"
   },
   {
    "duration": 105,
    "start_time": "2021-06-14T11:31:05.746Z"
   },
   {
    "duration": 31,
    "start_time": "2021-06-14T11:31:09.639Z"
   },
   {
    "duration": 49,
    "start_time": "2021-06-14T11:31:32.514Z"
   },
   {
    "duration": 28879,
    "start_time": "2021-06-14T11:32:59.226Z"
   },
   {
    "duration": 2490,
    "start_time": "2021-06-14T11:34:30.270Z"
   },
   {
    "duration": 2370,
    "start_time": "2021-06-14T11:34:56.349Z"
   },
   {
    "duration": 88,
    "start_time": "2021-06-14T11:35:07.702Z"
   },
   {
    "duration": 242,
    "start_time": "2021-06-14T11:35:13.609Z"
   },
   {
    "duration": 21,
    "start_time": "2021-06-14T11:35:20.972Z"
   },
   {
    "duration": 133,
    "start_time": "2021-06-14T11:35:33.201Z"
   },
   {
    "duration": 158,
    "start_time": "2021-06-14T11:36:38.767Z"
   },
   {
    "duration": 355,
    "start_time": "2021-06-14T12:21:04.423Z"
   },
   {
    "duration": 130,
    "start_time": "2021-06-14T12:21:16.365Z"
   },
   {
    "duration": 247,
    "start_time": "2021-06-14T12:21:23.837Z"
   },
   {
    "duration": 26,
    "start_time": "2021-06-14T12:21:29.414Z"
   },
   {
    "duration": 152,
    "start_time": "2021-06-14T12:21:35.702Z"
   },
   {
    "duration": 12352,
    "start_time": "2021-06-14T12:21:40.345Z"
   },
   {
    "duration": 18579,
    "start_time": "2021-06-14T12:22:01.816Z"
   },
   {
    "duration": 38,
    "start_time": "2021-06-14T12:22:30.735Z"
   },
   {
    "duration": 28,
    "start_time": "2021-06-14T12:22:37.154Z"
   },
   {
    "duration": 43,
    "start_time": "2021-06-14T12:22:40.976Z"
   },
   {
    "duration": 44,
    "start_time": "2021-06-14T12:22:44.723Z"
   },
   {
    "duration": 94,
    "start_time": "2021-06-14T14:17:01.241Z"
   },
   {
    "duration": 271,
    "start_time": "2021-06-14T14:17:11.686Z"
   },
   {
    "duration": 24,
    "start_time": "2021-06-14T14:17:14.793Z"
   },
   {
    "duration": 145,
    "start_time": "2021-06-14T14:17:19.418Z"
   },
   {
    "duration": 15074,
    "start_time": "2021-06-14T14:17:22.970Z"
   },
   {
    "duration": 29428,
    "start_time": "2021-06-14T14:17:50.470Z"
   },
   {
    "duration": 51,
    "start_time": "2021-06-14T14:18:26.363Z"
   },
   {
    "duration": 40,
    "start_time": "2021-06-14T14:18:30.201Z"
   },
   {
    "duration": 39,
    "start_time": "2021-06-14T14:18:32.846Z"
   },
   {
    "duration": 101,
    "start_time": "2021-06-14T14:19:17.683Z"
   },
   {
    "duration": 38,
    "start_time": "2021-06-14T14:19:51.079Z"
   },
   {
    "duration": 41,
    "start_time": "2021-06-14T14:20:22.055Z"
   },
   {
    "duration": 39,
    "start_time": "2021-06-14T14:20:49.889Z"
   },
   {
    "duration": 109,
    "start_time": "2021-06-14T14:23:24.632Z"
   },
   {
    "duration": 110,
    "start_time": "2021-06-14T14:23:40.365Z"
   },
   {
    "duration": 35,
    "start_time": "2021-06-14T14:23:48.700Z"
   },
   {
    "duration": 387,
    "start_time": "2021-06-14T14:24:33.559Z"
   },
   {
    "duration": 302,
    "start_time": "2021-06-14T14:31:06.970Z"
   },
   {
    "duration": 346,
    "start_time": "2021-06-14T14:55:09.750Z"
   },
   {
    "duration": 34,
    "start_time": "2021-06-14T14:55:38.099Z"
   },
   {
    "duration": 2414,
    "start_time": "2021-06-14T14:58:17.865Z"
   },
   {
    "duration": 89,
    "start_time": "2021-06-14T14:58:39.299Z"
   },
   {
    "duration": 251,
    "start_time": "2021-06-14T14:58:43.361Z"
   },
   {
    "duration": 23,
    "start_time": "2021-06-14T14:58:47.127Z"
   },
   {
    "duration": 146,
    "start_time": "2021-06-14T14:58:53.604Z"
   },
   {
    "duration": 13384,
    "start_time": "2021-06-14T15:00:12.890Z"
   },
   {
    "duration": 352,
    "start_time": "2021-06-14T15:06:31.843Z"
   },
   {
    "duration": 91,
    "start_time": "2021-06-14T15:06:52.930Z"
   },
   {
    "duration": 243,
    "start_time": "2021-06-14T15:06:58.518Z"
   },
   {
    "duration": 23,
    "start_time": "2021-06-14T15:07:01.399Z"
   },
   {
    "duration": 147,
    "start_time": "2021-06-14T15:07:05.992Z"
   },
   {
    "duration": 15248,
    "start_time": "2021-06-14T15:07:09.628Z"
   },
   {
    "duration": 29489,
    "start_time": "2021-06-14T15:07:29.298Z"
   },
   {
    "duration": 46,
    "start_time": "2021-06-14T15:08:11.876Z"
   },
   {
    "duration": 42,
    "start_time": "2021-06-14T15:08:18.643Z"
   },
   {
    "duration": 28,
    "start_time": "2021-06-14T15:08:55.361Z"
   },
   {
    "duration": 27,
    "start_time": "2021-06-14T15:09:32.308Z"
   },
   {
    "duration": 13437,
    "start_time": "2021-06-14T15:10:54.725Z"
   },
   {
    "duration": 16875,
    "start_time": "2021-06-14T15:11:30.938Z"
   },
   {
    "duration": 12835,
    "start_time": "2021-06-14T15:12:06.575Z"
   },
   {
    "duration": 12587,
    "start_time": "2021-06-14T15:12:26.719Z"
   },
   {
    "duration": 827,
    "start_time": "2021-06-15T07:56:50.084Z"
   },
   {
    "duration": 246,
    "start_time": "2021-06-15T07:56:59.102Z"
   },
   {
    "duration": 23,
    "start_time": "2021-06-15T07:57:03.534Z"
   },
   {
    "duration": 148,
    "start_time": "2021-06-15T07:57:10.622Z"
   },
   {
    "duration": 11870,
    "start_time": "2021-06-15T07:57:16.250Z"
   },
   {
    "duration": 28549,
    "start_time": "2021-06-15T07:57:48.752Z"
   },
   {
    "duration": 35,
    "start_time": "2021-06-15T07:59:56.489Z"
   },
   {
    "duration": 31,
    "start_time": "2021-06-15T08:00:00.623Z"
   },
   {
    "duration": 17693,
    "start_time": "2021-06-15T08:00:04.224Z"
   },
   {
    "duration": 24,
    "start_time": "2021-06-15T08:00:28.505Z"
   },
   {
    "duration": 27,
    "start_time": "2021-06-15T08:00:39.323Z"
   },
   {
    "duration": 29,
    "start_time": "2021-06-15T08:00:42.877Z"
   },
   {
    "duration": 30,
    "start_time": "2021-06-15T08:00:51.174Z"
   },
   {
    "duration": 27,
    "start_time": "2021-06-15T08:00:55.765Z"
   },
   {
    "duration": 837,
    "start_time": "2021-06-15T10:05:26.766Z"
   },
   {
    "duration": 249,
    "start_time": "2021-06-15T10:05:27.606Z"
   },
   {
    "duration": 22,
    "start_time": "2021-06-15T10:05:27.858Z"
   },
   {
    "duration": 157,
    "start_time": "2021-06-15T10:05:27.883Z"
   },
   {
    "duration": 11270,
    "start_time": "2021-06-15T10:05:28.042Z"
   },
   {
    "duration": 24,
    "start_time": "2021-06-15T10:05:39.314Z"
   },
   {
    "duration": 30,
    "start_time": "2021-06-15T10:05:39.340Z"
   },
   {
    "duration": 17893,
    "start_time": "2021-06-15T10:05:39.373Z"
   },
   {
    "duration": 25,
    "start_time": "2021-06-15T10:05:57.268Z"
   },
   {
    "duration": 38,
    "start_time": "2021-06-15T10:05:57.295Z"
   },
   {
    "duration": 43,
    "start_time": "2021-06-15T10:05:57.336Z"
   },
   {
    "duration": 25,
    "start_time": "2021-06-15T10:05:57.381Z"
   },
   {
    "duration": 64,
    "start_time": "2021-06-15T10:05:57.409Z"
   },
   {
    "duration": 434,
    "start_time": "2021-06-16T13:46:35.410Z"
   },
   {
    "duration": 878,
    "start_time": "2021-06-16T13:46:51.894Z"
   },
   {
    "duration": 246,
    "start_time": "2021-06-16T13:46:58.537Z"
   },
   {
    "duration": 23,
    "start_time": "2021-06-16T13:47:14.878Z"
   },
   {
    "duration": 155,
    "start_time": "2021-06-16T13:47:17.883Z"
   },
   {
    "duration": 11983,
    "start_time": "2021-06-16T13:47:21.500Z"
   },
   {
    "duration": 18,
    "start_time": "2021-06-16T13:48:08.591Z"
   },
   {
    "duration": 26,
    "start_time": "2021-06-16T13:48:14.425Z"
   },
   {
    "duration": 18,
    "start_time": "2021-06-16T13:48:16.900Z"
   },
   {
    "duration": 17496,
    "start_time": "2021-06-16T13:48:20.212Z"
   },
   {
    "duration": 25,
    "start_time": "2021-06-16T13:48:50.539Z"
   },
   {
    "duration": 33,
    "start_time": "2021-06-16T13:48:55.944Z"
   },
   {
    "duration": 28,
    "start_time": "2021-06-16T13:48:59.596Z"
   },
   {
    "duration": 29,
    "start_time": "2021-06-16T14:02:22.818Z"
   },
   {
    "duration": 28,
    "start_time": "2021-06-16T14:02:51.317Z"
   },
   {
    "duration": 27,
    "start_time": "2021-06-16T14:03:08.666Z"
   },
   {
    "duration": 35,
    "start_time": "2021-06-16T14:03:27.220Z"
   }
  ],
  "kernelspec": {
   "display_name": "Python 3",
   "language": "python",
   "name": "python3"
  },
  "language_info": {
   "codemirror_mode": {
    "name": "ipython",
    "version": 3
   },
   "file_extension": ".py",
   "mimetype": "text/x-python",
   "name": "python",
   "nbconvert_exporter": "python",
   "pygments_lexer": "ipython3",
   "version": "3.7.8"
  },
  "toc": {
   "base_numbering": 1,
   "nav_menu": {},
   "number_sections": true,
   "sideBar": true,
   "skip_h1_title": true,
   "title_cell": "Table of Contents",
   "title_sidebar": "Contents",
   "toc_cell": false,
   "toc_position": {},
   "toc_section_display": true,
   "toc_window_display": false
  }
 },
 "nbformat": 4,
 "nbformat_minor": 2
}
